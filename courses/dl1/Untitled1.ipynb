{
 "cells": [
  {
   "cell_type": "code",
   "execution_count": 1,
   "metadata": {},
   "outputs": [],
   "source": [
    "def get_missing(indices):\n",
    "    acc = []\n",
    "    for x in range(1, 12800):\n",
    "        if x not in indices:\n",
    "            acc.append(x)\n",
    "    return acc"
   ]
  },
  {
   "cell_type": "code",
   "execution_count": 2,
   "metadata": {},
   "outputs": [],
   "source": [
    "def get_filenames():\n",
    "    filenames = data.test_ds.fnames\n",
    "    filenames = [trim_jpeg(filename) for filename in filenames]\n",
    "    return filenames"
   ]
  },
  {
   "cell_type": "code",
   "execution_count": 15,
   "metadata": {},
   "outputs": [],
   "source": [
    "def trim_jpeg(filename):\n",
    "    dot_index = filename.index('.')\n",
    "    return filename[:dot_index]"
   ]
  },
  {
   "cell_type": "code",
   "execution_count": 16,
   "metadata": {},
   "outputs": [],
   "source": [
    "indices = [int(trim_jpeg(filename)) for filename in listdir(f'{PATH}test')]"
   ]
  },
  {
   "cell_type": "code",
   "execution_count": 5,
   "metadata": {},
   "outputs": [],
   "source": [
    "from os import listdir"
   ]
  },
  {
   "cell_type": "code",
   "execution_count": 6,
   "metadata": {},
   "outputs": [],
   "source": [
    "PATH = '/home/paperspace/data/materialist/'"
   ]
  },
  {
   "cell_type": "code",
   "execution_count": 13,
   "metadata": {},
   "outputs": [],
   "source": [
    "filenames = listdir(f'{PATH}test')"
   ]
  },
  {
   "cell_type": "code",
   "execution_count": 9,
   "metadata": {},
   "outputs": [
    {
     "ename": "ValueError",
     "evalue": "invalid literal for int() with base 10: '9885.jpg'",
     "output_type": "error",
     "traceback": [
      "\u001b[0;31m---------------------------------------------------------------------------\u001b[0m",
      "\u001b[0;31mValueError\u001b[0m                                Traceback (most recent call last)",
      "\u001b[0;32m<ipython-input-9-1458dbe43d66>\u001b[0m in \u001b[0;36m<module>\u001b[0;34m()\u001b[0m\n\u001b[0;32m----> 1\u001b[0;31m \u001b[0mindices\u001b[0m \u001b[0;34m=\u001b[0m \u001b[0;34m[\u001b[0m\u001b[0mint\u001b[0m\u001b[0;34m(\u001b[0m\u001b[0mfilename\u001b[0m\u001b[0;34m)\u001b[0m \u001b[0;32mfor\u001b[0m \u001b[0mfilename\u001b[0m \u001b[0;32min\u001b[0m \u001b[0mfilenames\u001b[0m\u001b[0;34m]\u001b[0m\u001b[0;34m\u001b[0m\u001b[0m\n\u001b[0m",
      "\u001b[0;32m<ipython-input-9-1458dbe43d66>\u001b[0m in \u001b[0;36m<listcomp>\u001b[0;34m(.0)\u001b[0m\n\u001b[0;32m----> 1\u001b[0;31m \u001b[0mindices\u001b[0m \u001b[0;34m=\u001b[0m \u001b[0;34m[\u001b[0m\u001b[0mint\u001b[0m\u001b[0;34m(\u001b[0m\u001b[0mfilename\u001b[0m\u001b[0;34m)\u001b[0m \u001b[0;32mfor\u001b[0m \u001b[0mfilename\u001b[0m \u001b[0;32min\u001b[0m \u001b[0mfilenames\u001b[0m\u001b[0;34m]\u001b[0m\u001b[0;34m\u001b[0m\u001b[0m\n\u001b[0m",
      "\u001b[0;31mValueError\u001b[0m: invalid literal for int() with base 10: '9885.jpg'"
     ]
    }
   ],
   "source": [
    "indices = [int(filename) for filename in filenames]"
   ]
  },
  {
   "cell_type": "code",
   "execution_count": 17,
   "metadata": {
    "scrolled": true
   },
   "outputs": [
    {
     "data": {
      "text/plain": [
       "[9885,\n",
       " 2701,\n",
       " 11231,\n",
       " 2964,\n",
       " 10651,\n",
       " 8302,\n",
       " 3656,\n",
       " 146,\n",
       " 2383,\n",
       " 8375,\n",
       " 12209,\n",
       " 2759,\n",
       " 7196,\n",
       " 6623,\n",
       " 9046,\n",
       " 3139,\n",
       " 2993,\n",
       " 7106,\n",
       " 1597,\n",
       " 7190,\n",
       " 4406,\n",
       " 11664,\n",
       " 9112,\n",
       " 12505,\n",
       " 1127,\n",
       " 8657,\n",
       " 5462,\n",
       " 4651,\n",
       " 9998,\n",
       " 12051,\n",
       " 11696,\n",
       " 1547,\n",
       " 12748,\n",
       " 4219,\n",
       " 8107,\n",
       " 9354,\n",
       " 6594,\n",
       " 10312,\n",
       " 8801,\n",
       " 8068,\n",
       " 8700,\n",
       " 6761,\n",
       " 7812,\n",
       " 3116,\n",
       " 6870,\n",
       " 11602,\n",
       " 7636,\n",
       " 5760,\n",
       " 962,\n",
       " 82,\n",
       " 6615,\n",
       " 3189,\n",
       " 7267,\n",
       " 11532,\n",
       " 5915,\n",
       " 10349,\n",
       " 5024,\n",
       " 12531,\n",
       " 1366,\n",
       " 4340,\n",
       " 11549,\n",
       " 1411,\n",
       " 6320,\n",
       " 6467,\n",
       " 9706,\n",
       " 2232,\n",
       " 3673,\n",
       " 729,\n",
       " 7716,\n",
       " 3472,\n",
       " 2916,\n",
       " 71,\n",
       " 8884,\n",
       " 4211,\n",
       " 8475,\n",
       " 5911,\n",
       " 7686,\n",
       " 9639,\n",
       " 12548,\n",
       " 8314,\n",
       " 125,\n",
       " 4764,\n",
       " 1568,\n",
       " 2359,\n",
       " 295,\n",
       " 3828,\n",
       " 4727,\n",
       " 2466,\n",
       " 7297,\n",
       " 3016,\n",
       " 7401,\n",
       " 4871,\n",
       " 2498,\n",
       " 8486,\n",
       " 9123,\n",
       " 229,\n",
       " 1647,\n",
       " 9234,\n",
       " 11020,\n",
       " 6022,\n",
       " 10237,\n",
       " 9467,\n",
       " 9721,\n",
       " 2870,\n",
       " 9222,\n",
       " 853,\n",
       " 2094,\n",
       " 3839,\n",
       " 7545,\n",
       " 2642,\n",
       " 843,\n",
       " 6785,\n",
       " 3650,\n",
       " 1332,\n",
       " 10158,\n",
       " 8883,\n",
       " 8251,\n",
       " 9702,\n",
       " 1825,\n",
       " 5089,\n",
       " 12406,\n",
       " 1490,\n",
       " 4611,\n",
       " 6665,\n",
       " 12709,\n",
       " 4975,\n",
       " 668,\n",
       " 998,\n",
       " 8839,\n",
       " 7104,\n",
       " 1977,\n",
       " 11816,\n",
       " 5835,\n",
       " 1322,\n",
       " 7162,\n",
       " 2042,\n",
       " 9417,\n",
       " 10707,\n",
       " 2794,\n",
       " 6370,\n",
       " 9745,\n",
       " 5117,\n",
       " 3253,\n",
       " 1628,\n",
       " 1124,\n",
       " 3635,\n",
       " 11498,\n",
       " 11480,\n",
       " 8208,\n",
       " 475,\n",
       " 6694,\n",
       " 9469,\n",
       " 9575,\n",
       " 7016,\n",
       " 1604,\n",
       " 5104,\n",
       " 618,\n",
       " 2699,\n",
       " 5785,\n",
       " 7744,\n",
       " 10999,\n",
       " 12089,\n",
       " 9476,\n",
       " 2920,\n",
       " 620,\n",
       " 1529,\n",
       " 9616,\n",
       " 6972,\n",
       " 1909,\n",
       " 2440,\n",
       " 11565,\n",
       " 6881,\n",
       " 10357,\n",
       " 9055,\n",
       " 7833,\n",
       " 9128,\n",
       " 4534,\n",
       " 9625,\n",
       " 11767,\n",
       " 9550,\n",
       " 4114,\n",
       " 10607,\n",
       " 9507,\n",
       " 2887,\n",
       " 9224,\n",
       " 670,\n",
       " 11614,\n",
       " 11980,\n",
       " 10287,\n",
       " 12555,\n",
       " 6160,\n",
       " 6966,\n",
       " 9504,\n",
       " 1975,\n",
       " 2342,\n",
       " 6260,\n",
       " 7420,\n",
       " 7077,\n",
       " 600,\n",
       " 1668,\n",
       " 7343,\n",
       " 3473,\n",
       " 7959,\n",
       " 9002,\n",
       " 6228,\n",
       " 8258,\n",
       " 8854,\n",
       " 7095,\n",
       " 6511,\n",
       " 5195,\n",
       " 12261,\n",
       " 8327,\n",
       " 9956,\n",
       " 5254,\n",
       " 11487,\n",
       " 9235,\n",
       " 1912,\n",
       " 12432,\n",
       " 277,\n",
       " 8764,\n",
       " 3551,\n",
       " 354,\n",
       " 1139,\n",
       " 2454,\n",
       " 4678,\n",
       " 5125,\n",
       " 4945,\n",
       " 9346,\n",
       " 6649,\n",
       " 2773,\n",
       " 5198,\n",
       " 5220,\n",
       " 6994,\n",
       " 5743,\n",
       " 11349,\n",
       " 6657,\n",
       " 11159,\n",
       " 8054,\n",
       " 9567,\n",
       " 1287,\n",
       " 2199,\n",
       " 11730,\n",
       " 9368,\n",
       " 8105,\n",
       " 744,\n",
       " 10653,\n",
       " 7141,\n",
       " 10611,\n",
       " 11666,\n",
       " 2299,\n",
       " 1327,\n",
       " 8780,\n",
       " 9762,\n",
       " 1035,\n",
       " 10539,\n",
       " 2064,\n",
       " 6381,\n",
       " 8413,\n",
       " 7037,\n",
       " 6946,\n",
       " 2594,\n",
       " 7609,\n",
       " 4777,\n",
       " 3277,\n",
       " 5400,\n",
       " 3292,\n",
       " 12453,\n",
       " 1278,\n",
       " 12086,\n",
       " 11048,\n",
       " 7542,\n",
       " 6642,\n",
       " 5240,\n",
       " 4799,\n",
       " 3636,\n",
       " 539,\n",
       " 12370,\n",
       " 4069,\n",
       " 11529,\n",
       " 3133,\n",
       " 6782,\n",
       " 7669,\n",
       " 10173,\n",
       " 5957,\n",
       " 8980,\n",
       " 10794,\n",
       " 8625,\n",
       " 8110,\n",
       " 12483,\n",
       " 3480,\n",
       " 1058,\n",
       " 4101,\n",
       " 7250,\n",
       " 4985,\n",
       " 12674,\n",
       " 8911,\n",
       " 10021,\n",
       " 12526,\n",
       " 9037,\n",
       " 2557,\n",
       " 6077,\n",
       " 11706,\n",
       " 5509,\n",
       " 4977,\n",
       " 455,\n",
       " 4719,\n",
       " 302,\n",
       " 10261,\n",
       " 9388,\n",
       " 5952,\n",
       " 9742,\n",
       " 5077,\n",
       " 8038,\n",
       " 6589,\n",
       " 10404,\n",
       " 6502,\n",
       " 10107,\n",
       " 335,\n",
       " 752,\n",
       " 11344,\n",
       " 1121,\n",
       " 11138,\n",
       " 8899,\n",
       " 8660,\n",
       " 10390,\n",
       " 4019,\n",
       " 12427,\n",
       " 68,\n",
       " 4404,\n",
       " 8887,\n",
       " 3093,\n",
       " 1732,\n",
       " 11187,\n",
       " 4263,\n",
       " 3326,\n",
       " 8164,\n",
       " 4365,\n",
       " 524,\n",
       " 9198,\n",
       " 5824,\n",
       " 11072,\n",
       " 3777,\n",
       " 1866,\n",
       " 10556,\n",
       " 11447,\n",
       " 2434,\n",
       " 12011,\n",
       " 7848,\n",
       " 7446,\n",
       " 1075,\n",
       " 6707,\n",
       " 1034,\n",
       " 337,\n",
       " 10545,\n",
       " 225,\n",
       " 1274,\n",
       " 11626,\n",
       " 11050,\n",
       " 685,\n",
       " 10921,\n",
       " 7198,\n",
       " 12276,\n",
       " 4996,\n",
       " 2730,\n",
       " 9846,\n",
       " 6602,\n",
       " 12755,\n",
       " 11733,\n",
       " 3537,\n",
       " 6383,\n",
       " 3553,\n",
       " 9818,\n",
       " 6344,\n",
       " 8016,\n",
       " 964,\n",
       " 11149,\n",
       " 5863,\n",
       " 1296,\n",
       " 2714,\n",
       " 12340,\n",
       " 12296,\n",
       " 12068,\n",
       " 3825,\n",
       " 2179,\n",
       " 3930,\n",
       " 7085,\n",
       " 10119,\n",
       " 7757,\n",
       " 658,\n",
       " 9873,\n",
       " 8040,\n",
       " 2576,\n",
       " 3263,\n",
       " 5199,\n",
       " 12054,\n",
       " 3516,\n",
       " 5098,\n",
       " 6267,\n",
       " 7867,\n",
       " 6117,\n",
       " 4266,\n",
       " 2202,\n",
       " 572,\n",
       " 2792,\n",
       " 9317,\n",
       " 12626,\n",
       " 12301,\n",
       " 11805,\n",
       " 4643,\n",
       " 7238,\n",
       " 5592,\n",
       " 2485,\n",
       " 11744,\n",
       " 5386,\n",
       " 6528,\n",
       " 11110,\n",
       " 8803,\n",
       " 8492,\n",
       " 4814,\n",
       " 1396,\n",
       " 8332,\n",
       " 7907,\n",
       " 11993,\n",
       " 1880,\n",
       " 12060,\n",
       " 12389,\n",
       " 12085,\n",
       " 6253,\n",
       " 5540,\n",
       " 3004,\n",
       " 7489,\n",
       " 2622,\n",
       " 3008,\n",
       " 751,\n",
       " 1619,\n",
       " 5004,\n",
       " 4995,\n",
       " 4976,\n",
       " 1854,\n",
       " 5448,\n",
       " 6261,\n",
       " 11158,\n",
       " 1004,\n",
       " 5796,\n",
       " 10318,\n",
       " 10519,\n",
       " 5555,\n",
       " 8134,\n",
       " 3822,\n",
       " 10299,\n",
       " 12020,\n",
       " 10303,\n",
       " 11673,\n",
       " 11734,\n",
       " 3682,\n",
       " 75,\n",
       " 11416,\n",
       " 2033,\n",
       " 2735,\n",
       " 11934,\n",
       " 5029,\n",
       " 10457,\n",
       " 1178,\n",
       " 1723,\n",
       " 2558,\n",
       " 7229,\n",
       " 12321,\n",
       " 2891,\n",
       " 6895,\n",
       " 8982,\n",
       " 4882,\n",
       " 611,\n",
       " 10853,\n",
       " 11160,\n",
       " 6089,\n",
       " 4851,\n",
       " 5919,\n",
       " 10411,\n",
       " 11768,\n",
       " 10684,\n",
       " 12106,\n",
       " 9303,\n",
       " 11257,\n",
       " 6937,\n",
       " 7142,\n",
       " 6580,\n",
       " 6249,\n",
       " 552,\n",
       " 8877,\n",
       " 8061,\n",
       " 4162,\n",
       " 2524,\n",
       " 1259,\n",
       " 2610,\n",
       " 3271,\n",
       " 12204,\n",
       " 9849,\n",
       " 9961,\n",
       " 10897,\n",
       " 10695,\n",
       " 7724,\n",
       " 10321,\n",
       " 8567,\n",
       " 8406,\n",
       " 11476,\n",
       " 9683,\n",
       " 11290,\n",
       " 42,\n",
       " 4971,\n",
       " 9268,\n",
       " 9577,\n",
       " 12587,\n",
       " 8179,\n",
       " 7998,\n",
       " 7005,\n",
       " 5613,\n",
       " 745,\n",
       " 8753,\n",
       " 2295,\n",
       " 8802,\n",
       " 4338,\n",
       " 9946,\n",
       " 5713,\n",
       " 5756,\n",
       " 5603,\n",
       " 8400,\n",
       " 6401,\n",
       " 2045,\n",
       " 9095,\n",
       " 3014,\n",
       " 959,\n",
       " 3801,\n",
       " 2441,\n",
       " 3918,\n",
       " 11380,\n",
       " 6255,\n",
       " 5594,\n",
       " 8717,\n",
       " 9997,\n",
       " 10848,\n",
       " 854,\n",
       " 9631,\n",
       " 3919,\n",
       " 3643,\n",
       " 8128,\n",
       " 11631,\n",
       " 9359,\n",
       " 4850,\n",
       " 12141,\n",
       " 11103,\n",
       " 6391,\n",
       " 10620,\n",
       " 8841,\n",
       " 4398,\n",
       " 6057,\n",
       " 10643,\n",
       " 7286,\n",
       " 941,\n",
       " 6225,\n",
       " 203,\n",
       " 7817,\n",
       " 10477,\n",
       " 5368,\n",
       " 3734,\n",
       " 9579,\n",
       " 10300,\n",
       " 6765,\n",
       " 3852,\n",
       " 3408,\n",
       " 1218,\n",
       " 11420,\n",
       " 7624,\n",
       " 2092,\n",
       " 4487,\n",
       " 7319,\n",
       " 4043,\n",
       " 6294,\n",
       " 4906,\n",
       " 8183,\n",
       " 10868,\n",
       " 6440,\n",
       " 384,\n",
       " 3857,\n",
       " 4889,\n",
       " 1892,\n",
       " 3040,\n",
       " 10124,\n",
       " 5431,\n",
       " 3595,\n",
       " 10998,\n",
       " 6760,\n",
       " 12337,\n",
       " 11248,\n",
       " 9495,\n",
       " 6556,\n",
       " 291,\n",
       " 11847,\n",
       " 2195,\n",
       " 10449,\n",
       " 8497,\n",
       " 5827,\n",
       " 6695,\n",
       " 5899,\n",
       " 1950,\n",
       " 9008,\n",
       " 97,\n",
       " 4188,\n",
       " 11490,\n",
       " 5136,\n",
       " 3874,\n",
       " 2344,\n",
       " 2117,\n",
       " 11830,\n",
       " 11659,\n",
       " 821,\n",
       " 4823,\n",
       " 4798,\n",
       " 1172,\n",
       " 9826,\n",
       " 2549,\n",
       " 4203,\n",
       " 6974,\n",
       " 8944,\n",
       " 9291,\n",
       " 1760,\n",
       " 5829,\n",
       " 7139,\n",
       " 1638,\n",
       " 2158,\n",
       " 2320,\n",
       " 4859,\n",
       " 7921,\n",
       " 10048,\n",
       " 5916,\n",
       " 10313,\n",
       " 7150,\n",
       " 7806,\n",
       " 978,\n",
       " 8174,\n",
       " 2364,\n",
       " 12520,\n",
       " 4093,\n",
       " 3101,\n",
       " 9331,\n",
       " 3686,\n",
       " 11843,\n",
       " 5130,\n",
       " 6685,\n",
       " 1740,\n",
       " 702,\n",
       " 1177,\n",
       " 2070,\n",
       " 1428,\n",
       " 6482,\n",
       " 2509,\n",
       " 8723,\n",
       " 8295,\n",
       " 12152,\n",
       " 6519,\n",
       " 6500,\n",
       " 9420,\n",
       " 6727,\n",
       " 4886,\n",
       " 1176,\n",
       " 1569,\n",
       " 10541,\n",
       " 3640,\n",
       " 7347,\n",
       " 3391,\n",
       " 9344,\n",
       " 2743,\n",
       " 7625,\n",
       " 4349,\n",
       " 9421,\n",
       " 11692,\n",
       " 7206,\n",
       " 9079,\n",
       " 12568,\n",
       " 356,\n",
       " 5799,\n",
       " 3727,\n",
       " 4502,\n",
       " 5887,\n",
       " 8096,\n",
       " 2796,\n",
       " 12042,\n",
       " 5159,\n",
       " 11021,\n",
       " 9842,\n",
       " 8429,\n",
       " 200,\n",
       " 7571,\n",
       " 10070,\n",
       " 1235,\n",
       " 7378,\n",
       " 11871,\n",
       " 9427,\n",
       " 6280,\n",
       " 12010,\n",
       " 166,\n",
       " 10272,\n",
       " 10055,\n",
       " 3547,\n",
       " 10012,\n",
       " 8013,\n",
       " 971,\n",
       " 4918,\n",
       " 11196,\n",
       " 9295,\n",
       " 9318,\n",
       " 10459,\n",
       " 2262,\n",
       " 3826,\n",
       " 6620,\n",
       " 5204,\n",
       " 8473,\n",
       " 6983,\n",
       " 9366,\n",
       " 6034,\n",
       " 2512,\n",
       " 7258,\n",
       " 3981,\n",
       " 11691,\n",
       " 9404,\n",
       " 5889,\n",
       " 3691,\n",
       " 4220,\n",
       " 11952,\n",
       " 9170,\n",
       " 3118,\n",
       " 11039,\n",
       " 4873,\n",
       " 12710,\n",
       " 6173,\n",
       " 5227,\n",
       " 7570,\n",
       " 9959,\n",
       " 3973,\n",
       " 1706,\n",
       " 6899,\n",
       " 6666,\n",
       " 3979,\n",
       " 11812,\n",
       " 3221,\n",
       " 8103,\n",
       " 8833,\n",
       " 11002,\n",
       " 10822,\n",
       " 10884,\n",
       " 7760,\n",
       " 2896,\n",
       " 12201,\n",
       " 1030,\n",
       " 45,\n",
       " 9221,\n",
       " 4728,\n",
       " 6097,\n",
       " 8793,\n",
       " 5473,\n",
       " 10093,\n",
       " 6625,\n",
       " 1714,\n",
       " 11932,\n",
       " 10461,\n",
       " 4448,\n",
       " 12283,\n",
       " 9811,\n",
       " 283,\n",
       " 6993,\n",
       " 339,\n",
       " 4179,\n",
       " 4546,\n",
       " 5943,\n",
       " 5650,\n",
       " 3977,\n",
       " 6754,\n",
       " 10178,\n",
       " 8490,\n",
       " 5268,\n",
       " 9696,\n",
       " 11773,\n",
       " 903,\n",
       " 3620,\n",
       " 1350,\n",
       " 5371,\n",
       " 8238,\n",
       " 3592,\n",
       " 947,\n",
       " 7639,\n",
       " 6135,\n",
       " 6317,\n",
       " 6766,\n",
       " 12065,\n",
       " 8678,\n",
       " 2734,\n",
       " 1472,\n",
       " 2825,\n",
       " 1258,\n",
       " 1752,\n",
       " 10801,\n",
       " 11120,\n",
       " 10192,\n",
       " 2225,\n",
       " 1112,\n",
       " 7081,\n",
       " 6719,\n",
       " 768,\n",
       " 6062,\n",
       " 6461,\n",
       " 3242,\n",
       " 5407,\n",
       " 12058,\n",
       " 7063,\n",
       " 1907,\n",
       " 1068,\n",
       " 4963,\n",
       " 4077,\n",
       " 767,\n",
       " 10952,\n",
       " 3225,\n",
       " 7695,\n",
       " 5947,\n",
       " 4194,\n",
       " 9773,\n",
       " 655,\n",
       " 652,\n",
       " 8377,\n",
       " 7432,\n",
       " 4241,\n",
       " 6006,\n",
       " 5091,\n",
       " 5211,\n",
       " 2135,\n",
       " 8747,\n",
       " 10509,\n",
       " 3033,\n",
       " 1343,\n",
       " 2310,\n",
       " 2883,\n",
       " 7582,\n",
       " 1649,\n",
       " 4731,\n",
       " 5107,\n",
       " 7649,\n",
       " 5216,\n",
       " 597,\n",
       " 1734,\n",
       " 95,\n",
       " 500,\n",
       " 12365,\n",
       " 6876,\n",
       " 8323,\n",
       " 11049,\n",
       " 8592,\n",
       " 2874,\n",
       " 12616,\n",
       " 3792,\n",
       " 3743,\n",
       " 5622,\n",
       " 11246,\n",
       " 795,\n",
       " 4707,\n",
       " 8513,\n",
       " 9036,\n",
       " 6290,\n",
       " 6390,\n",
       " 6759,\n",
       " 1477,\n",
       " 9624,\n",
       " 3609,\n",
       " 4802,\n",
       " 9723,\n",
       " 7869,\n",
       " 2579,\n",
       " 11458,\n",
       " 5373,\n",
       " 4847,\n",
       " 6410,\n",
       " 2285,\n",
       " 683,\n",
       " 5434,\n",
       " 1429,\n",
       " 2749,\n",
       " 12404,\n",
       " 9558,\n",
       " 12667,\n",
       " 1737,\n",
       " 1822,\n",
       " 7501,\n",
       " 2841,\n",
       " 8948,\n",
       " 995,\n",
       " 6687,\n",
       " 12356,\n",
       " 11224,\n",
       " 1792,\n",
       " 10899,\n",
       " 10384,\n",
       " 8382,\n",
       " 8856,\n",
       " 8637,\n",
       " 195,\n",
       " 10189,\n",
       " 11844,\n",
       " 5690,\n",
       " 4618,\n",
       " 10195,\n",
       " 12650,\n",
       " 4659,\n",
       " 4239,\n",
       " 5395,\n",
       " 8829,\n",
       " 5414,\n",
       " 1198,\n",
       " 4868,\n",
       " 72,\n",
       " 375,\n",
       " 2824,\n",
       " 323,\n",
       " 9615,\n",
       " 4342,\n",
       " 1410,\n",
       " 8624,\n",
       " 5529,\n",
       " 8710,\n",
       " 12131,\n",
       " 9314,\n",
       " 10456,\n",
       " 11728,\n",
       " 7852,\n",
       " 2573,\n",
       " 1311,\n",
       " 5259,\n",
       " 3713,\n",
       " 11754,\n",
       " 6678,\n",
       " 1824,\n",
       " 1827,\n",
       " 11665,\n",
       " 10933,\n",
       " 2089,\n",
       " 8019,\n",
       " 8414,\n",
       " 3598,\n",
       " 12441,\n",
       " 7143,\n",
       " 1029,\n",
       " 3158,\n",
       " 12366,\n",
       " 5884,\n",
       " 310,\n",
       " 8477,\n",
       " 12161,\n",
       " 7117,\n",
       " 9565,\n",
       " 11940,\n",
       " 4243,\n",
       " 4917,\n",
       " 3525,\n",
       " 498,\n",
       " 77,\n",
       " 9595,\n",
       " 6804,\n",
       " 10662,\n",
       " 950,\n",
       " 6178,\n",
       " 9621,\n",
       " 3412,\n",
       " 2360,\n",
       " 762,\n",
       " 2585,\n",
       " 8783,\n",
       " 10031,\n",
       " 3150,\n",
       " 9536,\n",
       " 9930,\n",
       " 11109,\n",
       " 7061,\n",
       " 5269,\n",
       " 8729,\n",
       " 3456,\n",
       " 6024,\n",
       " 9591,\n",
       " 1353,\n",
       " 6299,\n",
       " 2269,\n",
       " 12657,\n",
       " 5757,\n",
       " 533,\n",
       " 7266,\n",
       " 12105,\n",
       " 869,\n",
       " 6445,\n",
       " 10342,\n",
       " 3299,\n",
       " 948,\n",
       " 5445,\n",
       " 11444,\n",
       " 8148,\n",
       " 3055,\n",
       " ...]"
      ]
     },
     "execution_count": 17,
     "metadata": {},
     "output_type": "execute_result"
    }
   ],
   "source": [
    "indices"
   ]
  },
  {
   "cell_type": "code",
   "execution_count": null,
   "metadata": {},
   "outputs": [],
   "source": [
    "def get_missing():\n",
    "    indices = [int(trim_jpeg(filename)) for filename in listdir(f'{PATH}test')]\n",
    "    acc = []\n",
    "    for x in range(1, 12800):\n",
    "        if x not in indices:\n",
    "            acc.append(x)\n",
    "    return acc"
   ]
  },
  {
   "cell_type": "code",
   "execution_count": 20,
   "metadata": {},
   "outputs": [],
   "source": [
    "missingno = get_missing(indices)"
   ]
  },
  {
   "cell_type": "code",
   "execution_count": 21,
   "metadata": {},
   "outputs": [],
   "source": [
    "import sys, os, multiprocessing, urllib3, csv\n",
    "from PIL import Image\n",
    "from io import BytesIO\n",
    "from tqdm import tqdm\n",
    "import json\n"
   ]
  },
  {
   "cell_type": "code",
   "execution_count": 33,
   "metadata": {},
   "outputs": [],
   "source": [
    "def ParseData(data_file, indices):\n",
    "    ann = {}\n",
    "    if 'train' in data_file or 'validation' in data_file:\n",
    "        _ann = json.load(open(data_file))['annotations']\n",
    "        for a in _ann:\n",
    "            ann[a['image_id']] = a['label_id']\n",
    "\n",
    "    key_url_list = []\n",
    "    j = json.load(open(data_file))\n",
    "    \n",
    "    images = j['images']\n",
    "    print(indices)\n",
    "    missing_images = [images[i] for i in indices]\n",
    "    for item in missing_images:\n",
    "        assert len(item['url']) == 1\n",
    "        url = item['url'][0]\n",
    "        id_ = item['image_id']\n",
    "        if id_ in ann:\n",
    "            id_ = \"{}_{}\".format(id_, ann[id_])\n",
    "        key_url_list.append((id_, url))\n",
    "    return key_url_list"
   ]
  },
  {
   "cell_type": "code",
   "execution_count": 34,
   "metadata": {},
   "outputs": [
    {
     "name": "stdout",
     "output_type": "stream",
     "text": [
      "[334, 444, 477, 526, 534, 541, 556, 560, 577, 633, 636, 648, 666, 710, 721, 743, 775, 776, 790, 798, 816, 856, 883, 896, 898, 917, 920, 936, 943, 945, 949, 979, 1036, 1043, 1050, 1056, 1087, 1108, 1111, 1133, 1146, 1148, 1150, 1163, 1180, 1227, 1234, 1298, 1419, 1517, 1572, 1613, 1675, 1690, 1761, 1783, 1799, 1814, 1844, 1873, 2072, 2258, 2282, 2318, 2335, 2406, 2456, 2490, 2542, 2769, 2932, 2980, 3042, 3094, 3176, 3238, 3268, 3319, 3358, 3387, 3513, 3627, 3645, 3717, 3817, 3840, 3911, 3969, 4007, 4075, 4190, 4250, 4274, 4308, 4378, 4381, 4437, 4454, 4532, 4598, 4656, 4699, 4735, 4742, 4887, 4959, 5008, 5127, 5141, 5207, 5251, 5313, 5328, 5355, 5359, 5408, 5526, 5706, 5733, 5735, 5776, 5815, 5831, 5859, 5860, 6031, 6131, 6334, 6397, 6398, 6407, 6433, 6434, 6441, 6446, 6534, 6646, 6698, 6711, 6776, 6824, 6873, 6997, 7080, 7393, 7440, 7496, 7536, 7580, 7615, 7667, 7829, 7855, 7876, 7881, 7902, 7995, 8092, 8161, 8202, 8250, 8309, 8343, 8386, 8407, 8523, 8532, 8535, 8568, 8569, 8782, 8846, 8974, 8998, 9023, 9063, 9193, 9197, 9236, 9251, 9262, 9433, 9549, 9753, 9796, 9915, 9970, 9981, 10033, 10088, 10106, 10157, 10167, 10232, 10508, 10534, 10596, 10627, 10687, 10755, 10781, 10850, 10969, 11088, 11198, 11288, 11543, 11601, 11624, 11633, 11658, 11701, 11703, 11799, 11875, 11979, 12015, 12023, 12038, 12280, 12281, 12347, 12386, 12417, 12439, 12449, 12477, 12508, 12514, 12620, 12743, 12751, 12759, 12774, 12786]\n"
     ]
    },
    {
     "data": {
      "text/plain": [
       "[(335,\n",
       "  'https://img.alicdn.com/imgextra/TB2A_uchXXXXXa7XXXXXXXXXXXX_!!598818934.jpg'),\n",
       " (445,\n",
       "  'https://img12.360buyimg.com/imgzone/jfs/t9370/353/1809525299/255456/91c7331c/59bfda2cN5fd80e14.jpg'),\n",
       " (478,\n",
       "  'https://img11.360buyimg.com/imgzone/jfs/t14719/262/48833828/395819/f594e435/5a226680Nb77d7677.jpg'),\n",
       " (527,\n",
       "  'https://img12.360buyimg.com/imgzone/jfs/t8980/137/2211540868/116464/2db77a8b/59c83a83N35648016.jpg'),\n",
       " (535,\n",
       "  'https://img.alicdn.com/imgextra/TB2yb7qXBP8F1JjSszdXXcG6XXa_!!1725119708.jpg'),\n",
       " (542,\n",
       "  'http://img.zcool.cn/community/01a62657de66db0000012e7e1bb109.jpg@1280w_1l_2o_100sh.jpg'),\n",
       " (557, 'http://image2.buy.ccb.com/images/50149258/1369191486301_3.jpg'),\n",
       " (561,\n",
       "  'https://img13.360buyimg.com/imgzone/jfs/t2170/268/2145809686/119215/683ffb3d/569d9a95Nefef5ffb.jpg'),\n",
       " (578, 'http://img.11665.com/img04_p/i4/T1z6mkXcxfXXaiRr3T_010826.jpg'),\n",
       " (634,\n",
       "  'https://img11.360buyimg.com/imgzone/jfs/t1981/329/880978958/347032/e617cb8b/562fa2f6N3a229490.jpg'),\n",
       " (637,\n",
       "  'https://img10.360buyimg.com/imgzone/jfs/t11704/353/407609733/320450/fb84539c/59eff08bN922f3078.jpg'),\n",
       " (649, 'http://img4.007swz.com/cpimg/bolibei/VgMrprhDm_1323441289.jpg'),\n",
       " (667, 'http://www.debcj.com/images/goods/20170624/0ff89843ed3279c5.png'),\n",
       " (711,\n",
       "  'https://img12.360buyimg.com/imgzone/jfs/t11869/274/1938542696/84032/e0672/5a0d2574Nd5f98a9c.jpg'),\n",
       " (722,\n",
       "  'https://img.alicdn.com/imgextra/TB2N2PFeCfD8KJjSszhXXbIJFXa_!!1607700990.jpg'),\n",
       " (744,\n",
       "  'https://img14.360buyimg.com/imgzone/jfs/t15901/83/1048061800/142616/c4021654/5a491112N2550abd8.jpg'),\n",
       " (776,\n",
       "  'http://img10.cn.gcimg.net/gcproduct/day_20150925/09666d8463c208ac8efd6bc5d20515a4.jpg'),\n",
       " (777,\n",
       "  'https://img13.360buyimg.com/imgzone/jfs/t8878/102/789257680/49011/38ad8bc3/59af50a9N002672e3.jpg'),\n",
       " (791,\n",
       "  'https://img13.360buyimg.com/imgzone/jfs/t8047/125/2097251794/174339/8e0086c2/59c49ee7N9218d589.jpg'),\n",
       " (799,\n",
       "  'http://www.guangming.com/UploadFiles/Product/20170505162701_67610.jpg'),\n",
       " (817, 'https://img.alicdn.com/imgextra/TB1XD5oRpXXXXXnXVXXYXGcGpXX_M2.SS2'),\n",
       " (857,\n",
       "  'https://img14.360buyimg.com/imgzone/jfs/t12223/196/1471132411/116294/a81ef109/5a212e14Nba1f4c15.jpg'),\n",
       " (884,\n",
       "  'https://img.alicdn.com/imgextra/TB2a69LicbI8KJjy1zdXXbe1VXa_!!3251789434.jpg'),\n",
       " (897,\n",
       "  'https://img11.360buyimg.com/imgzone/jfs/t13570/59/1069311719/363232/9e943503/5a1a64adN9c31d52f.jpg'),\n",
       " (899,\n",
       "  'https://img14.360buyimg.com/imgzone/jfs/t14650/200/1794155629/262796/d6249838/5a581eceNd62ba51e.jpg'),\n",
       " (918,\n",
       "  'https://img11.360buyimg.com/imgzone/jfs/t19189/306/62389823/80710/d9306c96/5a5aeb36Nf5d2ea6f.jpg'),\n",
       " (921,\n",
       "  'https://img13.360buyimg.com/imgzone/jfs/t4294/177/2226848926/185095/bf9d2c7b/58cdfab8Neb3a76c3.jpg'),\n",
       " (937, 'http://pic.58pic.com/58pic/13/28/26/29358PICSYm_1024.jpg'),\n",
       " (944,\n",
       "  'https://img.alicdn.com/imgextra/TB2edTMubxmpuFjSZJiXXXauVXa_!!448206567.jpg'),\n",
       " (946,\n",
       "  'https://img.alicdn.com/imgextra/TB1X2ROc0HO8KJjSZFHXXbWJFXa_!!0-item_pic.jpg'),\n",
       " (950,\n",
       "  'http://img5.007swz.com/cpimg/yinliaobaozhuang/01AGyZo1I_1328520198.jpg'),\n",
       " (980, 'https://img.alicdn.com/imgextra/T1.tGbFphkXXXXXXXX_!!0-item_pic.jpg'),\n",
       " (1037,\n",
       "  'http://www.promemoria.com/promemoria_prod/file/public_admin/gallery/023-AMINA-918_th1.jpg'),\n",
       " (1044,\n",
       "  'https://img.alicdn.com/imgextra/TB29uXPaY3XS1JjSZFFXXcvupXa_!!1583097181.jpg'),\n",
       " (1051,\n",
       "  'https://img12.360buyimg.com/imgzone/jfs/t3889/58/99396629/196173/b8a24e20/583c381dNa23bd10b.jpg'),\n",
       " (1057, 'http://image5.suning.cn/uimg/shp/userItems/148825495092079741_1.jpg'),\n",
       " (1088,\n",
       "  'https://cbu01.alicdn.com/img/ibank/2017/840/439/4836934048_1233770770.310x310.jpg'),\n",
       " (1109,\n",
       "  'https://img.alicdn.com/imgextra/TB2xohabIjI8KJjSsppXXXbyVXa_!!3154589508.jpg'),\n",
       " (1112,\n",
       "  'https://img10.360buyimg.com/imgzone/jfs/t5299/308/9842259/347571/593a0c8c/58f6fdabNbd6f6cb8.jpg'),\n",
       " (1134, 'http://www1.pcbaby.com.cn/yongping518.jpg'),\n",
       " (1147,\n",
       "  'https://img.alicdn.com/imgextra/TB2FRQtnx6I8KJjSszfXXaZVXXa_!!91862580.jpg'),\n",
       " (1149,\n",
       "  'https://img.biggo.com.tw/swfsnufCkUJ9p1GZzbNdCP0bjAdQY9ybMS4z3Mqhd3mM/https://tshop.r10s.com/b46/825/42df/75bc/a05f/dadd/f861/119de7afce2c600c737667.jpg'),\n",
       " (1151,\n",
       "  'https://img13.360buyimg.com/imgzone/jfs/t2743/67/2631127610/447990/76fc6355/576baf93Ncfb76189.jpg'),\n",
       " (1164,\n",
       "  'https://img.alicdn.com/imgextra/TB2rItzh50TMKJjSZFNXXa_1FXa_!!1019423039.jpg'),\n",
       " (1181, 'http://www.futebcn.com/images/goods/02/ELPY3z1498014120.jpg'),\n",
       " (1228,\n",
       "  'https://img10.360buyimg.com/imgzone/jfs/t631/39/926778817/150101/64fffa69/54996639N4d5a3e4d.jpg'),\n",
       " (1235, 'http://imgs.soufun.com/news/2016_11/30/zhishi/1480488359336_000.jpg'),\n",
       " (1299,\n",
       "  'http://img14.360buyimg.com/n1/jfs/t208/271/118637164/328510/423a3893/538015c5N74cf4acf.jpg'),\n",
       " (1420,\n",
       "  'http://m.360buyimg.com/n12/jfs/t541/260/548535834/79795/fac7c4ed/54701fd0N7bc6b0be.jpg%21q70.jpg'),\n",
       " (1518,\n",
       "  'https://img12.360buyimg.com/imgzone/jfs/t8113/56/2072705702/520692/55ddeac3/59c36512Nc42d1065.jpg'),\n",
       " (1573,\n",
       "  'https://img11.360buyimg.com/imgzone/g15/M09/1B/01/rBEhWFKj9PEIAAAAAADTu-8963kAAGfhwJ-ln4AANPT248.jpg'),\n",
       " (1614,\n",
       "  'https://img.alicdn.com/imgextra/TB24bszk46I8KJjy0FgXXXXzVXa_!!352322078.jpg'),\n",
       " (1676,\n",
       "  'http://imgsrc.baidu.com/image/c0%3Dpixel_huitu%2C0%2C0%2C294%2C40/sign=9c8362d4ec1190ef15f69a9fa763f87a/d058ccbf6c81800a006e3b37ba3533fa828b477b.jpg'),\n",
       " (1691,\n",
       "  'https://img14.360buyimg.com/imgzone/jfs/t577/280/102949219/111490/82ba1be0/54617177Ndcef7e0d.jpg'),\n",
       " (1762, 'http://pic101.nipic.com/file/20160613/7729664_160359150000_2.jpg'),\n",
       " (1784,\n",
       "  'https://img12.360buyimg.com/imgzone/jfs/t7714/332/367820621/138102/6449250/59926ae4N5ea29254.jpg'),\n",
       " (1800, 'http://p5.qhmsg.com/t012db7a64e1082d6bd.jpg'),\n",
       " (1815,\n",
       "  'https://img10.360buyimg.com/imgzone/jfs/t8095/10/872220691/107089/ee16f4dd/59afbcf5Nf79ebefa.jpg'),\n",
       " (1845,\n",
       "  'https://img12.360buyimg.com/imgzone/jfs/t12673/175/2570949052/349528/7727ff85/5a434fffNab00122b.jpg'),\n",
       " (1874, 'https://img.alicdn.com/imgextra/TB1ySTtr5AKL1JjSZFoYXGgCFXa_M2.SS2'),\n",
       " (2073,\n",
       "  'https://img12.360buyimg.com/imgzone/jfs/t4894/211/1345924812/162329/87396b1c/58efbe95N0c091dca.jpg'),\n",
       " (2259,\n",
       "  'https://img.alicdn.com/imgextra/TB2K6huc90jpuFjy0FlXXc0bpXa_!!50983440.jpg'),\n",
       " (2283,\n",
       "  'https://img.alicdn.com/imgextra/TB2gWkLkv6H8KJjSspmXXb2WXXa_!!43623533.jpg'),\n",
       " (2319, 'http://pic31.nipic.com/20130731/10038431_201352343127_2.jpg'),\n",
       " (2336,\n",
       "  'http://img11.360buyimg.com/imgzone/jfs/t319/128/952432548/101060/1e25817f/542a6c23Nf1e3d557.jpg'),\n",
       " (2407,\n",
       "  'https://img14.360buyimg.com/imgzone/jfs/t4336/283/2901216264/382088/bed26fe/58d7312bNf96db67b.jpg'),\n",
       " (2457,\n",
       "  'https://img.alicdn.com/imgextra/TB2LPbqlVXXXXXAXpXXXXXXXXXX_!!196649982.jpg'),\n",
       " (2491,\n",
       "  'https://img.alicdn.com/imgextra/TB2QLtHaFXXXXbiXpXXXXXXXXXX_!!710848610.jpg'),\n",
       " (2543,\n",
       "  'https://img.alicdn.com/imgextra/TB2kpcLXgYDK1JjSZPcXXajZpXa_!!3110384099.jpg'),\n",
       " (2770,\n",
       "  'https://img10.360buyimg.com/imgzone/jfs/t10426/267/2206312786/251578/79fe6cdb/59f149d4Nc08f2ec7.jpg'),\n",
       " (2933,\n",
       "  'https://img10.360buyimg.com/imgzone/jfs/t2734/134/3352914207/730062/9f322720/578b3675N7b1f82f7.jpg'),\n",
       " (2981,\n",
       "  'http://www.t-cheshi.com/tucsJDAwMSQxMS8yMTI2ODUwMDYzL1RCMksxd2ZiJDZYWFZYcCQ1MjEyNjg1MDA2MyQ5.jpg'),\n",
       " (3043,\n",
       "  'https://img10.360buyimg.com/imgzone/jfs/t3274/225/5149613012/37857/611b7dd4/586627acNa19582c7.jpg'),\n",
       " (3095,\n",
       "  'https://img.alicdn.com/imgextra/TB2JWNjb2BNTKJjSszcXXbO2VXa_!!753577037.jpg'),\n",
       " (3177,\n",
       "  'https://img.alicdn.com/imgextra/TB1lk8keo1HTKJjSZFmXXXeYFXa_!!0-item_pic.jpg'),\n",
       " (3239,\n",
       "  'https://img10.360buyimg.com/imgzone/jfs/t8926/152/732866764/499580/845d01f9/59ae3746N3f672c19.jpg'),\n",
       " (3269,\n",
       "  'https://img14.360buyimg.com/imgzone/jfs/t5593/25/502710491/548829/3101c889/591fb07aN46e6197a.jpg'),\n",
       " (3320,\n",
       "  'http://pic.sooshong.com/picture/userpic2/2014-3-18/62980220143181352348.jpg'),\n",
       " (3359,\n",
       "  'http://www.foodqs.cn/memberpictures/2015/01/22/wanrui9888_201501221009076135.jpg'),\n",
       " (3388,\n",
       "  'https://img.alicdn.com/imgextra/TB2L5p_gwLD8KJjSszeXXaGRpXa_!!1644740697.jpg'),\n",
       " (3514, 'http://www.gbs.cn/Upload/User/chenfupeng/201432011336944.jpg'),\n",
       " (3628, 'http://img000.hc360.cn/hb/MTQ3MzIwNjU5ODQyOTMzMDM2MzI5NA==.jpg'),\n",
       " (3646, 'http://www.jiemeng8.com/uploads/allimg/c140319/139520a45530-1UN.jpg'),\n",
       " (3718,\n",
       "  'https://img.alicdn.com/imgextra/TB1y8YKRXXXXXbTXFXXXXXXXXXX_!!0-item_pic.jpg'),\n",
       " (3818,\n",
       "  'https://img.alicdn.com/imgextra/TB1btMravQs8KJjSZFEXXc9RpXa_!!0-item_pic.jpg'),\n",
       " (3841, 'http://img3.114pifa.com/4737/TQqA04fdn_1400660222.jpg'),\n",
       " (3912,\n",
       "  'http://img007.hc360.cn/y2/M03/37/42/wKhQdFSZPyWEHZmOAAAAAH6ZJsQ915.jpg'),\n",
       " (3970, 'http://scimg.jb51.net/allimg/160331/10-16033116400AS.jpg'),\n",
       " (4008, 'http://img.hdbs.cn/images/2015/11/11/201511111447202797220_13.jpg'),\n",
       " (4076,\n",
       "  'https://img.alicdn.com/imgextra/TB2eh8RbwnD8KJjy1XdXXaZsVXa_!!244349639.jpg'),\n",
       " (4191,\n",
       "  'https://img.alicdn.com/imgextra/TB2kUICsXXXXXbnXpXXXXXXXXXX_!!1986841764.jpg'),\n",
       " (4251,\n",
       "  'https://img10.360buyimg.com/imgzone/jfs/t3766/285/340680666/332765/593cac/5806f05eNa5122ea8.jpg'),\n",
       " (4275,\n",
       "  'http://img1n.soufunimg.com/viewimage/jiancai/201304/18/527/b3eeb0bf6d707ce8624dd606bbff675d/700x1000.jpeg'),\n",
       " (4309,\n",
       "  'http://f.3dxy.com/sub/Manual/pic/2016/0330/09/1603300942_74664_2000x_1.jpg'),\n",
       " (4379,\n",
       "  'https://img11.360buyimg.com/imgzone/jfs/t5314/350/2462924229/44696/cf7f87d3/591ad11fN61f2b110.jpg'),\n",
       " (4382,\n",
       "  'https://img.alicdn.com/imgextra/TB2SskUa7fb_uJkSndVXXaBkpXa_!!2530363305.png'),\n",
       " (4438,\n",
       "  'https://img.alicdn.com/imgextra/TB2AOp7mwvD8KJjy0FlXXagBFXa_!!2488092301.jpg'),\n",
       " (4455,\n",
       "  'https://img11.360buyimg.com/imgzone/jfs/t2134/313/2690200732/112149/88e616eb/56e7fcc5N632d436a.jpg'),\n",
       " (4533,\n",
       "  'http://img001.photo.21cn.com/photos/album/20090105/o/FE1ABE5CA74D9B476D8FDC58F57660B3.jpg'),\n",
       " (4599, 'http://www.1024sj.com/uploadimg/chuang208/4m2bwD8mJO_1273519449.jpg'),\n",
       " (4657,\n",
       "  'https://img14.360buyimg.com/imgzone/jfs/t13666/15/323733393/233124/225cc3a/5a095cbfN4a11f70b.jpg'),\n",
       " (4700,\n",
       "  'https://img.alicdn.com/imgextra/TB2H3wRnpXXXXXkXXXXXXXXXXXX_!!83518439.jpg'),\n",
       " (4736, 'http://www.xiugei.com/edimg/20160302/14569060107909956.png'),\n",
       " (4743,\n",
       "  'https://img.alicdn.com/imgextra/TB1H5F.aC3PL1JjSZFtXXclRVXa_!!0-item_pic.jpg'),\n",
       " (4888,\n",
       "  'http://pic1.to8to.com/smallcase/1311/12/20131112_6d5e7bb6e0a222311cd5s3zfgkwfev6j_284.jpg'),\n",
       " (4960,\n",
       "  'http://img12.360buyimg.com/popWaterMark/jfs/t523/225/849631483/373741/34ff99bf/549241e4N7cdab833.jpg'),\n",
       " (5009, 'http://img11.007swz.com/cpimg/yigui/mJ3SCGe5o_1375337748.jpg'),\n",
       " (5128,\n",
       "  'http://imgsrc.baidu.com/forum/w%3D580/sign=3deef4ac304e251fe2f7e4f09787c9c2/97443301213fb80e0736374136d12f2ebb3894ea.jpg'),\n",
       " (5142,\n",
       "  'https://img14.360buyimg.com/imgzone/jfs/t14350/37/532908836/43594/7aceae9b/5a3080eaNcd81e4b7.jpg'),\n",
       " (5208,\n",
       "  'https://img10.360buyimg.com/imgzone/jfs/t2551/256/1013053504/574567/dd367fe7/5680ebc6Nd7303691.jpg'),\n",
       " (5252,\n",
       "  'https://img.alicdn.com/imgextra/TB2Zih2awsSMeJjSspcXXXjFXXa_!!696128689.jpg'),\n",
       " (5314,\n",
       "  'http://image1.suning.cn/b2c/catentries/000000000126096861_2_800x800.jpg'),\n",
       " (5329,\n",
       "  'https://img13.360buyimg.com/imgzone/jfs/t15076/364/399020809/530934/209ae282/5a2cbc30N0301679d.png'),\n",
       " (5356, 'http://pic.pimg.tw/ushappygo/1400861408-2758038056.jpg'),\n",
       " (5360,\n",
       "  'https://img12.360buyimg.com/imgzone/jfs/t13585/265/563112716/409516/7fdbf3f4/5a0e5350Nca965c64.jpg'),\n",
       " (5409,\n",
       "  'https://img10.360buyimg.com/imgzone/g7/M03/0C/19/rBEHZVCKP4kIAAAAAAY7_TjonDAAACfxwLbq8gABjwV016.jpg'),\n",
       " (5527,\n",
       "  'https://img.alicdn.com/imgextra/TB2ffTxdhPI8KJjSspoXXX6MFXa_!!2653577403.jpg'),\n",
       " (5707,\n",
       "  'https://img10.360buyimg.com/imgzone/jfs/t4660/331/3119333134/345053/aa13152c/58f6c953N36444749.jpg'),\n",
       " (5734, 'http://pic.58pic.com/58pic/15/07/78/34n58PICfkz_1024.jpg'),\n",
       " (5736,\n",
       "  'https://img12.360buyimg.com/imgzone/jfs/t5842/209/537993702/274111/cc3c2f/59201497N1b9e26c0.jpg'),\n",
       " (5777,\n",
       "  'https://img13.360buyimg.com/imgzone/jfs/t10270/75/1274078075/326884/12220b53/59df1497Nf3a5c7d8.jpg'),\n",
       " (5816,\n",
       "  'https://img14.360buyimg.com/imgzone/jfs/t16582/43/926842630/172381/85355069/5a44e300N33b141f2.jpg'),\n",
       " (5832,\n",
       "  'https://img13.360buyimg.com/imgzone/jfs/t1816/123/79367083/150656/c3339a10/55cc3c9dN80b54ff4.jpg'),\n",
       " (5860, 'http://ztimg01.sj88.com/2017-01/03/15/1483427120128_0.jpg'),\n",
       " (5861,\n",
       "  'https://img.alicdn.com/imgextra/TB289FyXk7OyuJjSsplXXXqdpXa_!!2972394725.jpg'),\n",
       " (6032, 'http://img0.pchouse.com.cn/pchouse/1512/06/1356971_147.png'),\n",
       " (6132,\n",
       "  'https://img13.360buyimg.com/imgzone/jfs/t5677/342/1429063775/121383/3662b2b9/59264e5dN83d1a76f.jpg'),\n",
       " (6335, 'http://pic1.nipic.com/2008-09-09/200899143223490_2.jpg'),\n",
       " (6398,\n",
       "  'http://image.gojiaju.com/userfile/yuandajiahua/images/products/33051_1.jpg'),\n",
       " (6399,\n",
       "  'https://img.alicdn.com/imgextra/TB2LTGodVXXXXayXXXXXXXXXXXX_!!28221378.jpg'),\n",
       " (6408,\n",
       "  'https://cbu01.alicdn.com/img/ibank/2017/409/044/4214440904_252613589.400x400.jpg'),\n",
       " (6434,\n",
       "  'http://img006.hc360.cn/y3/M07/50/9C/wKhQh1VSzteEEmbzAAAAAJ_FyUo800.jpg'),\n",
       " (6435, 'http://img3.jc001.cn/img/001/1/1508/1555d830c3285c5.jpeg'),\n",
       " (6442,\n",
       "  'http://bpic.588ku.com/element_pic/17/12/07/6e47375f3368296324adb796fac5dfbe.jpg'),\n",
       " (6447,\n",
       "  'https://img.alicdn.com/imgextra/TB2X8Ggcm8mpuFjSZFMXXaxpVXa_!!2868324887.jpg'),\n",
       " (6535,\n",
       "  'https://img14.360buyimg.com/imgzone/jfs/t3553/81/92365097/63975/973882b7/57ff1ebbNb7a1a36d.jpg'),\n",
       " (6647, 'http://pic.58pic.com/58pic/14/48/50/72Q58PIC9cJ_1024.png'),\n",
       " (6699,\n",
       "  'http://img10.360buyimg.com/imgzone/jfs/t2650/41/737380265/127837/2703012d/57240febNc531d10c.jpg'),\n",
       " (6712,\n",
       "  'https://img11.360buyimg.com/imgzone/jfs/t3271/19/5648082722/522873/e0ce3c11/5875a1e9Nfc5791b6.jpg'),\n",
       " (6777,\n",
       "  'https://img11.360buyimg.com/imgzone/jfs/t13780/293/1129319759/152183/451c0af8/5a1b2b67N1d1a65d1.jpg'),\n",
       " (6825,\n",
       "  'https://img.alicdn.com/imgextra/TB2uzOtn88kpuFjSspeXXc7IpXa_!!88073962.jpg'),\n",
       " (6874,\n",
       "  'https://cbu01.alicdn.com/img/ibank/2014/509/288/1825882905_570517519.310x310.jpg'),\n",
       " (6998,\n",
       "  'https://img.alicdn.com/imgextra/TB2uG6pnlNkpuFjy0FaXXbRCVXa_!!474568982.jpg'),\n",
       " (7081,\n",
       "  'https://img10.360buyimg.com/imgzone/jfs/t2806/228/729875835/148739/8ae6b12d/57232b6aN233736e8.jpg'),\n",
       " (7394,\n",
       "  'http://img010.hc360.cn/y5/M05/0A/B3/wKhQUVXOSq-EOrJVAAAAAMjkTs0825.jpg'),\n",
       " (7441,\n",
       "  'https://img14.360buyimg.com/imgzone/jfs/t5137/279/1335977470/357384/5c6d727b/590ed9f3N1bbea043.jpg'),\n",
       " (7497,\n",
       "  'https://img12.360buyimg.com/imgzone/jfs/t2740/42/563273954/300474/54256c15/5719d0ceN44e3edd3.jpg'),\n",
       " (7537,\n",
       "  'http://static.house.sina.com.cn/shopjiaju/goods_csv/68/68/bbb7cfa52413200966f581acc8e467f4.jpg'),\n",
       " (7581, 'http://www.yoagoa.com/photos/info/20160304/20160304075908114.jpg'),\n",
       " (7616,\n",
       "  'https://img11.360buyimg.com/imgzone/jfs/t7249/104/378580196/121826/70dec0cb/599251b8Nb8eca3d4.jpg'),\n",
       " (7668,\n",
       "  'https://img13.360buyimg.com/imgzone/jfs/t2476/68/1867918527/72886/43d7e568/5684cda9Nc4916c83.jpg'),\n",
       " (7830,\n",
       "  'https://img14.360buyimg.com/imgzone/jfs/t3547/181/2271686321/240845/ab8b1c8f/584d6c89Nd850a271.jpg'),\n",
       " (7856,\n",
       "  'https://img.alicdn.com/imgextra/TB2BWIDiwxlpuFjy0FoXXa.lXXa_!!3188378146.jpg'),\n",
       " (7877,\n",
       "  'http://image3.suning.cn/content/catentries/00000000010360/000000000103608317/fullimage/000000000103608317_3f.jpg'),\n",
       " (7882,\n",
       "  'https://img.alicdn.com/imgextra/TB25JRhisnI8KJjSspeXXcwIpXa_!!2899269808.jpg'),\n",
       " (7903,\n",
       "  'https://img.alicdn.com/imgextra/TB2mek8czuhSKJjSspdXXc11XXa_!!1730018432.jpg'),\n",
       " (7996,\n",
       "  'https://img.alicdn.com/imgextra/TB2LxLnnHsTMeJjy1zbXXchlVXa_!!2842495557.jpg'),\n",
       " (8093,\n",
       "  'https://img.alicdn.com/imgextra/TB21o4SlrRkpuFjSspmXXc.9XXa_!!2856134976.jpg'),\n",
       " (8162, 'http://s4.sinaimg.cn/mw690/65415df1gd2c3129dc3b3&690'),\n",
       " (8203,\n",
       "  'https://img12.360buyimg.com/imgzone/jfs/t2827/177/3326981601/716365/55f8b8be/5789ce06N1bacc8c8.jpg'),\n",
       " (8251, 'http://image6.huangye88.com/2014/08/02/e3ef41b5e1915acf.jpg'),\n",
       " (8310,\n",
       "  'http://img4.99114.com/group1/M00/05/8A/wKgGTFkVx3mAEuzsAAIsH3MpV0k501.jpg'),\n",
       " (8344, 'http://img006.hc360.cn/hb/MTQ2OTkyNTkwMjg3MjY2NDkwNjM4Mg==.jpg'),\n",
       " (8387,\n",
       "  'https://img11.360buyimg.com/imgzone/jfs/t15628/117/701896754/160061/f75e7001/5a3a33ccNa7327592.jpg'),\n",
       " (8408,\n",
       "  'https://img.alicdn.com/imgextra/TB2rFF1dmVmpuFjSZFFXXcZApXa_!!1747067454.jpg'),\n",
       " (8524, 'https://img.ruten.com.tw/s2/2/95/2c/21626008509740_152.jpg'),\n",
       " (8533,\n",
       "  'http://www.tengdakeli.cn/350/timg03/uploaded/i3/T1pARTXgdcXXXI9oI9_075108.jpg'),\n",
       " (8536, 'http://img011.hc360.cn/hb/MTQ1ODkyNTI2MTUwNzE4NTAwOTgzOTI=.jpg'),\n",
       " (8569,\n",
       "  'http://opic.tbscache.com/manage/articles/2013/11-09/83D31222-6699-4CD1-9E91-6F90C41F059C.jpg'),\n",
       " (8570,\n",
       "  'https://img14.360buyimg.com/imgzone/jfs/t17962/122/74403711/54751/98be5a62/5a5ae98dNa3e266a8.jpg'),\n",
       " (8783,\n",
       "  'http://pic.qiantucdn.com/58pic/27/30/62/28R58PICeUQ.jpg!/fw/300/clip/0x400a0a0'),\n",
       " (8847,\n",
       "  'https://img.alicdn.com/imgextra/TB2_ohYmSXlpuFjy0FeXXcJbFXa_!!397983989.jpg'),\n",
       " (8975,\n",
       "  'https://img10.360buyimg.com/imgzone/jfs/t12001/41/856468923/64650/5c45edb7/5a150f3eNdc5fc567.jpg'),\n",
       " (8999,\n",
       "  'https://img14.360buyimg.com/imgzone/jfs/t2203/364/40567503/156824/5ef2ecd2/55e929c5Nf9c757ea.jpg'),\n",
       " (9024,\n",
       "  'https://img.alicdn.com/imgextra/TB1VAG9HXXXXXXLXXXXXXXXXXXX_!!0-item_pic.jpg'),\n",
       " (9064, 'http://s10.sinaimg.cn/middle/4cb296f6ha2d7c910ab29&690'),\n",
       " (9194,\n",
       "  'http://www.szthks.com/localimg/687474703a2f2f6777312e616c6963646e2e636f6d2f62616f2f75706c6f616465642f69362f5431576d4135466a786958585858585858585f2121302d6974656d5f7069632e6a7067.jpg'),\n",
       " (9198,\n",
       "  'https://img.alicdn.com/imgextra/TB2PDiymdbJ8KJjy1zjXXaqapXa_!!3414534558.jpg'),\n",
       " (9237,\n",
       "  'https://img.alicdn.com/imgextra/TB213kVrgNlpuFjy0FfXXX3CpXa_!!268917695.jpg'),\n",
       " (9252,\n",
       "  'https://img12.360buyimg.com/imgzone/jfs/t2872/192/3462416743/137639/e3ea2719/578dc103Ne771e4b4.jpg'),\n",
       " (9263,\n",
       "  'https://img.alicdn.com/imgextra/TB2.o.OjB8lpuFjSspaXXXJKpXa_!!200246583.jpg'),\n",
       " (9434,\n",
       "  'https://img12.360buyimg.com/imgzone/jfs/t7801/359/4154978160/337908/f69460bd/5a015479N66bcaec8.jpg'),\n",
       " (9550,\n",
       "  'https://img11.360buyimg.com/imgzone/jfs/t17437/107/208167269/344391/75707633/5a643764N8feb77d6.jpg'),\n",
       " (9754,\n",
       "  'https://img14.360buyimg.com/imgzone/jfs/t3304/257/370270972/611437/de881a89/57b3b544N13725876.jpg'),\n",
       " (9797, 'http://images.macx.cn/forum/201510/07/081805bzj7uy6d66jlvzl6.jpg'),\n",
       " (9916,\n",
       "  'https://img10.360buyimg.com/imgzone/jfs/t5782/240/1221557497/424102/365bd83b/59242afaNf866455a.jpg'),\n",
       " (9971,\n",
       "  'https://img10.360buyimg.com/imgzone/jfs/t6673/236/1077639595/164289/d974ee39/594a2ea8N16f7dceb.jpg'),\n",
       " (9982,\n",
       "  'https://img.alicdn.com/imgextra/TB1Y.Q_bv2H8KJjy0FcXXaDlFXa_!!0-item_pic.jpg'),\n",
       " (10034,\n",
       "  'https://img12.360buyimg.com/imgzone/jfs/t3364/266/1141753784/399652/7e1d80e1/581d8cc5N7a4553a6.jpg'),\n",
       " (10089,\n",
       "  'http://imgs9.iaweg.com/pic/HTTP3d3dy5mZGNtLmNuL3VwbG9hZC9Qcm9kdWN0cy9iaWdJbWcvMjAxNDEwMzAxNDExMjE0OTE4LmpwZwloglog.jpg'),\n",
       " (10107,\n",
       "  'https://img10.360buyimg.com/imgzone/jfs/t5959/70/7973638786/592402/2904e08a/598430ceNdce6a9cf.jpg'),\n",
       " (10158,\n",
       "  'https://img13.360buyimg.com/imgzone/jfs/t163/95/564018422/356676/75e6fad7/539180d2N03de635e.jpg'),\n",
       " (10168,\n",
       "  'https://img13.360buyimg.com/imgzone/g10/M00/06/07/rBEQWVEwEBgIAAAAAADTygkFXhUAABNzwLO93wAANPi195.jpg'),\n",
       " (10233,\n",
       "  'https://img10.360buyimg.com/imgzone/jfs/t6013/276/7635577481/359325/2eb5e67b/59818697N931e9a43.jpg'),\n",
       " (10509,\n",
       "  'https://img14.360buyimg.com/imgzone/jfs/t4435/184/1517857428/962172/53b094a1/58e06106N733c6ed1.jpg'),\n",
       " (10535,\n",
       "  'http://img1.mmfj.com/upload/product/p20167126/2016073002/2_451_14604_469_800.jpg'),\n",
       " (10597,\n",
       "  'https://img30.360buyimg.com/popWaterMark/jfs/t3208/290/5235374209/67234/73de52bf/5866716eNbd86de44.jpg'),\n",
       " (10628,\n",
       "  'https://img13.360buyimg.com/imgzone/jfs/t2395/166/2879985738/101065/f4d0958e/571a33abNd16baa5b.jpg'),\n",
       " (10688,\n",
       "  'https://img11.360buyimg.com/imgzone/jfs/t2461/86/2196624455/148326/b6871bdc/56c6dd15N3679bf2e.jpg'),\n",
       " (10756,\n",
       "  'https://img14.360buyimg.com/imgzone/jfs/t16204/298/1327948382/153436/3f59c157/5a4ee419Nce656f34.jpg'),\n",
       " (10782,\n",
       "  'http://img.alicdn.com/tps/i1/TB1pRdOIFXXXXcYXVXXXXXXXXXX_%21%210-item_pic.jpg'),\n",
       " (10851,\n",
       "  'https://img11.360buyimg.com/imgzone/jfs/t3103/109/1665954049/122996/220d0f67/57d131f7Ne88617fc.jpg'),\n",
       " (10970,\n",
       "  'http://d8.yihaodianimg.com/N10/M01/8F/F3/ChEi2lYBHiCAHVorAAKghAiWS9055700_360x360.jpg'),\n",
       " (11089,\n",
       "  'https://img10.360buyimg.com/imgzone/jfs/t5650/195/8439578207/531492/8b1aeb2/597aa959Ndbba628c.jpg'),\n",
       " (11199,\n",
       "  'https://img12.360buyimg.com/imgzone/jfs/t8359/45/864021728/241673/49199572/59b0a1a6N4bb05ea9.jpg'),\n",
       " (11289,\n",
       "  'http://imgsrc.baidu.com/imgad/pic/item/5ab5c9ea15ce36d30de6c1c430f33a87e850b160.jpg'),\n",
       " (11544,\n",
       "  'http://d6.yihaodianimg.com/N05/M0A/F4/F2/CgQI0lQmTyeABOPuAAEFkC3na8c56400.jpg'),\n",
       " (11602,\n",
       "  'http://g-search3.alicdn.com/bao/uploaded/g-search1.alicdn.com/bao/uploaded/i2/783924191/TB2la6_ppXXXXXcXXXXXXXXXXXX_%21%21783924191.jpg_400x400.jpg'),\n",
       " (11625,\n",
       "  'https://img12.360buyimg.com/imgzone/jfs/t664/56/1489372534/268353/5829dade/54f6e3d1N211b07de.jpg'),\n",
       " (11634, 'http://img1.100ye.com/img2/4/15/1011/9023511/msgpic/14065411.jpg'),\n",
       " (11659,\n",
       "  'https://img.alicdn.com/imgextra/TB2JnGBvShlpuFjSspkXXa1ApXa_!!2709599724.jpg'),\n",
       " (11702,\n",
       "  'http://m.360buyimg.com/n12/jfs/t1927/95/1369142127/112367/fd7b00dc/5652ad11N512f9e65.jpg%21q70.jpg'),\n",
       " (11704,\n",
       "  'http://www.luckysac.com/resource/images/fa3ab2f10f4f4bf6ad90aac5ee025b31_40_1511846926012.jpg'),\n",
       " (11800,\n",
       "  'https://img12.360buyimg.com/imgzone/jfs/t13285/234/2305026474/387398/b252b51b/5a534a2fNe6893903.jpg'),\n",
       " (11876,\n",
       "  'https://img.alicdn.com/imgextra/TB1V7OJbz3z9KJjy0FmXXXiwXXa_!!0-item_pic.jpg'),\n",
       " (11980, 'http://imgs.focus.cn/upload/news/6293/a_62924421.jpg'),\n",
       " (12016,\n",
       "  'http://imgsrc.baidu.com/imgad/pic/item/bd3eb13533fa828b002657dff61f4134970a5a81.jpg'),\n",
       " (12024,\n",
       "  'https://img11.360buyimg.com/imgzone/jfs/t13525/273/1265679156/210828/845b0216/5a1d0d68N353e4b11.jpg'),\n",
       " (12039,\n",
       "  'https://img12.360buyimg.com/imgzone/jfs/t10750/280/1397883835/444520/1ca7ed6f/59e05af0Nb267b71f.jpg'),\n",
       " (12281,\n",
       "  'http://www.zhuangshangyin.com/UploadFile/20150702/productImg/a7c2de92-231a-4a87-b3c1-7e1d186d9864.jpg'),\n",
       " (12282,\n",
       "  'https://img12.360buyimg.com/imgzone/jfs/t7417/119/2042010226/36833/3a1908f7/59a766cbN9677c338.jpg'),\n",
       " (12348,\n",
       "  'http://src.house.sina.com.cn/imp/imp/deal/7f/30/2/21ee493b4908185063daaca44ef_p1_mk1.jpg'),\n",
       " (12387,\n",
       "  'https://img.alicdn.com/imgextra/TB1Ap1XSXXXXXcLXVXXXXXXXXXX_!!0-item_pic.jpg'),\n",
       " (12418,\n",
       "  'http://img13.360buyimg.com/n12/g3/M03/06/10/rBEGE1ATVg8IAAAAAAQIN3fQ_gQAABRiAOGOIoABAhP002.jpg%21q70.jpg'),\n",
       " (12440,\n",
       "  'https://img.alicdn.com/imgextra/TB2yRN0iCJjpuFjy0FdXXXmoFXa_!!61277771.jpg'),\n",
       " (12450,\n",
       "  'https://img.alicdn.com/imgextra/TB2TtQ3aCXlpuFjy0FeXXcJbFXa_!!3000977526.jpg'),\n",
       " (12478, 'http://www.yoagoa.com/photos/info/20160318/20160318073106247.jpg'),\n",
       " (12509,\n",
       "  'https://img12.360buyimg.com/imgzone/jfs/t5941/114/6576303560/453443/f61f1a5d/597400ffN7c857b3b.jpg'),\n",
       " (12515,\n",
       "  'https://img13.360buyimg.com/imgzone/jfs/t3547/11/908648431/448233/b3704537/581841c5N563e6180.jpg'),\n",
       " (12621,\n",
       "  'https://img11.360buyimg.com/imgzone/jfs/t6118/132/5894347182/82753/4f3cafb0/596ef2eeNe0ea12a2.jpg'),\n",
       " (12744,\n",
       "  'http://img11.360buyimg.com/n12/jfs/t157/140/2202779207/393336/dc1c7f5a/53c9cbf7N386959ef.jpg%21q70.jpg'),\n",
       " (12752,\n",
       "  'https://img12.360buyimg.com/imgzone/jfs/t7915/320/1692424309/238883/14ab0dc1/599fd981N44455d69.jpg'),\n",
       " (12760,\n",
       "  'https://img.alicdn.com/imgextra/TB2E98dzH4npuFjSZFmXXXl4FXa_!!809050531.jpg'),\n",
       " (12775,\n",
       "  'http://img010.hc360.cn/m8/M05/42/27/wKhQpVYlpnCEY722AAAAAD1hZhA102.gif'),\n",
       " (12787,\n",
       "  'https://img.alicdn.com/imgextra/TB2pM8VbLBNTKJjSszbXXaFrFXa_!!778858692.jpg')]"
      ]
     },
     "execution_count": 34,
     "metadata": {},
     "output_type": "execute_result"
    }
   ],
   "source": [
    "ParseData(f'{PATH}test.json', missingno)"
   ]
  },
  {
   "cell_type": "code",
   "execution_count": 37,
   "metadata": {},
   "outputs": [],
   "source": [
    "def DownloadImage(key_url):\n",
    "    out_dir = sys.argv[2]\n",
    "    (key, url) = key_url\n",
    "    filename = os.path.join(out_dir, '%s.jpg' % key)\n",
    "\n",
    "    if os.path.exists(filename):\n",
    "        print('Image %s already exists. Skipping download.' % filename)\n",
    "        return\n",
    "\n",
    "    try:\n",
    "        # print('Trying to get %s.' % url)\n",
    "        http = urllib3.PoolManager()\n",
    "        response = http.request('GET', url)\n",
    "        image_data = response.data\n",
    "    except:\n",
    "        print('Warning: Could not download image %s from %s' % (key, url))\n",
    "        return\n",
    "\n",
    "    try:\n",
    "        pil_image = Image.open(BytesIO(image_data))\n",
    "    except:\n",
    "        print('Warning: Failed to parse image %s %s' % (key, url))\n",
    "        return\n",
    "\n",
    "    try:\n",
    "        pil_image_rgb = pil_image.convert('RGB')\n",
    "    except:\n",
    "        print('Warning: Failed to convert image %s to RGB' % key)\n",
    "        return\n",
    "\n",
    "    try:\n",
    "        pil_image_rgb.save(filename, format='JPEG', quality=90)\n",
    "    except:\n",
    "        print('Warning: Failed to save image %s' % filename)\n",
    "        return"
   ]
  },
  {
   "cell_type": "code",
   "execution_count": null,
   "metadata": {},
   "outputs": [
    {
     "name": "stdout",
     "output_type": "stream",
     "text": [
      "[334, 444, 477, 526, 534, 541, 556, 560, 577, 633, 636, 648, 666, 710, 721, 743, 775, 776, 790, 798, 816, 856, 883, 896, 898, 917, 920, 936, 943, 945, 949, 979, 1036, 1043, 1050, 1056, 1087, 1108, 1111, 1133, 1146, 1148, 1150, 1163, 1180, 1227, 1234, 1298, 1419, 1517, 1572, 1613, 1675, 1690, 1761, 1783, 1799, 1814, 1844, 1873, 2072, 2258, 2282, 2318, 2335, 2406, 2456, 2490, 2542, 2769, 2932, 2980, 3042, 3094, 3176, 3238, 3268, 3319, 3358, 3387, 3513, 3627, 3645, 3717, 3817, 3840, 3911, 3969, 4007, 4075, 4190, 4250, 4274, 4308, 4378, 4381, 4437, 4454, 4532, 4598, 4656, 4699, 4735, 4742, 4887, 4959, 5008, 5127, 5141, 5207, 5251, 5313, 5328, 5355, 5359, 5408, 5526, 5706, 5733, 5735, 5776, 5815, 5831, 5859, 5860, 6031, 6131, 6334, 6397, 6398, 6407, 6433, 6434, 6441, 6446, 6534, 6646, 6698, 6711, 6776, 6824, 6873, 6997, 7080, 7393, 7440, 7496, 7536, 7580, 7615, 7667, 7829, 7855, 7876, 7881, 7902, 7995, 8092, 8161, 8202, 8250, 8309, 8343, 8386, 8407, 8523, 8532, 8535, 8568, 8569, 8782, 8846, 8974, 8998, 9023, 9063, 9193, 9197, 9236, 9251, 9262, 9433, 9549, 9753, 9796, 9915, 9970, 9981, 10033, 10088, 10106, 10157, 10167, 10232, 10508, 10534, 10596, 10627, 10687, 10755, 10781, 10850, 10969, 11088, 11198, 11288, 11543, 11601, 11624, 11633, 11658, 11701, 11703, 11799, 11875, 11979, 12015, 12023, 12038, 12280, 12281, 12347, 12386, 12417, 12439, 12449, 12477, 12508, 12514, 12620, 12743, 12751, 12759, 12774, 12786]\n"
     ]
    },
    {
     "name": "stderr",
     "output_type": "stream",
     "text": [
      "/home/paperspace/anaconda3/envs/fastai/lib/python3.6/site-packages/urllib3/connectionpool.py:858: InsecureRequestWarning: Unverified HTTPS request is being made. Adding certificate verification is strongly advised. See: https://urllib3.readthedocs.io/en/latest/advanced-usage.html#ssl-warnings\n",
      "  InsecureRequestWarning)\n"
     ]
    },
    {
     "name": "stdout",
     "output_type": "stream",
     "text": [
      "Warning: Failed to save image /run/user/1000/jupyter/kernel-13865298-2072-4dbc-9200-3fc1fa1c957b.json/335.jpg\n",
      "Warning: Failed to save image /run/user/1000/jupyter/kernel-13865298-2072-4dbc-9200-3fc1fa1c957b.json/445.jpg\n"
     ]
    },
    {
     "name": "stderr",
     "output_type": "stream",
     "text": [
      "/home/paperspace/anaconda3/envs/fastai/lib/python3.6/site-packages/urllib3/connectionpool.py:858: InsecureRequestWarning: Unverified HTTPS request is being made. Adding certificate verification is strongly advised. See: https://urllib3.readthedocs.io/en/latest/advanced-usage.html#ssl-warnings\n",
      "  InsecureRequestWarning)\n",
      "/home/paperspace/anaconda3/envs/fastai/lib/python3.6/site-packages/urllib3/connectionpool.py:858: InsecureRequestWarning: Unverified HTTPS request is being made. Adding certificate verification is strongly advised. See: https://urllib3.readthedocs.io/en/latest/advanced-usage.html#ssl-warnings\n",
      "  InsecureRequestWarning)\n",
      "/home/paperspace/anaconda3/envs/fastai/lib/python3.6/site-packages/urllib3/connectionpool.py:858: InsecureRequestWarning: Unverified HTTPS request is being made. Adding certificate verification is strongly advised. See: https://urllib3.readthedocs.io/en/latest/advanced-usage.html#ssl-warnings\n",
      "  InsecureRequestWarning)\n"
     ]
    },
    {
     "name": "stdout",
     "output_type": "stream",
     "text": [
      "Warning: Failed to save image /run/user/1000/jupyter/kernel-13865298-2072-4dbc-9200-3fc1fa1c957b.json/478.jpg\n",
      "Warning: Failed to save image /run/user/1000/jupyter/kernel-13865298-2072-4dbc-9200-3fc1fa1c957b.json/527.jpg\n"
     ]
    },
    {
     "name": "stderr",
     "output_type": "stream",
     "text": [
      "/home/paperspace/anaconda3/envs/fastai/lib/python3.6/site-packages/urllib3/connectionpool.py:858: InsecureRequestWarning: Unverified HTTPS request is being made. Adding certificate verification is strongly advised. See: https://urllib3.readthedocs.io/en/latest/advanced-usage.html#ssl-warnings\n",
      "  InsecureRequestWarning)\n"
     ]
    },
    {
     "name": "stdout",
     "output_type": "stream",
     "text": [
      "Warning: Failed to save image /run/user/1000/jupyter/kernel-13865298-2072-4dbc-9200-3fc1fa1c957b.json/535.jpg\n",
      "Warning: Failed to save image /run/user/1000/jupyter/kernel-13865298-2072-4dbc-9200-3fc1fa1c957b.json/542.jpg\n",
      "Warning: Failed to save image /run/user/1000/jupyter/kernel-13865298-2072-4dbc-9200-3fc1fa1c957b.json/557.jpg\n"
     ]
    },
    {
     "name": "stderr",
     "output_type": "stream",
     "text": [
      "/home/paperspace/anaconda3/envs/fastai/lib/python3.6/site-packages/urllib3/connectionpool.py:858: InsecureRequestWarning: Unverified HTTPS request is being made. Adding certificate verification is strongly advised. See: https://urllib3.readthedocs.io/en/latest/advanced-usage.html#ssl-warnings\n",
      "  InsecureRequestWarning)\n"
     ]
    },
    {
     "name": "stdout",
     "output_type": "stream",
     "text": [
      "Warning: Failed to save image /run/user/1000/jupyter/kernel-13865298-2072-4dbc-9200-3fc1fa1c957b.json/561.jpg\n",
      "Warning: Failed to save image /run/user/1000/jupyter/kernel-13865298-2072-4dbc-9200-3fc1fa1c957b.json/578.jpg\n"
     ]
    },
    {
     "name": "stderr",
     "output_type": "stream",
     "text": [
      "/home/paperspace/anaconda3/envs/fastai/lib/python3.6/site-packages/urllib3/connectionpool.py:858: InsecureRequestWarning: Unverified HTTPS request is being made. Adding certificate verification is strongly advised. See: https://urllib3.readthedocs.io/en/latest/advanced-usage.html#ssl-warnings\n",
      "  InsecureRequestWarning)\n"
     ]
    },
    {
     "name": "stdout",
     "output_type": "stream",
     "text": [
      "Warning: Failed to save image /run/user/1000/jupyter/kernel-13865298-2072-4dbc-9200-3fc1fa1c957b.json/634.jpg\n"
     ]
    },
    {
     "name": "stderr",
     "output_type": "stream",
     "text": [
      "/home/paperspace/anaconda3/envs/fastai/lib/python3.6/site-packages/urllib3/connectionpool.py:858: InsecureRequestWarning: Unverified HTTPS request is being made. Adding certificate verification is strongly advised. See: https://urllib3.readthedocs.io/en/latest/advanced-usage.html#ssl-warnings\n",
      "  InsecureRequestWarning)\n"
     ]
    },
    {
     "name": "stdout",
     "output_type": "stream",
     "text": [
      "Warning: Failed to save image /run/user/1000/jupyter/kernel-13865298-2072-4dbc-9200-3fc1fa1c957b.json/637.jpg\n",
      "Warning: Failed to save image /run/user/1000/jupyter/kernel-13865298-2072-4dbc-9200-3fc1fa1c957b.json/649.jpg\n",
      "Warning: Failed to save image /run/user/1000/jupyter/kernel-13865298-2072-4dbc-9200-3fc1fa1c957b.json/667.jpg\n",
      "Warning: Failed to save image /run/user/1000/jupyter/kernel-13865298-2072-4dbc-9200-3fc1fa1c957b.json/711.jpg\n"
     ]
    },
    {
     "name": "stderr",
     "output_type": "stream",
     "text": [
      "/home/paperspace/anaconda3/envs/fastai/lib/python3.6/site-packages/urllib3/connectionpool.py:858: InsecureRequestWarning: Unverified HTTPS request is being made. Adding certificate verification is strongly advised. See: https://urllib3.readthedocs.io/en/latest/advanced-usage.html#ssl-warnings\n",
      "  InsecureRequestWarning)\n",
      "/home/paperspace/anaconda3/envs/fastai/lib/python3.6/site-packages/urllib3/connectionpool.py:858: InsecureRequestWarning: Unverified HTTPS request is being made. Adding certificate verification is strongly advised. See: https://urllib3.readthedocs.io/en/latest/advanced-usage.html#ssl-warnings\n",
      "  InsecureRequestWarning)\n"
     ]
    },
    {
     "name": "stdout",
     "output_type": "stream",
     "text": [
      "Warning: Failed to save image /run/user/1000/jupyter/kernel-13865298-2072-4dbc-9200-3fc1fa1c957b.json/722.jpg\n"
     ]
    },
    {
     "name": "stderr",
     "output_type": "stream",
     "text": [
      "/home/paperspace/anaconda3/envs/fastai/lib/python3.6/site-packages/urllib3/connectionpool.py:858: InsecureRequestWarning: Unverified HTTPS request is being made. Adding certificate verification is strongly advised. See: https://urllib3.readthedocs.io/en/latest/advanced-usage.html#ssl-warnings\n",
      "  InsecureRequestWarning)\n"
     ]
    },
    {
     "name": "stdout",
     "output_type": "stream",
     "text": [
      "Warning: Failed to save image /run/user/1000/jupyter/kernel-13865298-2072-4dbc-9200-3fc1fa1c957b.json/744.jpg\n",
      "Warning: Failed to parse image 776 http://img10.cn.gcimg.net/gcproduct/day_20150925/09666d8463c208ac8efd6bc5d20515a4.jpg\n"
     ]
    },
    {
     "name": "stderr",
     "output_type": "stream",
     "text": [
      "/home/paperspace/anaconda3/envs/fastai/lib/python3.6/site-packages/urllib3/connectionpool.py:858: InsecureRequestWarning: Unverified HTTPS request is being made. Adding certificate verification is strongly advised. See: https://urllib3.readthedocs.io/en/latest/advanced-usage.html#ssl-warnings\n",
      "  InsecureRequestWarning)\n",
      "/home/paperspace/anaconda3/envs/fastai/lib/python3.6/site-packages/urllib3/connectionpool.py:858: InsecureRequestWarning: Unverified HTTPS request is being made. Adding certificate verification is strongly advised. See: https://urllib3.readthedocs.io/en/latest/advanced-usage.html#ssl-warnings\n",
      "  InsecureRequestWarning)\n"
     ]
    },
    {
     "name": "stdout",
     "output_type": "stream",
     "text": [
      "Warning: Failed to save image /run/user/1000/jupyter/kernel-13865298-2072-4dbc-9200-3fc1fa1c957b.json/777.jpg\n",
      "Warning: Failed to save image /run/user/1000/jupyter/kernel-13865298-2072-4dbc-9200-3fc1fa1c957b.json/791.jpg\n",
      "Warning: Failed to save image /run/user/1000/jupyter/kernel-13865298-2072-4dbc-9200-3fc1fa1c957b.json/799.jpg\n"
     ]
    },
    {
     "name": "stderr",
     "output_type": "stream",
     "text": [
      "/home/paperspace/anaconda3/envs/fastai/lib/python3.6/site-packages/urllib3/connectionpool.py:858: InsecureRequestWarning: Unverified HTTPS request is being made. Adding certificate verification is strongly advised. See: https://urllib3.readthedocs.io/en/latest/advanced-usage.html#ssl-warnings\n",
      "  InsecureRequestWarning)\n"
     ]
    },
    {
     "name": "stdout",
     "output_type": "stream",
     "text": [
      "Warning: Failed to save image /run/user/1000/jupyter/kernel-13865298-2072-4dbc-9200-3fc1fa1c957b.json/817.jpg\n",
      "Warning: Failed to save image /run/user/1000/jupyter/kernel-13865298-2072-4dbc-9200-3fc1fa1c957b.json/857.jpg\n"
     ]
    },
    {
     "name": "stderr",
     "output_type": "stream",
     "text": [
      "/home/paperspace/anaconda3/envs/fastai/lib/python3.6/site-packages/urllib3/connectionpool.py:858: InsecureRequestWarning: Unverified HTTPS request is being made. Adding certificate verification is strongly advised. See: https://urllib3.readthedocs.io/en/latest/advanced-usage.html#ssl-warnings\n",
      "  InsecureRequestWarning)\n",
      "/home/paperspace/anaconda3/envs/fastai/lib/python3.6/site-packages/urllib3/connectionpool.py:858: InsecureRequestWarning: Unverified HTTPS request is being made. Adding certificate verification is strongly advised. See: https://urllib3.readthedocs.io/en/latest/advanced-usage.html#ssl-warnings\n",
      "  InsecureRequestWarning)\n"
     ]
    },
    {
     "name": "stdout",
     "output_type": "stream",
     "text": [
      "Warning: Failed to save image /run/user/1000/jupyter/kernel-13865298-2072-4dbc-9200-3fc1fa1c957b.json/884.jpg\n"
     ]
    },
    {
     "name": "stderr",
     "output_type": "stream",
     "text": [
      "/home/paperspace/anaconda3/envs/fastai/lib/python3.6/site-packages/urllib3/connectionpool.py:858: InsecureRequestWarning: Unverified HTTPS request is being made. Adding certificate verification is strongly advised. See: https://urllib3.readthedocs.io/en/latest/advanced-usage.html#ssl-warnings\n",
      "  InsecureRequestWarning)\n",
      "/home/paperspace/anaconda3/envs/fastai/lib/python3.6/site-packages/urllib3/connectionpool.py:858: InsecureRequestWarning: Unverified HTTPS request is being made. Adding certificate verification is strongly advised. See: https://urllib3.readthedocs.io/en/latest/advanced-usage.html#ssl-warnings\n",
      "  InsecureRequestWarning)\n",
      "/home/paperspace/anaconda3/envs/fastai/lib/python3.6/site-packages/urllib3/connectionpool.py:858: InsecureRequestWarning: Unverified HTTPS request is being made. Adding certificate verification is strongly advised. See: https://urllib3.readthedocs.io/en/latest/advanced-usage.html#ssl-warnings\n",
      "  InsecureRequestWarning)\n"
     ]
    },
    {
     "name": "stdout",
     "output_type": "stream",
     "text": [
      "Warning: Failed to save image /run/user/1000/jupyter/kernel-13865298-2072-4dbc-9200-3fc1fa1c957b.json/897.jpg\n",
      "Warning: Failed to save image /run/user/1000/jupyter/kernel-13865298-2072-4dbc-9200-3fc1fa1c957b.json/899.jpg\n",
      "Warning: Failed to save image /run/user/1000/jupyter/kernel-13865298-2072-4dbc-9200-3fc1fa1c957b.json/918.jpg\n"
     ]
    },
    {
     "name": "stderr",
     "output_type": "stream",
     "text": [
      "/home/paperspace/anaconda3/envs/fastai/lib/python3.6/site-packages/urllib3/connectionpool.py:858: InsecureRequestWarning: Unverified HTTPS request is being made. Adding certificate verification is strongly advised. See: https://urllib3.readthedocs.io/en/latest/advanced-usage.html#ssl-warnings\n",
      "  InsecureRequestWarning)\n"
     ]
    },
    {
     "name": "stdout",
     "output_type": "stream",
     "text": [
      "Warning: Failed to save image /run/user/1000/jupyter/kernel-13865298-2072-4dbc-9200-3fc1fa1c957b.json/921.jpg\n",
      "Warning: Failed to save image /run/user/1000/jupyter/kernel-13865298-2072-4dbc-9200-3fc1fa1c957b.json/937.jpg\n"
     ]
    },
    {
     "name": "stderr",
     "output_type": "stream",
     "text": [
      "/home/paperspace/anaconda3/envs/fastai/lib/python3.6/site-packages/urllib3/connectionpool.py:858: InsecureRequestWarning: Unverified HTTPS request is being made. Adding certificate verification is strongly advised. See: https://urllib3.readthedocs.io/en/latest/advanced-usage.html#ssl-warnings\n",
      "  InsecureRequestWarning)\n"
     ]
    },
    {
     "name": "stdout",
     "output_type": "stream",
     "text": [
      "Warning: Failed to save image /run/user/1000/jupyter/kernel-13865298-2072-4dbc-9200-3fc1fa1c957b.json/944.jpg\n"
     ]
    },
    {
     "name": "stderr",
     "output_type": "stream",
     "text": [
      "/home/paperspace/anaconda3/envs/fastai/lib/python3.6/site-packages/urllib3/connectionpool.py:858: InsecureRequestWarning: Unverified HTTPS request is being made. Adding certificate verification is strongly advised. See: https://urllib3.readthedocs.io/en/latest/advanced-usage.html#ssl-warnings\n",
      "  InsecureRequestWarning)\n"
     ]
    },
    {
     "name": "stdout",
     "output_type": "stream",
     "text": [
      "Warning: Failed to save image /run/user/1000/jupyter/kernel-13865298-2072-4dbc-9200-3fc1fa1c957b.json/946.jpg\n",
      "Warning: Failed to save image /run/user/1000/jupyter/kernel-13865298-2072-4dbc-9200-3fc1fa1c957b.json/950.jpg\n"
     ]
    },
    {
     "name": "stderr",
     "output_type": "stream",
     "text": [
      "/home/paperspace/anaconda3/envs/fastai/lib/python3.6/site-packages/urllib3/connectionpool.py:858: InsecureRequestWarning: Unverified HTTPS request is being made. Adding certificate verification is strongly advised. See: https://urllib3.readthedocs.io/en/latest/advanced-usage.html#ssl-warnings\n",
      "  InsecureRequestWarning)\n"
     ]
    },
    {
     "name": "stdout",
     "output_type": "stream",
     "text": [
      "Warning: Failed to save image /run/user/1000/jupyter/kernel-13865298-2072-4dbc-9200-3fc1fa1c957b.json/980.jpg\n",
      "Warning: Failed to save image /run/user/1000/jupyter/kernel-13865298-2072-4dbc-9200-3fc1fa1c957b.json/1037.jpg\n"
     ]
    },
    {
     "name": "stderr",
     "output_type": "stream",
     "text": [
      "/home/paperspace/anaconda3/envs/fastai/lib/python3.6/site-packages/urllib3/connectionpool.py:858: InsecureRequestWarning: Unverified HTTPS request is being made. Adding certificate verification is strongly advised. See: https://urllib3.readthedocs.io/en/latest/advanced-usage.html#ssl-warnings\n",
      "  InsecureRequestWarning)\n"
     ]
    },
    {
     "name": "stdout",
     "output_type": "stream",
     "text": [
      "Warning: Failed to save image /run/user/1000/jupyter/kernel-13865298-2072-4dbc-9200-3fc1fa1c957b.json/1044.jpg\n",
      "Warning: Failed to save image /run/user/1000/jupyter/kernel-13865298-2072-4dbc-9200-3fc1fa1c957b.json/1051.jpg\n"
     ]
    },
    {
     "name": "stderr",
     "output_type": "stream",
     "text": [
      "/home/paperspace/anaconda3/envs/fastai/lib/python3.6/site-packages/urllib3/connectionpool.py:858: InsecureRequestWarning: Unverified HTTPS request is being made. Adding certificate verification is strongly advised. See: https://urllib3.readthedocs.io/en/latest/advanced-usage.html#ssl-warnings\n",
      "  InsecureRequestWarning)\n"
     ]
    },
    {
     "name": "stdout",
     "output_type": "stream",
     "text": [
      "Warning: Failed to save image /run/user/1000/jupyter/kernel-13865298-2072-4dbc-9200-3fc1fa1c957b.json/1057.jpg\n"
     ]
    },
    {
     "name": "stderr",
     "output_type": "stream",
     "text": [
      "/home/paperspace/anaconda3/envs/fastai/lib/python3.6/site-packages/urllib3/connectionpool.py:858: InsecureRequestWarning: Unverified HTTPS request is being made. Adding certificate verification is strongly advised. See: https://urllib3.readthedocs.io/en/latest/advanced-usage.html#ssl-warnings\n",
      "  InsecureRequestWarning)\n"
     ]
    },
    {
     "name": "stdout",
     "output_type": "stream",
     "text": [
      "Warning: Failed to save image /run/user/1000/jupyter/kernel-13865298-2072-4dbc-9200-3fc1fa1c957b.json/1088.jpg\n"
     ]
    },
    {
     "name": "stderr",
     "output_type": "stream",
     "text": [
      "/home/paperspace/anaconda3/envs/fastai/lib/python3.6/site-packages/urllib3/connectionpool.py:858: InsecureRequestWarning: Unverified HTTPS request is being made. Adding certificate verification is strongly advised. See: https://urllib3.readthedocs.io/en/latest/advanced-usage.html#ssl-warnings\n",
      "  InsecureRequestWarning)\n"
     ]
    },
    {
     "name": "stdout",
     "output_type": "stream",
     "text": [
      "Warning: Failed to save image /run/user/1000/jupyter/kernel-13865298-2072-4dbc-9200-3fc1fa1c957b.json/1109.jpg\n"
     ]
    },
    {
     "name": "stderr",
     "output_type": "stream",
     "text": [
      "/home/paperspace/anaconda3/envs/fastai/lib/python3.6/site-packages/urllib3/connectionpool.py:858: InsecureRequestWarning: Unverified HTTPS request is being made. Adding certificate verification is strongly advised. See: https://urllib3.readthedocs.io/en/latest/advanced-usage.html#ssl-warnings\n",
      "  InsecureRequestWarning)\n"
     ]
    },
    {
     "name": "stdout",
     "output_type": "stream",
     "text": [
      "Warning: Failed to save image /run/user/1000/jupyter/kernel-13865298-2072-4dbc-9200-3fc1fa1c957b.json/1112.jpg\n",
      "Warning: Failed to save image /run/user/1000/jupyter/kernel-13865298-2072-4dbc-9200-3fc1fa1c957b.json/1134.jpg\n",
      "Warning: Failed to save image /run/user/1000/jupyter/kernel-13865298-2072-4dbc-9200-3fc1fa1c957b.json/1147.jpg\n"
     ]
    },
    {
     "name": "stderr",
     "output_type": "stream",
     "text": [
      "/home/paperspace/anaconda3/envs/fastai/lib/python3.6/site-packages/urllib3/connectionpool.py:858: InsecureRequestWarning: Unverified HTTPS request is being made. Adding certificate verification is strongly advised. See: https://urllib3.readthedocs.io/en/latest/advanced-usage.html#ssl-warnings\n",
      "  InsecureRequestWarning)\n",
      "/home/paperspace/anaconda3/envs/fastai/lib/python3.6/site-packages/urllib3/connectionpool.py:858: InsecureRequestWarning: Unverified HTTPS request is being made. Adding certificate verification is strongly advised. See: https://urllib3.readthedocs.io/en/latest/advanced-usage.html#ssl-warnings\n",
      "  InsecureRequestWarning)\n"
     ]
    },
    {
     "name": "stdout",
     "output_type": "stream",
     "text": [
      "Warning: Failed to save image /run/user/1000/jupyter/kernel-13865298-2072-4dbc-9200-3fc1fa1c957b.json/1149.jpg\n",
      "Warning: Failed to save image /run/user/1000/jupyter/kernel-13865298-2072-4dbc-9200-3fc1fa1c957b.json/1151.jpg\n"
     ]
    },
    {
     "name": "stderr",
     "output_type": "stream",
     "text": [
      "/home/paperspace/anaconda3/envs/fastai/lib/python3.6/site-packages/urllib3/connectionpool.py:858: InsecureRequestWarning: Unverified HTTPS request is being made. Adding certificate verification is strongly advised. See: https://urllib3.readthedocs.io/en/latest/advanced-usage.html#ssl-warnings\n",
      "  InsecureRequestWarning)\n",
      "/home/paperspace/anaconda3/envs/fastai/lib/python3.6/site-packages/urllib3/connectionpool.py:858: InsecureRequestWarning: Unverified HTTPS request is being made. Adding certificate verification is strongly advised. See: https://urllib3.readthedocs.io/en/latest/advanced-usage.html#ssl-warnings\n",
      "  InsecureRequestWarning)\n"
     ]
    },
    {
     "name": "stdout",
     "output_type": "stream",
     "text": [
      "Warning: Failed to save image /run/user/1000/jupyter/kernel-13865298-2072-4dbc-9200-3fc1fa1c957b.json/1164.jpg\n",
      "Warning: Failed to save image /run/user/1000/jupyter/kernel-13865298-2072-4dbc-9200-3fc1fa1c957b.json/1181.jpg\n"
     ]
    },
    {
     "name": "stderr",
     "output_type": "stream",
     "text": [
      "/home/paperspace/anaconda3/envs/fastai/lib/python3.6/site-packages/urllib3/connectionpool.py:858: InsecureRequestWarning: Unverified HTTPS request is being made. Adding certificate verification is strongly advised. See: https://urllib3.readthedocs.io/en/latest/advanced-usage.html#ssl-warnings\n",
      "  InsecureRequestWarning)\n"
     ]
    },
    {
     "name": "stdout",
     "output_type": "stream",
     "text": [
      "Warning: Failed to save image /run/user/1000/jupyter/kernel-13865298-2072-4dbc-9200-3fc1fa1c957b.json/1228.jpg\n",
      "Warning: Failed to save image /run/user/1000/jupyter/kernel-13865298-2072-4dbc-9200-3fc1fa1c957b.json/1235.jpg\n",
      "Warning: Failed to save image /run/user/1000/jupyter/kernel-13865298-2072-4dbc-9200-3fc1fa1c957b.json/1299.jpg\n",
      "Warning: Failed to save image /run/user/1000/jupyter/kernel-13865298-2072-4dbc-9200-3fc1fa1c957b.json/1420.jpg\n",
      "Warning: Failed to save image /run/user/1000/jupyter/kernel-13865298-2072-4dbc-9200-3fc1fa1c957b.json/1518.jpg\n",
      "Warning: Failed to save image /run/user/1000/jupyter/kernel-13865298-2072-4dbc-9200-3fc1fa1c957b.json/1573.jpg\n"
     ]
    },
    {
     "name": "stderr",
     "output_type": "stream",
     "text": [
      "/home/paperspace/anaconda3/envs/fastai/lib/python3.6/site-packages/urllib3/connectionpool.py:858: InsecureRequestWarning: Unverified HTTPS request is being made. Adding certificate verification is strongly advised. See: https://urllib3.readthedocs.io/en/latest/advanced-usage.html#ssl-warnings\n",
      "  InsecureRequestWarning)\n",
      "/home/paperspace/anaconda3/envs/fastai/lib/python3.6/site-packages/urllib3/connectionpool.py:858: InsecureRequestWarning: Unverified HTTPS request is being made. Adding certificate verification is strongly advised. See: https://urllib3.readthedocs.io/en/latest/advanced-usage.html#ssl-warnings\n",
      "  InsecureRequestWarning)\n",
      "/home/paperspace/anaconda3/envs/fastai/lib/python3.6/site-packages/urllib3/connectionpool.py:858: InsecureRequestWarning: Unverified HTTPS request is being made. Adding certificate verification is strongly advised. See: https://urllib3.readthedocs.io/en/latest/advanced-usage.html#ssl-warnings\n",
      "  InsecureRequestWarning)\n"
     ]
    },
    {
     "name": "stdout",
     "output_type": "stream",
     "text": [
      "Warning: Failed to save image /run/user/1000/jupyter/kernel-13865298-2072-4dbc-9200-3fc1fa1c957b.json/1614.jpg\n",
      "Warning: Failed to save image /run/user/1000/jupyter/kernel-13865298-2072-4dbc-9200-3fc1fa1c957b.json/1676.jpg\n"
     ]
    },
    {
     "name": "stderr",
     "output_type": "stream",
     "text": [
      "/home/paperspace/anaconda3/envs/fastai/lib/python3.6/site-packages/urllib3/connectionpool.py:858: InsecureRequestWarning: Unverified HTTPS request is being made. Adding certificate verification is strongly advised. See: https://urllib3.readthedocs.io/en/latest/advanced-usage.html#ssl-warnings\n",
      "  InsecureRequestWarning)\n"
     ]
    },
    {
     "name": "stdout",
     "output_type": "stream",
     "text": [
      "Warning: Failed to save image /run/user/1000/jupyter/kernel-13865298-2072-4dbc-9200-3fc1fa1c957b.json/1691.jpg\n",
      "Warning: Failed to save image /run/user/1000/jupyter/kernel-13865298-2072-4dbc-9200-3fc1fa1c957b.json/1762.jpg\n",
      "Warning: Failed to save image /run/user/1000/jupyter/kernel-13865298-2072-4dbc-9200-3fc1fa1c957b.json/1784.jpg\n"
     ]
    },
    {
     "name": "stderr",
     "output_type": "stream",
     "text": [
      "/home/paperspace/anaconda3/envs/fastai/lib/python3.6/site-packages/urllib3/connectionpool.py:858: InsecureRequestWarning: Unverified HTTPS request is being made. Adding certificate verification is strongly advised. See: https://urllib3.readthedocs.io/en/latest/advanced-usage.html#ssl-warnings\n",
      "  InsecureRequestWarning)\n"
     ]
    },
    {
     "name": "stdout",
     "output_type": "stream",
     "text": [
      "Warning: Failed to save image /run/user/1000/jupyter/kernel-13865298-2072-4dbc-9200-3fc1fa1c957b.json/1800.jpg\n",
      "Warning: Failed to save image /run/user/1000/jupyter/kernel-13865298-2072-4dbc-9200-3fc1fa1c957b.json/1815.jpg\n",
      "Warning: Failed to save image /run/user/1000/jupyter/kernel-13865298-2072-4dbc-9200-3fc1fa1c957b.json/1845.jpg\n"
     ]
    },
    {
     "name": "stderr",
     "output_type": "stream",
     "text": [
      "/home/paperspace/anaconda3/envs/fastai/lib/python3.6/site-packages/urllib3/connectionpool.py:858: InsecureRequestWarning: Unverified HTTPS request is being made. Adding certificate verification is strongly advised. See: https://urllib3.readthedocs.io/en/latest/advanced-usage.html#ssl-warnings\n",
      "  InsecureRequestWarning)\n",
      "/home/paperspace/anaconda3/envs/fastai/lib/python3.6/site-packages/urllib3/connectionpool.py:858: InsecureRequestWarning: Unverified HTTPS request is being made. Adding certificate verification is strongly advised. See: https://urllib3.readthedocs.io/en/latest/advanced-usage.html#ssl-warnings\n",
      "  InsecureRequestWarning)\n",
      "/home/paperspace/anaconda3/envs/fastai/lib/python3.6/site-packages/urllib3/connectionpool.py:858: InsecureRequestWarning: Unverified HTTPS request is being made. Adding certificate verification is strongly advised. See: https://urllib3.readthedocs.io/en/latest/advanced-usage.html#ssl-warnings\n",
      "  InsecureRequestWarning)\n"
     ]
    },
    {
     "name": "stdout",
     "output_type": "stream",
     "text": [
      "Warning: Failed to save image /run/user/1000/jupyter/kernel-13865298-2072-4dbc-9200-3fc1fa1c957b.json/1874.jpg\n"
     ]
    },
    {
     "name": "stderr",
     "output_type": "stream",
     "text": [
      "/home/paperspace/anaconda3/envs/fastai/lib/python3.6/site-packages/urllib3/connectionpool.py:858: InsecureRequestWarning: Unverified HTTPS request is being made. Adding certificate verification is strongly advised. See: https://urllib3.readthedocs.io/en/latest/advanced-usage.html#ssl-warnings\n",
      "  InsecureRequestWarning)\n",
      "/home/paperspace/anaconda3/envs/fastai/lib/python3.6/site-packages/urllib3/connectionpool.py:858: InsecureRequestWarning: Unverified HTTPS request is being made. Adding certificate verification is strongly advised. See: https://urllib3.readthedocs.io/en/latest/advanced-usage.html#ssl-warnings\n",
      "  InsecureRequestWarning)\n"
     ]
    },
    {
     "name": "stdout",
     "output_type": "stream",
     "text": [
      "Warning: Failed to save image /run/user/1000/jupyter/kernel-13865298-2072-4dbc-9200-3fc1fa1c957b.json/2073.jpg\n",
      "Warning: Failed to save image /run/user/1000/jupyter/kernel-13865298-2072-4dbc-9200-3fc1fa1c957b.json/2259.jpg\n"
     ]
    },
    {
     "name": "stderr",
     "output_type": "stream",
     "text": [
      "/home/paperspace/anaconda3/envs/fastai/lib/python3.6/site-packages/urllib3/connectionpool.py:858: InsecureRequestWarning: Unverified HTTPS request is being made. Adding certificate verification is strongly advised. See: https://urllib3.readthedocs.io/en/latest/advanced-usage.html#ssl-warnings\n",
      "  InsecureRequestWarning)\n"
     ]
    },
    {
     "name": "stdout",
     "output_type": "stream",
     "text": [
      "Warning: Failed to save image /run/user/1000/jupyter/kernel-13865298-2072-4dbc-9200-3fc1fa1c957b.json/2283.jpg\n",
      "Warning: Failed to save image /run/user/1000/jupyter/kernel-13865298-2072-4dbc-9200-3fc1fa1c957b.json/2319.jpg\n",
      "Warning: Failed to save image /run/user/1000/jupyter/kernel-13865298-2072-4dbc-9200-3fc1fa1c957b.json/2336.jpg\n",
      "Warning: Failed to save image /run/user/1000/jupyter/kernel-13865298-2072-4dbc-9200-3fc1fa1c957b.json/2407.jpg\n"
     ]
    },
    {
     "name": "stderr",
     "output_type": "stream",
     "text": [
      "/home/paperspace/anaconda3/envs/fastai/lib/python3.6/site-packages/urllib3/connectionpool.py:858: InsecureRequestWarning: Unverified HTTPS request is being made. Adding certificate verification is strongly advised. See: https://urllib3.readthedocs.io/en/latest/advanced-usage.html#ssl-warnings\n",
      "  InsecureRequestWarning)\n",
      "/home/paperspace/anaconda3/envs/fastai/lib/python3.6/site-packages/urllib3/connectionpool.py:858: InsecureRequestWarning: Unverified HTTPS request is being made. Adding certificate verification is strongly advised. See: https://urllib3.readthedocs.io/en/latest/advanced-usage.html#ssl-warnings\n",
      "  InsecureRequestWarning)\n"
     ]
    },
    {
     "name": "stdout",
     "output_type": "stream",
     "text": [
      "Warning: Failed to save image /run/user/1000/jupyter/kernel-13865298-2072-4dbc-9200-3fc1fa1c957b.json/2457.jpg\n",
      "Warning: Failed to save image /run/user/1000/jupyter/kernel-13865298-2072-4dbc-9200-3fc1fa1c957b.json/2491.jpg\n"
     ]
    },
    {
     "name": "stderr",
     "output_type": "stream",
     "text": [
      "/home/paperspace/anaconda3/envs/fastai/lib/python3.6/site-packages/urllib3/connectionpool.py:858: InsecureRequestWarning: Unverified HTTPS request is being made. Adding certificate verification is strongly advised. See: https://urllib3.readthedocs.io/en/latest/advanced-usage.html#ssl-warnings\n",
      "  InsecureRequestWarning)\n",
      "/home/paperspace/anaconda3/envs/fastai/lib/python3.6/site-packages/urllib3/connectionpool.py:858: InsecureRequestWarning: Unverified HTTPS request is being made. Adding certificate verification is strongly advised. See: https://urllib3.readthedocs.io/en/latest/advanced-usage.html#ssl-warnings\n",
      "  InsecureRequestWarning)\n"
     ]
    },
    {
     "name": "stdout",
     "output_type": "stream",
     "text": [
      "Warning: Failed to save image /run/user/1000/jupyter/kernel-13865298-2072-4dbc-9200-3fc1fa1c957b.json/2543.jpg\n"
     ]
    },
    {
     "name": "stderr",
     "output_type": "stream",
     "text": [
      "/home/paperspace/anaconda3/envs/fastai/lib/python3.6/site-packages/urllib3/connectionpool.py:858: InsecureRequestWarning: Unverified HTTPS request is being made. Adding certificate verification is strongly advised. See: https://urllib3.readthedocs.io/en/latest/advanced-usage.html#ssl-warnings\n",
      "  InsecureRequestWarning)\n"
     ]
    },
    {
     "name": "stdout",
     "output_type": "stream",
     "text": [
      "Warning: Failed to save image /run/user/1000/jupyter/kernel-13865298-2072-4dbc-9200-3fc1fa1c957b.json/2770.jpg\n"
     ]
    },
    {
     "name": "stderr",
     "output_type": "stream",
     "text": [
      "/home/paperspace/anaconda3/envs/fastai/lib/python3.6/site-packages/urllib3/connectionpool.py:858: InsecureRequestWarning: Unverified HTTPS request is being made. Adding certificate verification is strongly advised. See: https://urllib3.readthedocs.io/en/latest/advanced-usage.html#ssl-warnings\n",
      "  InsecureRequestWarning)\n"
     ]
    },
    {
     "name": "stdout",
     "output_type": "stream",
     "text": [
      "Warning: Failed to save image /run/user/1000/jupyter/kernel-13865298-2072-4dbc-9200-3fc1fa1c957b.json/2933.jpg\n",
      "Warning: Failed to save image /run/user/1000/jupyter/kernel-13865298-2072-4dbc-9200-3fc1fa1c957b.json/2981.jpg\n",
      "Warning: Failed to save image /run/user/1000/jupyter/kernel-13865298-2072-4dbc-9200-3fc1fa1c957b.json/3043.jpg\n"
     ]
    },
    {
     "name": "stderr",
     "output_type": "stream",
     "text": [
      "/home/paperspace/anaconda3/envs/fastai/lib/python3.6/site-packages/urllib3/connectionpool.py:858: InsecureRequestWarning: Unverified HTTPS request is being made. Adding certificate verification is strongly advised. See: https://urllib3.readthedocs.io/en/latest/advanced-usage.html#ssl-warnings\n",
      "  InsecureRequestWarning)\n",
      "/home/paperspace/anaconda3/envs/fastai/lib/python3.6/site-packages/urllib3/connectionpool.py:858: InsecureRequestWarning: Unverified HTTPS request is being made. Adding certificate verification is strongly advised. See: https://urllib3.readthedocs.io/en/latest/advanced-usage.html#ssl-warnings\n",
      "  InsecureRequestWarning)\n"
     ]
    },
    {
     "name": "stdout",
     "output_type": "stream",
     "text": [
      "Warning: Failed to save image /run/user/1000/jupyter/kernel-13865298-2072-4dbc-9200-3fc1fa1c957b.json/3095.jpg\n"
     ]
    },
    {
     "name": "stderr",
     "output_type": "stream",
     "text": [
      "/home/paperspace/anaconda3/envs/fastai/lib/python3.6/site-packages/urllib3/connectionpool.py:858: InsecureRequestWarning: Unverified HTTPS request is being made. Adding certificate verification is strongly advised. See: https://urllib3.readthedocs.io/en/latest/advanced-usage.html#ssl-warnings\n",
      "  InsecureRequestWarning)\n"
     ]
    },
    {
     "name": "stdout",
     "output_type": "stream",
     "text": [
      "Warning: Failed to save image /run/user/1000/jupyter/kernel-13865298-2072-4dbc-9200-3fc1fa1c957b.json/3177.jpg\n"
     ]
    },
    {
     "name": "stderr",
     "output_type": "stream",
     "text": [
      "/home/paperspace/anaconda3/envs/fastai/lib/python3.6/site-packages/urllib3/connectionpool.py:858: InsecureRequestWarning: Unverified HTTPS request is being made. Adding certificate verification is strongly advised. See: https://urllib3.readthedocs.io/en/latest/advanced-usage.html#ssl-warnings\n",
      "  InsecureRequestWarning)\n"
     ]
    },
    {
     "name": "stdout",
     "output_type": "stream",
     "text": [
      "Warning: Failed to save image /run/user/1000/jupyter/kernel-13865298-2072-4dbc-9200-3fc1fa1c957b.json/3239.jpg\n",
      "Warning: Failed to save image /run/user/1000/jupyter/kernel-13865298-2072-4dbc-9200-3fc1fa1c957b.json/3269.jpg\n"
     ]
    },
    {
     "name": "stderr",
     "output_type": "stream",
     "text": [
      "/home/paperspace/anaconda3/envs/fastai/lib/python3.6/site-packages/urllib3/connectionpool.py:858: InsecureRequestWarning: Unverified HTTPS request is being made. Adding certificate verification is strongly advised. See: https://urllib3.readthedocs.io/en/latest/advanced-usage.html#ssl-warnings\n",
      "  InsecureRequestWarning)\n"
     ]
    },
    {
     "name": "stdout",
     "output_type": "stream",
     "text": [
      "Warning: Failed to save image /run/user/1000/jupyter/kernel-13865298-2072-4dbc-9200-3fc1fa1c957b.json/3320.jpg\n",
      "Warning: Failed to save image /run/user/1000/jupyter/kernel-13865298-2072-4dbc-9200-3fc1fa1c957b.json/3359.jpg\n"
     ]
    },
    {
     "name": "stderr",
     "output_type": "stream",
     "text": [
      "/home/paperspace/anaconda3/envs/fastai/lib/python3.6/site-packages/urllib3/connectionpool.py:858: InsecureRequestWarning: Unverified HTTPS request is being made. Adding certificate verification is strongly advised. See: https://urllib3.readthedocs.io/en/latest/advanced-usage.html#ssl-warnings\n",
      "  InsecureRequestWarning)\n"
     ]
    },
    {
     "name": "stdout",
     "output_type": "stream",
     "text": [
      "Warning: Failed to save image /run/user/1000/jupyter/kernel-13865298-2072-4dbc-9200-3fc1fa1c957b.json/3388.jpg\n",
      "Warning: Failed to save image /run/user/1000/jupyter/kernel-13865298-2072-4dbc-9200-3fc1fa1c957b.json/3514.jpg\n",
      "Warning: Failed to save image /run/user/1000/jupyter/kernel-13865298-2072-4dbc-9200-3fc1fa1c957b.json/3628.jpg\n",
      "Warning: Failed to save image /run/user/1000/jupyter/kernel-13865298-2072-4dbc-9200-3fc1fa1c957b.json/3646.jpg\n",
      "Warning: Failed to save image /run/user/1000/jupyter/kernel-13865298-2072-4dbc-9200-3fc1fa1c957b.json/3718.jpg\n"
     ]
    },
    {
     "name": "stderr",
     "output_type": "stream",
     "text": [
      "/home/paperspace/anaconda3/envs/fastai/lib/python3.6/site-packages/urllib3/connectionpool.py:858: InsecureRequestWarning: Unverified HTTPS request is being made. Adding certificate verification is strongly advised. See: https://urllib3.readthedocs.io/en/latest/advanced-usage.html#ssl-warnings\n",
      "  InsecureRequestWarning)\n",
      "/home/paperspace/anaconda3/envs/fastai/lib/python3.6/site-packages/urllib3/connectionpool.py:858: InsecureRequestWarning: Unverified HTTPS request is being made. Adding certificate verification is strongly advised. See: https://urllib3.readthedocs.io/en/latest/advanced-usage.html#ssl-warnings\n",
      "  InsecureRequestWarning)\n"
     ]
    },
    {
     "name": "stdout",
     "output_type": "stream",
     "text": [
      "Warning: Failed to save image /run/user/1000/jupyter/kernel-13865298-2072-4dbc-9200-3fc1fa1c957b.json/3818.jpg\n",
      "Warning: Failed to save image /run/user/1000/jupyter/kernel-13865298-2072-4dbc-9200-3fc1fa1c957b.json/3841.jpg\n",
      "Warning: Failed to save image /run/user/1000/jupyter/kernel-13865298-2072-4dbc-9200-3fc1fa1c957b.json/3912.jpg\n"
     ]
    },
    {
     "name": "stderr",
     "output_type": "stream",
     "text": [
      "Process ForkPoolWorker-59:\n",
      "Process ForkPoolWorker-51:\n",
      "Process ForkPoolWorker-53:\n",
      "Process ForkPoolWorker-56:\n",
      "Process ForkPoolWorker-52:\n",
      "Process ForkPoolWorker-49:\n",
      "Process ForkPoolWorker-58:\n",
      "Process ForkPoolWorker-48:\n",
      "Process ForkPoolWorker-54:\n",
      "Process ForkPoolWorker-50:\n",
      "Traceback (most recent call last):\n",
      "Traceback (most recent call last):\n",
      "Process ForkPoolWorker-57:\n",
      "Process ForkPoolWorker-55:\n",
      "  File \"/home/paperspace/anaconda3/envs/fastai/lib/python3.6/multiprocessing/process.py\", line 258, in _bootstrap\n",
      "    self.run()\n",
      "Traceback (most recent call last):\n",
      "Traceback (most recent call last):\n",
      "  File \"/home/paperspace/anaconda3/envs/fastai/lib/python3.6/multiprocessing/process.py\", line 258, in _bootstrap\n",
      "    self.run()\n",
      "Traceback (most recent call last):\n",
      "Traceback (most recent call last):\n",
      "Traceback (most recent call last):\n",
      "Traceback (most recent call last):\n",
      "  File \"/home/paperspace/anaconda3/envs/fastai/lib/python3.6/multiprocessing/process.py\", line 258, in _bootstrap\n",
      "    self.run()\n",
      "  File \"/home/paperspace/anaconda3/envs/fastai/lib/python3.6/multiprocessing/process.py\", line 93, in run\n",
      "    self._target(*self._args, **self._kwargs)\n",
      "  File \"/home/paperspace/anaconda3/envs/fastai/lib/python3.6/multiprocessing/pool.py\", line 108, in worker\n",
      "    task = get()\n",
      "  File \"/home/paperspace/anaconda3/envs/fastai/lib/python3.6/multiprocessing/queues.py\", line 334, in get\n",
      "    with self._rlock:\n",
      "  File \"/home/paperspace/anaconda3/envs/fastai/lib/python3.6/multiprocessing/synchronize.py\", line 96, in __enter__\n",
      "    return self._semlock.__enter__()\n",
      "KeyboardInterrupt\n",
      "Traceback (most recent call last):\n",
      "  File \"/home/paperspace/anaconda3/envs/fastai/lib/python3.6/multiprocessing/process.py\", line 258, in _bootstrap\n",
      "    self.run()\n",
      "  File \"/home/paperspace/anaconda3/envs/fastai/lib/python3.6/multiprocessing/process.py\", line 93, in run\n",
      "    self._target(*self._args, **self._kwargs)\n",
      "  File \"/home/paperspace/anaconda3/envs/fastai/lib/python3.6/multiprocessing/pool.py\", line 108, in worker\n",
      "    task = get()\n",
      "Traceback (most recent call last):\n",
      "  File \"/home/paperspace/anaconda3/envs/fastai/lib/python3.6/multiprocessing/queues.py\", line 334, in get\n",
      "    with self._rlock:\n",
      "  File \"/home/paperspace/anaconda3/envs/fastai/lib/python3.6/multiprocessing/synchronize.py\", line 96, in __enter__\n",
      "    return self._semlock.__enter__()\n",
      "KeyboardInterrupt\n",
      "  File \"/home/paperspace/anaconda3/envs/fastai/lib/python3.6/multiprocessing/process.py\", line 93, in run\n",
      "    self._target(*self._args, **self._kwargs)\n",
      "  File \"/home/paperspace/anaconda3/envs/fastai/lib/python3.6/multiprocessing/process.py\", line 258, in _bootstrap\n",
      "    self.run()\n",
      "  File \"/home/paperspace/anaconda3/envs/fastai/lib/python3.6/multiprocessing/process.py\", line 258, in _bootstrap\n",
      "    self.run()\n",
      "  File \"/home/paperspace/anaconda3/envs/fastai/lib/python3.6/multiprocessing/process.py\", line 258, in _bootstrap\n",
      "    self.run()\n",
      "  File \"/home/paperspace/anaconda3/envs/fastai/lib/python3.6/multiprocessing/process.py\", line 258, in _bootstrap\n",
      "    self.run()\n",
      "  File \"/home/paperspace/anaconda3/envs/fastai/lib/python3.6/multiprocessing/process.py\", line 93, in run\n",
      "    self._target(*self._args, **self._kwargs)\n",
      "  File \"/home/paperspace/anaconda3/envs/fastai/lib/python3.6/multiprocessing/process.py\", line 93, in run\n",
      "    self._target(*self._args, **self._kwargs)\n",
      "  File \"/home/paperspace/anaconda3/envs/fastai/lib/python3.6/multiprocessing/process.py\", line 93, in run\n",
      "    self._target(*self._args, **self._kwargs)\n",
      "  File \"/home/paperspace/anaconda3/envs/fastai/lib/python3.6/multiprocessing/process.py\", line 258, in _bootstrap\n",
      "    self.run()\n",
      "  File \"/home/paperspace/anaconda3/envs/fastai/lib/python3.6/multiprocessing/pool.py\", line 108, in worker\n",
      "    task = get()\n",
      "Traceback (most recent call last):\n",
      "  File \"/home/paperspace/anaconda3/envs/fastai/lib/python3.6/multiprocessing/process.py\", line 258, in _bootstrap\n",
      "    self.run()\n",
      "Traceback (most recent call last):\n",
      "  File \"/home/paperspace/anaconda3/envs/fastai/lib/python3.6/multiprocessing/process.py\", line 258, in _bootstrap\n",
      "    self.run()\n",
      "  File \"/home/paperspace/anaconda3/envs/fastai/lib/python3.6/multiprocessing/pool.py\", line 108, in worker\n",
      "    task = get()\n",
      "  File \"/home/paperspace/anaconda3/envs/fastai/lib/python3.6/multiprocessing/process.py\", line 93, in run\n",
      "    self._target(*self._args, **self._kwargs)\n",
      "  File \"/home/paperspace/anaconda3/envs/fastai/lib/python3.6/multiprocessing/queues.py\", line 335, in get\n",
      "    res = self._reader.recv_bytes()\n",
      "  File \"/home/paperspace/anaconda3/envs/fastai/lib/python3.6/multiprocessing/process.py\", line 93, in run\n",
      "    self._target(*self._args, **self._kwargs)\n",
      "  File \"/home/paperspace/anaconda3/envs/fastai/lib/python3.6/multiprocessing/pool.py\", line 108, in worker\n",
      "    task = get()\n",
      "  File \"/home/paperspace/anaconda3/envs/fastai/lib/python3.6/multiprocessing/queues.py\", line 334, in get\n",
      "    with self._rlock:\n",
      "  File \"/home/paperspace/anaconda3/envs/fastai/lib/python3.6/multiprocessing/pool.py\", line 108, in worker\n",
      "    task = get()\n",
      "  File \"/home/paperspace/anaconda3/envs/fastai/lib/python3.6/multiprocessing/process.py\", line 93, in run\n",
      "    self._target(*self._args, **self._kwargs)\n",
      "  File \"/home/paperspace/anaconda3/envs/fastai/lib/python3.6/multiprocessing/synchronize.py\", line 96, in __enter__\n",
      "    return self._semlock.__enter__()\n",
      "KeyboardInterrupt\n",
      "  File \"/home/paperspace/anaconda3/envs/fastai/lib/python3.6/multiprocessing/pool.py\", line 108, in worker\n",
      "    task = get()\n",
      "  File \"/home/paperspace/anaconda3/envs/fastai/lib/python3.6/multiprocessing/queues.py\", line 334, in get\n",
      "    with self._rlock:\n",
      "  File \"/home/paperspace/anaconda3/envs/fastai/lib/python3.6/multiprocessing/queues.py\", line 334, in get\n",
      "    with self._rlock:\n",
      "  File \"/home/paperspace/anaconda3/envs/fastai/lib/python3.6/multiprocessing/synchronize.py\", line 96, in __enter__\n",
      "    return self._semlock.__enter__()\n"
     ]
    },
    {
     "name": "stdout",
     "output_type": "stream",
     "text": [
      "Warning: Could not download image 3970 from http://scimg.jb51.net/allimg/160331/10-16033116400AS.jpg\n"
     ]
    },
    {
     "name": "stderr",
     "output_type": "stream",
     "text": [
      "KeyboardInterrupt\n",
      "  File \"/home/paperspace/anaconda3/envs/fastai/lib/python3.6/multiprocessing/process.py\", line 93, in run\n",
      "    self._target(*self._args, **self._kwargs)\n",
      "  File \"/home/paperspace/anaconda3/envs/fastai/lib/python3.6/multiprocessing/process.py\", line 93, in run\n",
      "    self._target(*self._args, **self._kwargs)\n",
      "  File \"/home/paperspace/anaconda3/envs/fastai/lib/python3.6/multiprocessing/queues.py\", line 334, in get\n",
      "    with self._rlock:\n",
      "  File \"/home/paperspace/anaconda3/envs/fastai/lib/python3.6/multiprocessing/process.py\", line 258, in _bootstrap\n",
      "    self.run()\n",
      "  File \"/home/paperspace/anaconda3/envs/fastai/lib/python3.6/multiprocessing/connection.py\", line 216, in recv_bytes\n",
      "    buf = self._recv_bytes(maxlength)\n",
      "  File \"/home/paperspace/anaconda3/envs/fastai/lib/python3.6/multiprocessing/pool.py\", line 108, in worker\n",
      "    task = get()\n",
      "  File \"/home/paperspace/anaconda3/envs/fastai/lib/python3.6/multiprocessing/pool.py\", line 108, in worker\n",
      "    task = get()\n",
      "  File \"/home/paperspace/anaconda3/envs/fastai/lib/python3.6/multiprocessing/synchronize.py\", line 96, in __enter__\n",
      "    return self._semlock.__enter__()\n",
      "  File \"/home/paperspace/anaconda3/envs/fastai/lib/python3.6/multiprocessing/pool.py\", line 108, in worker\n",
      "    task = get()\n",
      "  File \"/home/paperspace/anaconda3/envs/fastai/lib/python3.6/multiprocessing/queues.py\", line 334, in get\n",
      "    with self._rlock:\n",
      "  File \"/home/paperspace/anaconda3/envs/fastai/lib/python3.6/multiprocessing/queues.py\", line 334, in get\n",
      "    with self._rlock:\n",
      "  File \"/home/paperspace/anaconda3/envs/fastai/lib/python3.6/multiprocessing/pool.py\", line 108, in worker\n",
      "    task = get()\n",
      "KeyboardInterrupt\n",
      "  File \"/home/paperspace/anaconda3/envs/fastai/lib/python3.6/multiprocessing/synchronize.py\", line 96, in __enter__\n",
      "    return self._semlock.__enter__()\n",
      "  File \"/home/paperspace/anaconda3/envs/fastai/lib/python3.6/multiprocessing/synchronize.py\", line 96, in __enter__\n",
      "    return self._semlock.__enter__()\n",
      "  File \"/home/paperspace/anaconda3/envs/fastai/lib/python3.6/multiprocessing/synchronize.py\", line 96, in __enter__\n",
      "    return self._semlock.__enter__()\n",
      "  File \"/home/paperspace/anaconda3/envs/fastai/lib/python3.6/multiprocessing/queues.py\", line 334, in get\n",
      "    with self._rlock:\n",
      "  File \"/home/paperspace/anaconda3/envs/fastai/lib/python3.6/multiprocessing/connection.py\", line 407, in _recv_bytes\n",
      "    buf = self._recv(4)\n",
      "  File \"/home/paperspace/anaconda3/envs/fastai/lib/python3.6/multiprocessing/process.py\", line 93, in run\n",
      "    self._target(*self._args, **self._kwargs)\n",
      "  File \"/home/paperspace/anaconda3/envs/fastai/lib/python3.6/multiprocessing/queues.py\", line 334, in get\n",
      "    with self._rlock:\n",
      "KeyboardInterrupt\n",
      "  File \"/home/paperspace/anaconda3/envs/fastai/lib/python3.6/multiprocessing/synchronize.py\", line 96, in __enter__\n",
      "    return self._semlock.__enter__()\n",
      "  File \"/home/paperspace/anaconda3/envs/fastai/lib/python3.6/multiprocessing/synchronize.py\", line 96, in __enter__\n",
      "    return self._semlock.__enter__()\n",
      "KeyboardInterrupt\n",
      "KeyboardInterrupt\n",
      "KeyboardInterrupt\n",
      "KeyboardInterrupt\n",
      "  File \"/home/paperspace/anaconda3/envs/fastai/lib/python3.6/multiprocessing/pool.py\", line 108, in worker\n",
      "    task = get()\n",
      "  File \"/home/paperspace/anaconda3/envs/fastai/lib/python3.6/multiprocessing/connection.py\", line 379, in _recv\n",
      "    chunk = read(handle, remaining)\n",
      "  File \"/home/paperspace/anaconda3/envs/fastai/lib/python3.6/multiprocessing/queues.py\", line 334, in get\n",
      "    with self._rlock:\n",
      "KeyboardInterrupt\n",
      "  File \"/home/paperspace/anaconda3/envs/fastai/lib/python3.6/multiprocessing/synchronize.py\", line 96, in __enter__\n",
      "    return self._semlock.__enter__()\n",
      "KeyboardInterrupt\n",
      "Process ForkPoolWorker-70:\n",
      "Process ForkPoolWorker-66:\n",
      "Process ForkPoolWorker-67:\n",
      "Process ForkPoolWorker-72:\n",
      "Process ForkPoolWorker-65:\n",
      "Process ForkPoolWorker-60:\n",
      "Process ForkPoolWorker-68:\n",
      "Process ForkPoolWorker-61:\n",
      "Process ForkPoolWorker-71:\n",
      "  File \"/home/paperspace/anaconda3/envs/fastai/lib/python3.6/multiprocessing/process.py\", line 258, in _bootstrap\n",
      "    self.run()\n",
      "Traceback (most recent call last):\n",
      "  File \"/home/paperspace/anaconda3/envs/fastai/lib/python3.6/multiprocessing/process.py\", line 93, in run\n",
      "    self._target(*self._args, **self._kwargs)\n",
      "  File \"/home/paperspace/anaconda3/envs/fastai/lib/python3.6/multiprocessing/process.py\", line 258, in _bootstrap\n",
      "    self.run()\n",
      "Traceback (most recent call last):\n",
      "Traceback (most recent call last):\n",
      "  File \"/home/paperspace/anaconda3/envs/fastai/lib/python3.6/multiprocessing/process.py\", line 258, in _bootstrap\n",
      "    self.run()\n",
      "  File \"/home/paperspace/anaconda3/envs/fastai/lib/python3.6/multiprocessing/pool.py\", line 108, in worker\n",
      "    task = get()\n",
      "Traceback (most recent call last):\n",
      "  File \"/home/paperspace/anaconda3/envs/fastai/lib/python3.6/multiprocessing/queues.py\", line 334, in get\n",
      "    with self._rlock:\n",
      "Traceback (most recent call last):\n",
      "Traceback (most recent call last):\n",
      "  File \"/home/paperspace/anaconda3/envs/fastai/lib/python3.6/multiprocessing/synchronize.py\", line 96, in __enter__\n",
      "    return self._semlock.__enter__()\n",
      "  File \"/home/paperspace/anaconda3/envs/fastai/lib/python3.6/multiprocessing/process.py\", line 93, in run\n",
      "    self._target(*self._args, **self._kwargs)\n",
      "KeyboardInterrupt\n",
      "  File \"/home/paperspace/anaconda3/envs/fastai/lib/python3.6/multiprocessing/process.py\", line 258, in _bootstrap\n",
      "    self.run()\n",
      "  File \"/home/paperspace/anaconda3/envs/fastai/lib/python3.6/multiprocessing/process.py\", line 258, in _bootstrap\n",
      "    self.run()\n",
      "  File \"/home/paperspace/anaconda3/envs/fastai/lib/python3.6/multiprocessing/pool.py\", line 108, in worker\n",
      "    task = get()\n",
      "Process ForkPoolWorker-64:\n",
      "  File \"/home/paperspace/anaconda3/envs/fastai/lib/python3.6/multiprocessing/process.py\", line 258, in _bootstrap\n",
      "    self.run()\n",
      "  File \"/home/paperspace/anaconda3/envs/fastai/lib/python3.6/multiprocessing/process.py\", line 93, in run\n",
      "    self._target(*self._args, **self._kwargs)\n",
      "Traceback (most recent call last):\n",
      "  File \"/home/paperspace/anaconda3/envs/fastai/lib/python3.6/multiprocessing/process.py\", line 93, in run\n",
      "    self._target(*self._args, **self._kwargs)\n",
      "  File \"/home/paperspace/anaconda3/envs/fastai/lib/python3.6/multiprocessing/pool.py\", line 108, in worker\n",
      "    task = get()\n",
      "  File \"/home/paperspace/anaconda3/envs/fastai/lib/python3.6/multiprocessing/queues.py\", line 335, in get\n",
      "    res = self._reader.recv_bytes()\n",
      "  File \"/home/paperspace/anaconda3/envs/fastai/lib/python3.6/multiprocessing/synchronize.py\", line 96, in __enter__\n",
      "    return self._semlock.__enter__()\n",
      "  File \"/home/paperspace/anaconda3/envs/fastai/lib/python3.6/multiprocessing/process.py\", line 93, in run\n",
      "    self._target(*self._args, **self._kwargs)\n",
      "  File \"/home/paperspace/anaconda3/envs/fastai/lib/python3.6/multiprocessing/connection.py\", line 216, in recv_bytes\n",
      "    buf = self._recv_bytes(maxlength)\n",
      "  File \"/home/paperspace/anaconda3/envs/fastai/lib/python3.6/multiprocessing/connection.py\", line 407, in _recv_bytes\n",
      "    buf = self._recv(4)\n",
      "  File \"/home/paperspace/anaconda3/envs/fastai/lib/python3.6/multiprocessing/queues.py\", line 334, in get\n",
      "    with self._rlock:\n",
      "  File \"/home/paperspace/anaconda3/envs/fastai/lib/python3.6/multiprocessing/connection.py\", line 379, in _recv\n",
      "    chunk = read(handle, remaining)\n",
      "  File \"/home/paperspace/anaconda3/envs/fastai/lib/python3.6/multiprocessing/process.py\", line 93, in run\n",
      "    self._target(*self._args, **self._kwargs)\n",
      "KeyboardInterrupt\n",
      "Traceback (most recent call last):\n",
      "Process ForkPoolWorker-62:\n",
      "  File \"/home/paperspace/anaconda3/envs/fastai/lib/python3.6/multiprocessing/pool.py\", line 108, in worker\n",
      "    task = get()\n",
      "Traceback (most recent call last):\n",
      "  File \"/home/paperspace/anaconda3/envs/fastai/lib/python3.6/multiprocessing/process.py\", line 258, in _bootstrap\n",
      "    self.run()\n",
      "  File \"/home/paperspace/anaconda3/envs/fastai/lib/python3.6/multiprocessing/pool.py\", line 108, in worker\n",
      "    task = get()\n",
      "KeyboardInterrupt\n",
      "  File \"/home/paperspace/anaconda3/envs/fastai/lib/python3.6/multiprocessing/queues.py\", line 334, in get\n",
      "    with self._rlock:\n",
      "  File \"/home/paperspace/anaconda3/envs/fastai/lib/python3.6/multiprocessing/pool.py\", line 108, in worker\n",
      "    task = get()\n",
      "  File \"/home/paperspace/anaconda3/envs/fastai/lib/python3.6/multiprocessing/queues.py\", line 334, in get\n",
      "    with self._rlock:\n"
     ]
    },
    {
     "name": "stderr",
     "output_type": "stream",
     "text": [
      "Process ForkPoolWorker-63:\n",
      "Process ForkPoolWorker-69:\n",
      "Traceback (most recent call last):\n",
      "  File \"/home/paperspace/anaconda3/envs/fastai/lib/python3.6/multiprocessing/synchronize.py\", line 96, in __enter__\n",
      "    return self._semlock.__enter__()\n",
      "Traceback (most recent call last):\n",
      "  File \"/home/paperspace/anaconda3/envs/fastai/lib/python3.6/multiprocessing/process.py\", line 258, in _bootstrap\n",
      "    self.run()\n",
      "  File \"/home/paperspace/anaconda3/envs/fastai/lib/python3.6/multiprocessing/process.py\", line 258, in _bootstrap\n",
      "    self.run()\n",
      "Traceback (most recent call last):\n",
      "  File \"/home/paperspace/anaconda3/envs/fastai/lib/python3.6/multiprocessing/process.py\", line 93, in run\n",
      "    self._target(*self._args, **self._kwargs)\n",
      "  File \"/home/paperspace/anaconda3/envs/fastai/lib/python3.6/multiprocessing/process.py\", line 93, in run\n",
      "    self._target(*self._args, **self._kwargs)\n",
      "  File \"/home/paperspace/anaconda3/envs/fastai/lib/python3.6/multiprocessing/pool.py\", line 108, in worker\n",
      "    task = get()\n",
      "  File \"/home/paperspace/anaconda3/envs/fastai/lib/python3.6/multiprocessing/synchronize.py\", line 96, in __enter__\n",
      "    return self._semlock.__enter__()\n",
      "  File \"/home/paperspace/anaconda3/envs/fastai/lib/python3.6/multiprocessing/process.py\", line 258, in _bootstrap\n",
      "    self.run()\n",
      "Traceback (most recent call last):\n",
      "  File \"/home/paperspace/anaconda3/envs/fastai/lib/python3.6/multiprocessing/queues.py\", line 334, in get\n",
      "    with self._rlock:\n",
      "  File \"/home/paperspace/anaconda3/envs/fastai/lib/python3.6/multiprocessing/queues.py\", line 334, in get\n",
      "    with self._rlock:\n",
      "  File \"/home/paperspace/anaconda3/envs/fastai/lib/python3.6/multiprocessing/pool.py\", line 108, in worker\n",
      "    task = get()\n",
      "KeyboardInterrupt\n",
      "  File \"/home/paperspace/anaconda3/envs/fastai/lib/python3.6/multiprocessing/process.py\", line 258, in _bootstrap\n",
      "    self.run()\n",
      "  File \"/home/paperspace/anaconda3/envs/fastai/lib/python3.6/multiprocessing/pool.py\", line 108, in worker\n",
      "    task = get()\n",
      "  File \"/home/paperspace/anaconda3/envs/fastai/lib/python3.6/multiprocessing/queues.py\", line 334, in get\n",
      "    with self._rlock:\n",
      "  File \"/home/paperspace/anaconda3/envs/fastai/lib/python3.6/multiprocessing/process.py\", line 93, in run\n",
      "    self._target(*self._args, **self._kwargs)\n",
      "  File \"/home/paperspace/anaconda3/envs/fastai/lib/python3.6/multiprocessing/synchronize.py\", line 96, in __enter__\n",
      "    return self._semlock.__enter__()\n",
      "  File \"/home/paperspace/anaconda3/envs/fastai/lib/python3.6/multiprocessing/process.py\", line 258, in _bootstrap\n",
      "    self.run()\n",
      "KeyboardInterrupt\n",
      "  File \"/home/paperspace/anaconda3/envs/fastai/lib/python3.6/multiprocessing/process.py\", line 93, in run\n",
      "    self._target(*self._args, **self._kwargs)\n",
      "  File \"/home/paperspace/anaconda3/envs/fastai/lib/python3.6/multiprocessing/synchronize.py\", line 96, in __enter__\n",
      "    return self._semlock.__enter__()\n",
      "KeyboardInterrupt\n",
      "  File \"/home/paperspace/anaconda3/envs/fastai/lib/python3.6/multiprocessing/process.py\", line 93, in run\n",
      "    self._target(*self._args, **self._kwargs)\n",
      "  File \"/home/paperspace/anaconda3/envs/fastai/lib/python3.6/multiprocessing/process.py\", line 93, in run\n",
      "    self._target(*self._args, **self._kwargs)\n",
      "  File \"/home/paperspace/anaconda3/envs/fastai/lib/python3.6/multiprocessing/queues.py\", line 334, in get\n",
      "    with self._rlock:\n"
     ]
    },
    {
     "name": "stdout",
     "output_type": "stream",
     "text": [
      "Warning: Could not download image 4008 from http://img.hdbs.cn/images/2015/11/11/201511111447202797220_13.jpg\n"
     ]
    },
    {
     "name": "stderr",
     "output_type": "stream",
     "text": [
      "KeyboardInterrupt\n",
      "  File \"/home/paperspace/anaconda3/envs/fastai/lib/python3.6/multiprocessing/process.py\", line 258, in _bootstrap\n",
      "    self.run()\n",
      "  File \"/home/paperspace/anaconda3/envs/fastai/lib/python3.6/multiprocessing/synchronize.py\", line 96, in __enter__\n",
      "    return self._semlock.__enter__()\n",
      "  File \"/home/paperspace/anaconda3/envs/fastai/lib/python3.6/multiprocessing/pool.py\", line 108, in worker\n",
      "    task = get()\n",
      "KeyboardInterrupt\n",
      "  File \"/home/paperspace/anaconda3/envs/fastai/lib/python3.6/multiprocessing/pool.py\", line 108, in worker\n",
      "    task = get()\n",
      "  File \"/home/paperspace/anaconda3/envs/fastai/lib/python3.6/multiprocessing/synchronize.py\", line 96, in __enter__\n",
      "    return self._semlock.__enter__()\n",
      "KeyboardInterrupt\n",
      "  File \"/home/paperspace/anaconda3/envs/fastai/lib/python3.6/multiprocessing/queues.py\", line 334, in get\n",
      "    with self._rlock:\n",
      "  File \"/home/paperspace/anaconda3/envs/fastai/lib/python3.6/multiprocessing/pool.py\", line 108, in worker\n",
      "    task = get()\n",
      "  File \"/home/paperspace/anaconda3/envs/fastai/lib/python3.6/multiprocessing/process.py\", line 93, in run\n",
      "    self._target(*self._args, **self._kwargs)\n",
      "  File \"/home/paperspace/anaconda3/envs/fastai/lib/python3.6/multiprocessing/queues.py\", line 334, in get\n",
      "    with self._rlock:\n",
      "  File \"/home/paperspace/anaconda3/envs/fastai/lib/python3.6/multiprocessing/synchronize.py\", line 96, in __enter__\n",
      "    return self._semlock.__enter__()\n",
      "KeyboardInterrupt\n",
      "  File \"/home/paperspace/anaconda3/envs/fastai/lib/python3.6/multiprocessing/queues.py\", line 334, in get\n",
      "    with self._rlock:\n",
      "  File \"/home/paperspace/anaconda3/envs/fastai/lib/python3.6/multiprocessing/pool.py\", line 108, in worker\n",
      "    task = get()\n",
      "  File \"/home/paperspace/anaconda3/envs/fastai/lib/python3.6/multiprocessing/synchronize.py\", line 96, in __enter__\n",
      "    return self._semlock.__enter__()\n",
      "  File \"/home/paperspace/anaconda3/envs/fastai/lib/python3.6/multiprocessing/synchronize.py\", line 96, in __enter__\n",
      "    return self._semlock.__enter__()\n",
      "  File \"/home/paperspace/anaconda3/envs/fastai/lib/python3.6/multiprocessing/queues.py\", line 334, in get\n",
      "    with self._rlock:\n",
      "KeyboardInterrupt\n",
      "KeyboardInterrupt\n",
      "  File \"/home/paperspace/anaconda3/envs/fastai/lib/python3.6/multiprocessing/synchronize.py\", line 96, in __enter__\n",
      "    return self._semlock.__enter__()\n",
      "KeyboardInterrupt\n",
      "/home/paperspace/anaconda3/envs/fastai/lib/python3.6/site-packages/urllib3/connectionpool.py:858: InsecureRequestWarning: Unverified HTTPS request is being made. Adding certificate verification is strongly advised. See: https://urllib3.readthedocs.io/en/latest/advanced-usage.html#ssl-warnings\n",
      "  InsecureRequestWarning)\n"
     ]
    },
    {
     "name": "stdout",
     "output_type": "stream",
     "text": [
      "Warning: Failed to save image /run/user/1000/jupyter/kernel-13865298-2072-4dbc-9200-3fc1fa1c957b.json/4076.jpg\n"
     ]
    },
    {
     "name": "stderr",
     "output_type": "stream",
     "text": [
      "/home/paperspace/anaconda3/envs/fastai/lib/python3.6/site-packages/urllib3/connectionpool.py:858: InsecureRequestWarning: Unverified HTTPS request is being made. Adding certificate verification is strongly advised. See: https://urllib3.readthedocs.io/en/latest/advanced-usage.html#ssl-warnings\n",
      "  InsecureRequestWarning)\n"
     ]
    },
    {
     "name": "stdout",
     "output_type": "stream",
     "text": [
      "Warning: Failed to save image /run/user/1000/jupyter/kernel-13865298-2072-4dbc-9200-3fc1fa1c957b.json/4191.jpg\n"
     ]
    },
    {
     "name": "stderr",
     "output_type": "stream",
     "text": [
      "/home/paperspace/anaconda3/envs/fastai/lib/python3.6/site-packages/urllib3/connectionpool.py:858: InsecureRequestWarning: Unverified HTTPS request is being made. Adding certificate verification is strongly advised. See: https://urllib3.readthedocs.io/en/latest/advanced-usage.html#ssl-warnings\n",
      "  InsecureRequestWarning)\n"
     ]
    },
    {
     "name": "stdout",
     "output_type": "stream",
     "text": [
      "Warning: Failed to save image /run/user/1000/jupyter/kernel-13865298-2072-4dbc-9200-3fc1fa1c957b.json/4251.jpg\n",
      "Warning: Failed to save image /run/user/1000/jupyter/kernel-13865298-2072-4dbc-9200-3fc1fa1c957b.json/4275.jpg\n",
      "Warning: Failed to save image /run/user/1000/jupyter/kernel-13865298-2072-4dbc-9200-3fc1fa1c957b.json/4309.jpg\n"
     ]
    },
    {
     "name": "stderr",
     "output_type": "stream",
     "text": [
      "/home/paperspace/anaconda3/envs/fastai/lib/python3.6/site-packages/urllib3/connectionpool.py:858: InsecureRequestWarning: Unverified HTTPS request is being made. Adding certificate verification is strongly advised. See: https://urllib3.readthedocs.io/en/latest/advanced-usage.html#ssl-warnings\n",
      "  InsecureRequestWarning)\n",
      "/home/paperspace/anaconda3/envs/fastai/lib/python3.6/site-packages/urllib3/connectionpool.py:858: InsecureRequestWarning: Unverified HTTPS request is being made. Adding certificate verification is strongly advised. See: https://urllib3.readthedocs.io/en/latest/advanced-usage.html#ssl-warnings\n",
      "  InsecureRequestWarning)\n"
     ]
    },
    {
     "name": "stdout",
     "output_type": "stream",
     "text": [
      "Warning: Failed to save image /run/user/1000/jupyter/kernel-13865298-2072-4dbc-9200-3fc1fa1c957b.json/4379.jpg\n",
      "Warning: Failed to save image /run/user/1000/jupyter/kernel-13865298-2072-4dbc-9200-3fc1fa1c957b.json/4382.jpg\n"
     ]
    },
    {
     "name": "stderr",
     "output_type": "stream",
     "text": [
      "/home/paperspace/anaconda3/envs/fastai/lib/python3.6/site-packages/urllib3/connectionpool.py:858: InsecureRequestWarning: Unverified HTTPS request is being made. Adding certificate verification is strongly advised. See: https://urllib3.readthedocs.io/en/latest/advanced-usage.html#ssl-warnings\n",
      "  InsecureRequestWarning)\n"
     ]
    },
    {
     "name": "stdout",
     "output_type": "stream",
     "text": [
      "Warning: Failed to save image /run/user/1000/jupyter/kernel-13865298-2072-4dbc-9200-3fc1fa1c957b.json/4438.jpg\n"
     ]
    },
    {
     "name": "stderr",
     "output_type": "stream",
     "text": [
      "/home/paperspace/anaconda3/envs/fastai/lib/python3.6/site-packages/urllib3/connectionpool.py:858: InsecureRequestWarning: Unverified HTTPS request is being made. Adding certificate verification is strongly advised. See: https://urllib3.readthedocs.io/en/latest/advanced-usage.html#ssl-warnings\n",
      "  InsecureRequestWarning)\n"
     ]
    },
    {
     "name": "stdout",
     "output_type": "stream",
     "text": [
      "Warning: Failed to save image /run/user/1000/jupyter/kernel-13865298-2072-4dbc-9200-3fc1fa1c957b.json/4455.jpg\n",
      "Warning: Failed to save image /run/user/1000/jupyter/kernel-13865298-2072-4dbc-9200-3fc1fa1c957b.json/4533.jpg\n",
      "Warning: Failed to save image /run/user/1000/jupyter/kernel-13865298-2072-4dbc-9200-3fc1fa1c957b.json/4599.jpg\n"
     ]
    },
    {
     "name": "stderr",
     "output_type": "stream",
     "text": [
      "/home/paperspace/anaconda3/envs/fastai/lib/python3.6/site-packages/urllib3/connectionpool.py:858: InsecureRequestWarning: Unverified HTTPS request is being made. Adding certificate verification is strongly advised. See: https://urllib3.readthedocs.io/en/latest/advanced-usage.html#ssl-warnings\n",
      "  InsecureRequestWarning)\n",
      "/home/paperspace/anaconda3/envs/fastai/lib/python3.6/site-packages/urllib3/connectionpool.py:858: InsecureRequestWarning: Unverified HTTPS request is being made. Adding certificate verification is strongly advised. See: https://urllib3.readthedocs.io/en/latest/advanced-usage.html#ssl-warnings\n",
      "  InsecureRequestWarning)\n"
     ]
    },
    {
     "name": "stdout",
     "output_type": "stream",
     "text": [
      "Warning: Failed to save image /run/user/1000/jupyter/kernel-13865298-2072-4dbc-9200-3fc1fa1c957b.json/4657.jpg\n",
      "Warning: Failed to save image /run/user/1000/jupyter/kernel-13865298-2072-4dbc-9200-3fc1fa1c957b.json/4700.jpg\n",
      "Warning: Failed to save image /run/user/1000/jupyter/kernel-13865298-2072-4dbc-9200-3fc1fa1c957b.json/4736.jpg\n"
     ]
    },
    {
     "name": "stderr",
     "output_type": "stream",
     "text": [
      "/home/paperspace/anaconda3/envs/fastai/lib/python3.6/site-packages/urllib3/connectionpool.py:858: InsecureRequestWarning: Unverified HTTPS request is being made. Adding certificate verification is strongly advised. See: https://urllib3.readthedocs.io/en/latest/advanced-usage.html#ssl-warnings\n",
      "  InsecureRequestWarning)\n"
     ]
    },
    {
     "name": "stdout",
     "output_type": "stream",
     "text": [
      "Warning: Failed to save image /run/user/1000/jupyter/kernel-13865298-2072-4dbc-9200-3fc1fa1c957b.json/4743.jpg\n",
      "Warning: Failed to save image /run/user/1000/jupyter/kernel-13865298-2072-4dbc-9200-3fc1fa1c957b.json/4888.jpg\n",
      "Warning: Failed to save image /run/user/1000/jupyter/kernel-13865298-2072-4dbc-9200-3fc1fa1c957b.json/4960.jpg\n",
      "Warning: Failed to save image /run/user/1000/jupyter/kernel-13865298-2072-4dbc-9200-3fc1fa1c957b.json/5009.jpg\n",
      "Warning: Failed to save image /run/user/1000/jupyter/kernel-13865298-2072-4dbc-9200-3fc1fa1c957b.json/5128.jpg\n"
     ]
    },
    {
     "name": "stderr",
     "output_type": "stream",
     "text": [
      "/home/paperspace/anaconda3/envs/fastai/lib/python3.6/site-packages/urllib3/connectionpool.py:858: InsecureRequestWarning: Unverified HTTPS request is being made. Adding certificate verification is strongly advised. See: https://urllib3.readthedocs.io/en/latest/advanced-usage.html#ssl-warnings\n",
      "  InsecureRequestWarning)\n",
      "/home/paperspace/anaconda3/envs/fastai/lib/python3.6/site-packages/urllib3/connectionpool.py:858: InsecureRequestWarning: Unverified HTTPS request is being made. Adding certificate verification is strongly advised. See: https://urllib3.readthedocs.io/en/latest/advanced-usage.html#ssl-warnings\n",
      "  InsecureRequestWarning)\n"
     ]
    },
    {
     "name": "stdout",
     "output_type": "stream",
     "text": [
      "Warning: Failed to save image /run/user/1000/jupyter/kernel-13865298-2072-4dbc-9200-3fc1fa1c957b.json/5142.jpg\n",
      "Warning: Failed to save image /run/user/1000/jupyter/kernel-13865298-2072-4dbc-9200-3fc1fa1c957b.json/5208.jpg\n"
     ]
    },
    {
     "name": "stderr",
     "output_type": "stream",
     "text": [
      "/home/paperspace/anaconda3/envs/fastai/lib/python3.6/site-packages/urllib3/connectionpool.py:858: InsecureRequestWarning: Unverified HTTPS request is being made. Adding certificate verification is strongly advised. See: https://urllib3.readthedocs.io/en/latest/advanced-usage.html#ssl-warnings\n",
      "  InsecureRequestWarning)\n"
     ]
    },
    {
     "name": "stdout",
     "output_type": "stream",
     "text": [
      "Warning: Failed to save image /run/user/1000/jupyter/kernel-13865298-2072-4dbc-9200-3fc1fa1c957b.json/5252.jpg\n",
      "Warning: Failed to save image /run/user/1000/jupyter/kernel-13865298-2072-4dbc-9200-3fc1fa1c957b.json/5314.jpg\n"
     ]
    },
    {
     "name": "stderr",
     "output_type": "stream",
     "text": [
      "/home/paperspace/anaconda3/envs/fastai/lib/python3.6/site-packages/urllib3/connectionpool.py:858: InsecureRequestWarning: Unverified HTTPS request is being made. Adding certificate verification is strongly advised. See: https://urllib3.readthedocs.io/en/latest/advanced-usage.html#ssl-warnings\n",
      "  InsecureRequestWarning)\n"
     ]
    },
    {
     "name": "stdout",
     "output_type": "stream",
     "text": [
      "Warning: Failed to save image /run/user/1000/jupyter/kernel-13865298-2072-4dbc-9200-3fc1fa1c957b.json/5329.jpg\n",
      "Warning: Failed to save image /run/user/1000/jupyter/kernel-13865298-2072-4dbc-9200-3fc1fa1c957b.json/5356.jpg\n"
     ]
    },
    {
     "name": "stderr",
     "output_type": "stream",
     "text": [
      "/home/paperspace/anaconda3/envs/fastai/lib/python3.6/site-packages/urllib3/connectionpool.py:858: InsecureRequestWarning: Unverified HTTPS request is being made. Adding certificate verification is strongly advised. See: https://urllib3.readthedocs.io/en/latest/advanced-usage.html#ssl-warnings\n",
      "  InsecureRequestWarning)\n",
      "/home/paperspace/anaconda3/envs/fastai/lib/python3.6/site-packages/urllib3/connectionpool.py:858: InsecureRequestWarning: Unverified HTTPS request is being made. Adding certificate verification is strongly advised. See: https://urllib3.readthedocs.io/en/latest/advanced-usage.html#ssl-warnings\n",
      "  InsecureRequestWarning)\n"
     ]
    },
    {
     "name": "stdout",
     "output_type": "stream",
     "text": [
      "Warning: Failed to save image /run/user/1000/jupyter/kernel-13865298-2072-4dbc-9200-3fc1fa1c957b.json/5360.jpg\n",
      "Warning: Failed to save image /run/user/1000/jupyter/kernel-13865298-2072-4dbc-9200-3fc1fa1c957b.json/5409.jpg\n"
     ]
    },
    {
     "name": "stderr",
     "output_type": "stream",
     "text": [
      "/home/paperspace/anaconda3/envs/fastai/lib/python3.6/site-packages/urllib3/connectionpool.py:858: InsecureRequestWarning: Unverified HTTPS request is being made. Adding certificate verification is strongly advised. See: https://urllib3.readthedocs.io/en/latest/advanced-usage.html#ssl-warnings\n",
      "  InsecureRequestWarning)\n"
     ]
    },
    {
     "name": "stdout",
     "output_type": "stream",
     "text": [
      "Warning: Failed to save image /run/user/1000/jupyter/kernel-13865298-2072-4dbc-9200-3fc1fa1c957b.json/5527.jpg\n"
     ]
    },
    {
     "name": "stderr",
     "output_type": "stream",
     "text": [
      "/home/paperspace/anaconda3/envs/fastai/lib/python3.6/site-packages/urllib3/connectionpool.py:858: InsecureRequestWarning: Unverified HTTPS request is being made. Adding certificate verification is strongly advised. See: https://urllib3.readthedocs.io/en/latest/advanced-usage.html#ssl-warnings\n",
      "  InsecureRequestWarning)\n"
     ]
    },
    {
     "name": "stdout",
     "output_type": "stream",
     "text": [
      "Warning: Failed to save image /run/user/1000/jupyter/kernel-13865298-2072-4dbc-9200-3fc1fa1c957b.json/5707.jpg\n",
      "Warning: Failed to save image /run/user/1000/jupyter/kernel-13865298-2072-4dbc-9200-3fc1fa1c957b.json/5734.jpg\n"
     ]
    },
    {
     "name": "stderr",
     "output_type": "stream",
     "text": [
      "/home/paperspace/anaconda3/envs/fastai/lib/python3.6/site-packages/urllib3/connectionpool.py:858: InsecureRequestWarning: Unverified HTTPS request is being made. Adding certificate verification is strongly advised. See: https://urllib3.readthedocs.io/en/latest/advanced-usage.html#ssl-warnings\n",
      "  InsecureRequestWarning)\n"
     ]
    },
    {
     "name": "stdout",
     "output_type": "stream",
     "text": [
      "Warning: Failed to save image /run/user/1000/jupyter/kernel-13865298-2072-4dbc-9200-3fc1fa1c957b.json/5736.jpg\n"
     ]
    },
    {
     "name": "stderr",
     "output_type": "stream",
     "text": [
      "/home/paperspace/anaconda3/envs/fastai/lib/python3.6/site-packages/urllib3/connectionpool.py:858: InsecureRequestWarning: Unverified HTTPS request is being made. Adding certificate verification is strongly advised. See: https://urllib3.readthedocs.io/en/latest/advanced-usage.html#ssl-warnings\n",
      "  InsecureRequestWarning)\n"
     ]
    },
    {
     "name": "stdout",
     "output_type": "stream",
     "text": [
      "Warning: Failed to save image /run/user/1000/jupyter/kernel-13865298-2072-4dbc-9200-3fc1fa1c957b.json/5777.jpg\n"
     ]
    },
    {
     "name": "stderr",
     "output_type": "stream",
     "text": [
      "/home/paperspace/anaconda3/envs/fastai/lib/python3.6/site-packages/urllib3/connectionpool.py:858: InsecureRequestWarning: Unverified HTTPS request is being made. Adding certificate verification is strongly advised. See: https://urllib3.readthedocs.io/en/latest/advanced-usage.html#ssl-warnings\n",
      "  InsecureRequestWarning)\n"
     ]
    },
    {
     "name": "stdout",
     "output_type": "stream",
     "text": [
      "Warning: Failed to save image /run/user/1000/jupyter/kernel-13865298-2072-4dbc-9200-3fc1fa1c957b.json/5816.jpg\n"
     ]
    },
    {
     "name": "stderr",
     "output_type": "stream",
     "text": [
      "/home/paperspace/anaconda3/envs/fastai/lib/python3.6/site-packages/urllib3/connectionpool.py:858: InsecureRequestWarning: Unverified HTTPS request is being made. Adding certificate verification is strongly advised. See: https://urllib3.readthedocs.io/en/latest/advanced-usage.html#ssl-warnings\n",
      "  InsecureRequestWarning)\n"
     ]
    },
    {
     "name": "stdout",
     "output_type": "stream",
     "text": [
      "Warning: Failed to save image /run/user/1000/jupyter/kernel-13865298-2072-4dbc-9200-3fc1fa1c957b.json/5832.jpg\n",
      "Warning: Failed to save image /run/user/1000/jupyter/kernel-13865298-2072-4dbc-9200-3fc1fa1c957b.json/5860.jpg\n"
     ]
    },
    {
     "name": "stderr",
     "output_type": "stream",
     "text": [
      "/home/paperspace/anaconda3/envs/fastai/lib/python3.6/site-packages/urllib3/connectionpool.py:858: InsecureRequestWarning: Unverified HTTPS request is being made. Adding certificate verification is strongly advised. See: https://urllib3.readthedocs.io/en/latest/advanced-usage.html#ssl-warnings\n",
      "  InsecureRequestWarning)\n"
     ]
    },
    {
     "name": "stdout",
     "output_type": "stream",
     "text": [
      "Warning: Failed to save image /run/user/1000/jupyter/kernel-13865298-2072-4dbc-9200-3fc1fa1c957b.json/5861.jpg\n",
      "Warning: Failed to save image /run/user/1000/jupyter/kernel-13865298-2072-4dbc-9200-3fc1fa1c957b.json/6032.jpg\n"
     ]
    },
    {
     "name": "stderr",
     "output_type": "stream",
     "text": [
      "/home/paperspace/anaconda3/envs/fastai/lib/python3.6/site-packages/urllib3/connectionpool.py:858: InsecureRequestWarning: Unverified HTTPS request is being made. Adding certificate verification is strongly advised. See: https://urllib3.readthedocs.io/en/latest/advanced-usage.html#ssl-warnings\n",
      "  InsecureRequestWarning)\n"
     ]
    },
    {
     "name": "stdout",
     "output_type": "stream",
     "text": [
      "Warning: Failed to save image /run/user/1000/jupyter/kernel-13865298-2072-4dbc-9200-3fc1fa1c957b.json/6132.jpg\n",
      "Warning: Failed to save image /run/user/1000/jupyter/kernel-13865298-2072-4dbc-9200-3fc1fa1c957b.json/6335.jpg\n",
      "Warning: Failed to parse image 6398 http://image.gojiaju.com/userfile/yuandajiahua/images/products/33051_1.jpg\n",
      "Warning: Failed to save image /run/user/1000/jupyter/kernel-13865298-2072-4dbc-9200-3fc1fa1c957b.json/6399.jpg\n"
     ]
    },
    {
     "name": "stderr",
     "output_type": "stream",
     "text": [
      "/home/paperspace/anaconda3/envs/fastai/lib/python3.6/site-packages/urllib3/connectionpool.py:858: InsecureRequestWarning: Unverified HTTPS request is being made. Adding certificate verification is strongly advised. See: https://urllib3.readthedocs.io/en/latest/advanced-usage.html#ssl-warnings\n",
      "  InsecureRequestWarning)\n",
      "/home/paperspace/anaconda3/envs/fastai/lib/python3.6/site-packages/urllib3/connectionpool.py:858: InsecureRequestWarning: Unverified HTTPS request is being made. Adding certificate verification is strongly advised. See: https://urllib3.readthedocs.io/en/latest/advanced-usage.html#ssl-warnings\n",
      "  InsecureRequestWarning)\n"
     ]
    },
    {
     "name": "stdout",
     "output_type": "stream",
     "text": [
      "Warning: Failed to save image /run/user/1000/jupyter/kernel-13865298-2072-4dbc-9200-3fc1fa1c957b.json/6408.jpg\n",
      "Warning: Failed to save image /run/user/1000/jupyter/kernel-13865298-2072-4dbc-9200-3fc1fa1c957b.json/6434.jpg\n",
      "Warning: Failed to save image /run/user/1000/jupyter/kernel-13865298-2072-4dbc-9200-3fc1fa1c957b.json/6435.jpg\n",
      "Warning: Failed to save image /run/user/1000/jupyter/kernel-13865298-2072-4dbc-9200-3fc1fa1c957b.json/6442.jpg\n"
     ]
    },
    {
     "name": "stderr",
     "output_type": "stream",
     "text": [
      "/home/paperspace/anaconda3/envs/fastai/lib/python3.6/site-packages/urllib3/connectionpool.py:858: InsecureRequestWarning: Unverified HTTPS request is being made. Adding certificate verification is strongly advised. See: https://urllib3.readthedocs.io/en/latest/advanced-usage.html#ssl-warnings\n",
      "  InsecureRequestWarning)\n"
     ]
    },
    {
     "name": "stdout",
     "output_type": "stream",
     "text": [
      "Warning: Failed to save image /run/user/1000/jupyter/kernel-13865298-2072-4dbc-9200-3fc1fa1c957b.json/6447.jpg\n",
      "Warning: Failed to save image /run/user/1000/jupyter/kernel-13865298-2072-4dbc-9200-3fc1fa1c957b.json/6535.jpg\n"
     ]
    },
    {
     "name": "stderr",
     "output_type": "stream",
     "text": [
      "/home/paperspace/anaconda3/envs/fastai/lib/python3.6/site-packages/urllib3/connectionpool.py:858: InsecureRequestWarning: Unverified HTTPS request is being made. Adding certificate verification is strongly advised. See: https://urllib3.readthedocs.io/en/latest/advanced-usage.html#ssl-warnings\n",
      "  InsecureRequestWarning)\n"
     ]
    },
    {
     "name": "stdout",
     "output_type": "stream",
     "text": [
      "Warning: Failed to save image /run/user/1000/jupyter/kernel-13865298-2072-4dbc-9200-3fc1fa1c957b.json/6647.jpg\n",
      "Warning: Failed to save image /run/user/1000/jupyter/kernel-13865298-2072-4dbc-9200-3fc1fa1c957b.json/6699.jpg\n"
     ]
    },
    {
     "name": "stderr",
     "output_type": "stream",
     "text": [
      "/home/paperspace/anaconda3/envs/fastai/lib/python3.6/site-packages/urllib3/connectionpool.py:858: InsecureRequestWarning: Unverified HTTPS request is being made. Adding certificate verification is strongly advised. See: https://urllib3.readthedocs.io/en/latest/advanced-usage.html#ssl-warnings\n",
      "  InsecureRequestWarning)\n"
     ]
    },
    {
     "name": "stdout",
     "output_type": "stream",
     "text": [
      "Warning: Failed to save image /run/user/1000/jupyter/kernel-13865298-2072-4dbc-9200-3fc1fa1c957b.json/6712.jpg\n"
     ]
    },
    {
     "name": "stderr",
     "output_type": "stream",
     "text": [
      "/home/paperspace/anaconda3/envs/fastai/lib/python3.6/site-packages/urllib3/connectionpool.py:858: InsecureRequestWarning: Unverified HTTPS request is being made. Adding certificate verification is strongly advised. See: https://urllib3.readthedocs.io/en/latest/advanced-usage.html#ssl-warnings\n",
      "  InsecureRequestWarning)\n",
      "/home/paperspace/anaconda3/envs/fastai/lib/python3.6/site-packages/urllib3/connectionpool.py:858: InsecureRequestWarning: Unverified HTTPS request is being made. Adding certificate verification is strongly advised. See: https://urllib3.readthedocs.io/en/latest/advanced-usage.html#ssl-warnings\n",
      "  InsecureRequestWarning)\n"
     ]
    },
    {
     "name": "stdout",
     "output_type": "stream",
     "text": [
      "Warning: Failed to save image /run/user/1000/jupyter/kernel-13865298-2072-4dbc-9200-3fc1fa1c957b.json/6777.jpg\n",
      "Warning: Failed to save image /run/user/1000/jupyter/kernel-13865298-2072-4dbc-9200-3fc1fa1c957b.json/6825.jpg\n"
     ]
    },
    {
     "name": "stderr",
     "output_type": "stream",
     "text": [
      "/home/paperspace/anaconda3/envs/fastai/lib/python3.6/site-packages/urllib3/connectionpool.py:858: InsecureRequestWarning: Unverified HTTPS request is being made. Adding certificate verification is strongly advised. See: https://urllib3.readthedocs.io/en/latest/advanced-usage.html#ssl-warnings\n",
      "  InsecureRequestWarning)\n"
     ]
    },
    {
     "name": "stdout",
     "output_type": "stream",
     "text": [
      "Warning: Failed to save image /run/user/1000/jupyter/kernel-13865298-2072-4dbc-9200-3fc1fa1c957b.json/6874.jpg\n"
     ]
    },
    {
     "name": "stderr",
     "output_type": "stream",
     "text": [
      "/home/paperspace/anaconda3/envs/fastai/lib/python3.6/site-packages/urllib3/connectionpool.py:858: InsecureRequestWarning: Unverified HTTPS request is being made. Adding certificate verification is strongly advised. See: https://urllib3.readthedocs.io/en/latest/advanced-usage.html#ssl-warnings\n",
      "  InsecureRequestWarning)\n"
     ]
    },
    {
     "name": "stdout",
     "output_type": "stream",
     "text": [
      "Warning: Failed to save image /run/user/1000/jupyter/kernel-13865298-2072-4dbc-9200-3fc1fa1c957b.json/6998.jpg\n"
     ]
    },
    {
     "name": "stderr",
     "output_type": "stream",
     "text": [
      "/home/paperspace/anaconda3/envs/fastai/lib/python3.6/site-packages/urllib3/connectionpool.py:858: InsecureRequestWarning: Unverified HTTPS request is being made. Adding certificate verification is strongly advised. See: https://urllib3.readthedocs.io/en/latest/advanced-usage.html#ssl-warnings\n",
      "  InsecureRequestWarning)\n"
     ]
    },
    {
     "name": "stdout",
     "output_type": "stream",
     "text": [
      "Warning: Failed to save image /run/user/1000/jupyter/kernel-13865298-2072-4dbc-9200-3fc1fa1c957b.json/7081.jpg\n",
      "Warning: Failed to save image /run/user/1000/jupyter/kernel-13865298-2072-4dbc-9200-3fc1fa1c957b.json/7394.jpg\n"
     ]
    },
    {
     "name": "stderr",
     "output_type": "stream",
     "text": [
      "/home/paperspace/anaconda3/envs/fastai/lib/python3.6/site-packages/urllib3/connectionpool.py:858: InsecureRequestWarning: Unverified HTTPS request is being made. Adding certificate verification is strongly advised. See: https://urllib3.readthedocs.io/en/latest/advanced-usage.html#ssl-warnings\n",
      "  InsecureRequestWarning)\n"
     ]
    },
    {
     "name": "stdout",
     "output_type": "stream",
     "text": [
      "Warning: Failed to save image /run/user/1000/jupyter/kernel-13865298-2072-4dbc-9200-3fc1fa1c957b.json/7441.jpg\n"
     ]
    },
    {
     "name": "stderr",
     "output_type": "stream",
     "text": [
      "/home/paperspace/anaconda3/envs/fastai/lib/python3.6/site-packages/urllib3/connectionpool.py:858: InsecureRequestWarning: Unverified HTTPS request is being made. Adding certificate verification is strongly advised. See: https://urllib3.readthedocs.io/en/latest/advanced-usage.html#ssl-warnings\n",
      "  InsecureRequestWarning)\n"
     ]
    },
    {
     "name": "stdout",
     "output_type": "stream",
     "text": [
      "Warning: Failed to save image /run/user/1000/jupyter/kernel-13865298-2072-4dbc-9200-3fc1fa1c957b.json/7497.jpg\n",
      "Warning: Failed to save image /run/user/1000/jupyter/kernel-13865298-2072-4dbc-9200-3fc1fa1c957b.json/7537.jpg\n",
      "Warning: Failed to save image /run/user/1000/jupyter/kernel-13865298-2072-4dbc-9200-3fc1fa1c957b.json/7581.jpg\n"
     ]
    },
    {
     "name": "stderr",
     "output_type": "stream",
     "text": [
      "/home/paperspace/anaconda3/envs/fastai/lib/python3.6/site-packages/urllib3/connectionpool.py:858: InsecureRequestWarning: Unverified HTTPS request is being made. Adding certificate verification is strongly advised. See: https://urllib3.readthedocs.io/en/latest/advanced-usage.html#ssl-warnings\n",
      "  InsecureRequestWarning)\n"
     ]
    },
    {
     "name": "stdout",
     "output_type": "stream",
     "text": [
      "Warning: Failed to save image /run/user/1000/jupyter/kernel-13865298-2072-4dbc-9200-3fc1fa1c957b.json/7616.jpg\n"
     ]
    },
    {
     "name": "stderr",
     "output_type": "stream",
     "text": [
      "/home/paperspace/anaconda3/envs/fastai/lib/python3.6/site-packages/urllib3/connectionpool.py:858: InsecureRequestWarning: Unverified HTTPS request is being made. Adding certificate verification is strongly advised. See: https://urllib3.readthedocs.io/en/latest/advanced-usage.html#ssl-warnings\n",
      "  InsecureRequestWarning)\n"
     ]
    },
    {
     "name": "stdout",
     "output_type": "stream",
     "text": [
      "Warning: Failed to save image /run/user/1000/jupyter/kernel-13865298-2072-4dbc-9200-3fc1fa1c957b.json/7668.jpg\n"
     ]
    },
    {
     "name": "stderr",
     "output_type": "stream",
     "text": [
      "/home/paperspace/anaconda3/envs/fastai/lib/python3.6/site-packages/urllib3/connectionpool.py:858: InsecureRequestWarning: Unverified HTTPS request is being made. Adding certificate verification is strongly advised. See: https://urllib3.readthedocs.io/en/latest/advanced-usage.html#ssl-warnings\n",
      "  InsecureRequestWarning)\n",
      "/home/paperspace/anaconda3/envs/fastai/lib/python3.6/site-packages/urllib3/connectionpool.py:858: InsecureRequestWarning: Unverified HTTPS request is being made. Adding certificate verification is strongly advised. See: https://urllib3.readthedocs.io/en/latest/advanced-usage.html#ssl-warnings\n",
      "  InsecureRequestWarning)\n"
     ]
    },
    {
     "name": "stdout",
     "output_type": "stream",
     "text": [
      "Warning: Failed to save image /run/user/1000/jupyter/kernel-13865298-2072-4dbc-9200-3fc1fa1c957b.json/7830.jpg\n",
      "Warning: Failed to save image /run/user/1000/jupyter/kernel-13865298-2072-4dbc-9200-3fc1fa1c957b.json/7856.jpg\n",
      "Warning: Failed to save image /run/user/1000/jupyter/kernel-13865298-2072-4dbc-9200-3fc1fa1c957b.json/7877.jpg\n"
     ]
    },
    {
     "name": "stderr",
     "output_type": "stream",
     "text": [
      "/home/paperspace/anaconda3/envs/fastai/lib/python3.6/site-packages/urllib3/connectionpool.py:858: InsecureRequestWarning: Unverified HTTPS request is being made. Adding certificate verification is strongly advised. See: https://urllib3.readthedocs.io/en/latest/advanced-usage.html#ssl-warnings\n",
      "  InsecureRequestWarning)\n"
     ]
    },
    {
     "name": "stdout",
     "output_type": "stream",
     "text": [
      "Warning: Failed to save image /run/user/1000/jupyter/kernel-13865298-2072-4dbc-9200-3fc1fa1c957b.json/7882.jpg\n"
     ]
    },
    {
     "name": "stderr",
     "output_type": "stream",
     "text": [
      "/home/paperspace/anaconda3/envs/fastai/lib/python3.6/site-packages/urllib3/connectionpool.py:858: InsecureRequestWarning: Unverified HTTPS request is being made. Adding certificate verification is strongly advised. See: https://urllib3.readthedocs.io/en/latest/advanced-usage.html#ssl-warnings\n",
      "  InsecureRequestWarning)\n"
     ]
    },
    {
     "name": "stdout",
     "output_type": "stream",
     "text": [
      "Warning: Failed to save image /run/user/1000/jupyter/kernel-13865298-2072-4dbc-9200-3fc1fa1c957b.json/7903.jpg\n"
     ]
    },
    {
     "name": "stderr",
     "output_type": "stream",
     "text": [
      "/home/paperspace/anaconda3/envs/fastai/lib/python3.6/site-packages/urllib3/connectionpool.py:858: InsecureRequestWarning: Unverified HTTPS request is being made. Adding certificate verification is strongly advised. See: https://urllib3.readthedocs.io/en/latest/advanced-usage.html#ssl-warnings\n",
      "  InsecureRequestWarning)\n"
     ]
    },
    {
     "name": "stdout",
     "output_type": "stream",
     "text": [
      "Warning: Failed to save image /run/user/1000/jupyter/kernel-13865298-2072-4dbc-9200-3fc1fa1c957b.json/7996.jpg\n"
     ]
    },
    {
     "name": "stderr",
     "output_type": "stream",
     "text": [
      "/home/paperspace/anaconda3/envs/fastai/lib/python3.6/site-packages/urllib3/connectionpool.py:858: InsecureRequestWarning: Unverified HTTPS request is being made. Adding certificate verification is strongly advised. See: https://urllib3.readthedocs.io/en/latest/advanced-usage.html#ssl-warnings\n",
      "  InsecureRequestWarning)\n"
     ]
    },
    {
     "name": "stdout",
     "output_type": "stream",
     "text": [
      "Warning: Failed to save image /run/user/1000/jupyter/kernel-13865298-2072-4dbc-9200-3fc1fa1c957b.json/8093.jpg\n",
      "Warning: Failed to save image /run/user/1000/jupyter/kernel-13865298-2072-4dbc-9200-3fc1fa1c957b.json/8162.jpg\n"
     ]
    },
    {
     "name": "stderr",
     "output_type": "stream",
     "text": [
      "/home/paperspace/anaconda3/envs/fastai/lib/python3.6/site-packages/urllib3/connectionpool.py:858: InsecureRequestWarning: Unverified HTTPS request is being made. Adding certificate verification is strongly advised. See: https://urllib3.readthedocs.io/en/latest/advanced-usage.html#ssl-warnings\n",
      "  InsecureRequestWarning)\n"
     ]
    },
    {
     "name": "stdout",
     "output_type": "stream",
     "text": [
      "Warning: Failed to save image /run/user/1000/jupyter/kernel-13865298-2072-4dbc-9200-3fc1fa1c957b.json/8203.jpg\n",
      "Warning: Failed to save image /run/user/1000/jupyter/kernel-13865298-2072-4dbc-9200-3fc1fa1c957b.json/8251.jpg\n",
      "Warning: Failed to save image /run/user/1000/jupyter/kernel-13865298-2072-4dbc-9200-3fc1fa1c957b.json/8310.jpg\n",
      "Warning: Failed to save image /run/user/1000/jupyter/kernel-13865298-2072-4dbc-9200-3fc1fa1c957b.json/8344.jpg\n",
      "Warning: Failed to save image /run/user/1000/jupyter/kernel-13865298-2072-4dbc-9200-3fc1fa1c957b.json/8387.jpg\n"
     ]
    },
    {
     "name": "stderr",
     "output_type": "stream",
     "text": [
      "/home/paperspace/anaconda3/envs/fastai/lib/python3.6/site-packages/urllib3/connectionpool.py:858: InsecureRequestWarning: Unverified HTTPS request is being made. Adding certificate verification is strongly advised. See: https://urllib3.readthedocs.io/en/latest/advanced-usage.html#ssl-warnings\n",
      "  InsecureRequestWarning)\n",
      "/home/paperspace/anaconda3/envs/fastai/lib/python3.6/site-packages/urllib3/connectionpool.py:858: InsecureRequestWarning: Unverified HTTPS request is being made. Adding certificate verification is strongly advised. See: https://urllib3.readthedocs.io/en/latest/advanced-usage.html#ssl-warnings\n",
      "  InsecureRequestWarning)\n"
     ]
    },
    {
     "name": "stdout",
     "output_type": "stream",
     "text": [
      "Warning: Failed to save image /run/user/1000/jupyter/kernel-13865298-2072-4dbc-9200-3fc1fa1c957b.json/8408.jpg\n"
     ]
    },
    {
     "name": "stderr",
     "output_type": "stream",
     "text": [
      "/home/paperspace/anaconda3/envs/fastai/lib/python3.6/site-packages/urllib3/connectionpool.py:858: InsecureRequestWarning: Unverified HTTPS request is being made. Adding certificate verification is strongly advised. See: https://urllib3.readthedocs.io/en/latest/advanced-usage.html#ssl-warnings\n",
      "  InsecureRequestWarning)\n"
     ]
    },
    {
     "name": "stdout",
     "output_type": "stream",
     "text": [
      "Warning: Failed to save image /run/user/1000/jupyter/kernel-13865298-2072-4dbc-9200-3fc1fa1c957b.json/8524.jpg\n",
      "Warning: Failed to save image /run/user/1000/jupyter/kernel-13865298-2072-4dbc-9200-3fc1fa1c957b.json/8533.jpg\n",
      "Warning: Failed to save image /run/user/1000/jupyter/kernel-13865298-2072-4dbc-9200-3fc1fa1c957b.json/8536.jpg\n",
      "Warning: Failed to parse image 8569 http://opic.tbscache.com/manage/articles/2013/11-09/83D31222-6699-4CD1-9E91-6F90C41F059C.jpg\n"
     ]
    },
    {
     "name": "stderr",
     "output_type": "stream",
     "text": [
      "/home/paperspace/anaconda3/envs/fastai/lib/python3.6/site-packages/urllib3/connectionpool.py:858: InsecureRequestWarning: Unverified HTTPS request is being made. Adding certificate verification is strongly advised. See: https://urllib3.readthedocs.io/en/latest/advanced-usage.html#ssl-warnings\n",
      "  InsecureRequestWarning)\n"
     ]
    },
    {
     "name": "stdout",
     "output_type": "stream",
     "text": [
      "Warning: Failed to save image /run/user/1000/jupyter/kernel-13865298-2072-4dbc-9200-3fc1fa1c957b.json/8570.jpg\n",
      "Warning: Failed to save image /run/user/1000/jupyter/kernel-13865298-2072-4dbc-9200-3fc1fa1c957b.json/8783.jpg\n"
     ]
    },
    {
     "name": "stderr",
     "output_type": "stream",
     "text": [
      "/home/paperspace/anaconda3/envs/fastai/lib/python3.6/site-packages/urllib3/connectionpool.py:858: InsecureRequestWarning: Unverified HTTPS request is being made. Adding certificate verification is strongly advised. See: https://urllib3.readthedocs.io/en/latest/advanced-usage.html#ssl-warnings\n",
      "  InsecureRequestWarning)\n"
     ]
    },
    {
     "name": "stdout",
     "output_type": "stream",
     "text": [
      "Warning: Failed to save image /run/user/1000/jupyter/kernel-13865298-2072-4dbc-9200-3fc1fa1c957b.json/8847.jpg\n"
     ]
    },
    {
     "name": "stderr",
     "output_type": "stream",
     "text": [
      "/home/paperspace/anaconda3/envs/fastai/lib/python3.6/site-packages/urllib3/connectionpool.py:858: InsecureRequestWarning: Unverified HTTPS request is being made. Adding certificate verification is strongly advised. See: https://urllib3.readthedocs.io/en/latest/advanced-usage.html#ssl-warnings\n",
      "  InsecureRequestWarning)\n"
     ]
    },
    {
     "name": "stdout",
     "output_type": "stream",
     "text": [
      "Warning: Failed to save image /run/user/1000/jupyter/kernel-13865298-2072-4dbc-9200-3fc1fa1c957b.json/8975.jpg\n"
     ]
    },
    {
     "name": "stderr",
     "output_type": "stream",
     "text": [
      "/home/paperspace/anaconda3/envs/fastai/lib/python3.6/site-packages/urllib3/connectionpool.py:858: InsecureRequestWarning: Unverified HTTPS request is being made. Adding certificate verification is strongly advised. See: https://urllib3.readthedocs.io/en/latest/advanced-usage.html#ssl-warnings\n",
      "  InsecureRequestWarning)\n"
     ]
    },
    {
     "name": "stdout",
     "output_type": "stream",
     "text": [
      "Warning: Failed to save image /run/user/1000/jupyter/kernel-13865298-2072-4dbc-9200-3fc1fa1c957b.json/8999.jpg\n"
     ]
    },
    {
     "name": "stderr",
     "output_type": "stream",
     "text": [
      "/home/paperspace/anaconda3/envs/fastai/lib/python3.6/site-packages/urllib3/connectionpool.py:858: InsecureRequestWarning: Unverified HTTPS request is being made. Adding certificate verification is strongly advised. See: https://urllib3.readthedocs.io/en/latest/advanced-usage.html#ssl-warnings\n",
      "  InsecureRequestWarning)\n"
     ]
    },
    {
     "name": "stdout",
     "output_type": "stream",
     "text": [
      "Warning: Failed to save image /run/user/1000/jupyter/kernel-13865298-2072-4dbc-9200-3fc1fa1c957b.json/9024.jpg\n",
      "Warning: Failed to save image /run/user/1000/jupyter/kernel-13865298-2072-4dbc-9200-3fc1fa1c957b.json/9064.jpg\n",
      "Warning: Failed to save image /run/user/1000/jupyter/kernel-13865298-2072-4dbc-9200-3fc1fa1c957b.json/9194.jpg\n"
     ]
    },
    {
     "name": "stderr",
     "output_type": "stream",
     "text": [
      "/home/paperspace/anaconda3/envs/fastai/lib/python3.6/site-packages/urllib3/connectionpool.py:858: InsecureRequestWarning: Unverified HTTPS request is being made. Adding certificate verification is strongly advised. See: https://urllib3.readthedocs.io/en/latest/advanced-usage.html#ssl-warnings\n",
      "  InsecureRequestWarning)\n"
     ]
    },
    {
     "name": "stdout",
     "output_type": "stream",
     "text": [
      "Warning: Failed to save image /run/user/1000/jupyter/kernel-13865298-2072-4dbc-9200-3fc1fa1c957b.json/9198.jpg\n"
     ]
    },
    {
     "name": "stderr",
     "output_type": "stream",
     "text": [
      "/home/paperspace/anaconda3/envs/fastai/lib/python3.6/site-packages/urllib3/connectionpool.py:858: InsecureRequestWarning: Unverified HTTPS request is being made. Adding certificate verification is strongly advised. See: https://urllib3.readthedocs.io/en/latest/advanced-usage.html#ssl-warnings\n",
      "  InsecureRequestWarning)\n"
     ]
    },
    {
     "name": "stdout",
     "output_type": "stream",
     "text": [
      "Warning: Failed to save image /run/user/1000/jupyter/kernel-13865298-2072-4dbc-9200-3fc1fa1c957b.json/9237.jpg\n"
     ]
    },
    {
     "name": "stderr",
     "output_type": "stream",
     "text": [
      "/home/paperspace/anaconda3/envs/fastai/lib/python3.6/site-packages/urllib3/connectionpool.py:858: InsecureRequestWarning: Unverified HTTPS request is being made. Adding certificate verification is strongly advised. See: https://urllib3.readthedocs.io/en/latest/advanced-usage.html#ssl-warnings\n",
      "  InsecureRequestWarning)\n",
      "/home/paperspace/anaconda3/envs/fastai/lib/python3.6/site-packages/urllib3/connectionpool.py:858: InsecureRequestWarning: Unverified HTTPS request is being made. Adding certificate verification is strongly advised. See: https://urllib3.readthedocs.io/en/latest/advanced-usage.html#ssl-warnings\n",
      "  InsecureRequestWarning)\n"
     ]
    },
    {
     "name": "stdout",
     "output_type": "stream",
     "text": [
      "Warning: Failed to save image /run/user/1000/jupyter/kernel-13865298-2072-4dbc-9200-3fc1fa1c957b.json/9252.jpg\n",
      "Warning: Failed to save image /run/user/1000/jupyter/kernel-13865298-2072-4dbc-9200-3fc1fa1c957b.json/9263.jpg\n",
      "Warning: Failed to save image /run/user/1000/jupyter/kernel-13865298-2072-4dbc-9200-3fc1fa1c957b.json/9434.jpg\n"
     ]
    },
    {
     "name": "stderr",
     "output_type": "stream",
     "text": [
      "/home/paperspace/anaconda3/envs/fastai/lib/python3.6/site-packages/urllib3/connectionpool.py:858: InsecureRequestWarning: Unverified HTTPS request is being made. Adding certificate verification is strongly advised. See: https://urllib3.readthedocs.io/en/latest/advanced-usage.html#ssl-warnings\n",
      "  InsecureRequestWarning)\n",
      "/home/paperspace/anaconda3/envs/fastai/lib/python3.6/site-packages/urllib3/connectionpool.py:858: InsecureRequestWarning: Unverified HTTPS request is being made. Adding certificate verification is strongly advised. See: https://urllib3.readthedocs.io/en/latest/advanced-usage.html#ssl-warnings\n",
      "  InsecureRequestWarning)\n"
     ]
    },
    {
     "name": "stdout",
     "output_type": "stream",
     "text": [
      "Warning: Failed to save image /run/user/1000/jupyter/kernel-13865298-2072-4dbc-9200-3fc1fa1c957b.json/9550.jpg\n",
      "Warning: Failed to save image /run/user/1000/jupyter/kernel-13865298-2072-4dbc-9200-3fc1fa1c957b.json/9754.jpg\n"
     ]
    },
    {
     "name": "stderr",
     "output_type": "stream",
     "text": [
      "/home/paperspace/anaconda3/envs/fastai/lib/python3.6/site-packages/urllib3/connectionpool.py:858: InsecureRequestWarning: Unverified HTTPS request is being made. Adding certificate verification is strongly advised. See: https://urllib3.readthedocs.io/en/latest/advanced-usage.html#ssl-warnings\n",
      "  InsecureRequestWarning)\n"
     ]
    },
    {
     "name": "stdout",
     "output_type": "stream",
     "text": [
      "Warning: Failed to save image /run/user/1000/jupyter/kernel-13865298-2072-4dbc-9200-3fc1fa1c957b.json/9797.jpg\n",
      "Warning: Failed to save image /run/user/1000/jupyter/kernel-13865298-2072-4dbc-9200-3fc1fa1c957b.json/9916.jpg\n"
     ]
    },
    {
     "name": "stderr",
     "output_type": "stream",
     "text": [
      "/home/paperspace/anaconda3/envs/fastai/lib/python3.6/site-packages/urllib3/connectionpool.py:858: InsecureRequestWarning: Unverified HTTPS request is being made. Adding certificate verification is strongly advised. See: https://urllib3.readthedocs.io/en/latest/advanced-usage.html#ssl-warnings\n",
      "  InsecureRequestWarning)\n",
      "/home/paperspace/anaconda3/envs/fastai/lib/python3.6/site-packages/urllib3/connectionpool.py:858: InsecureRequestWarning: Unverified HTTPS request is being made. Adding certificate verification is strongly advised. See: https://urllib3.readthedocs.io/en/latest/advanced-usage.html#ssl-warnings\n",
      "  InsecureRequestWarning)\n"
     ]
    },
    {
     "name": "stdout",
     "output_type": "stream",
     "text": [
      "Warning: Failed to save image /run/user/1000/jupyter/kernel-13865298-2072-4dbc-9200-3fc1fa1c957b.json/9971.jpg\n"
     ]
    },
    {
     "name": "stderr",
     "output_type": "stream",
     "text": [
      "/home/paperspace/anaconda3/envs/fastai/lib/python3.6/site-packages/urllib3/connectionpool.py:858: InsecureRequestWarning: Unverified HTTPS request is being made. Adding certificate verification is strongly advised. See: https://urllib3.readthedocs.io/en/latest/advanced-usage.html#ssl-warnings\n",
      "  InsecureRequestWarning)\n",
      "/home/paperspace/anaconda3/envs/fastai/lib/python3.6/site-packages/urllib3/connectionpool.py:858: InsecureRequestWarning: Unverified HTTPS request is being made. Adding certificate verification is strongly advised. See: https://urllib3.readthedocs.io/en/latest/advanced-usage.html#ssl-warnings\n",
      "  InsecureRequestWarning)\n"
     ]
    },
    {
     "name": "stdout",
     "output_type": "stream",
     "text": [
      "Warning: Failed to save image /run/user/1000/jupyter/kernel-13865298-2072-4dbc-9200-3fc1fa1c957b.json/9982.jpg\n",
      "Warning: Failed to save image /run/user/1000/jupyter/kernel-13865298-2072-4dbc-9200-3fc1fa1c957b.json/10034.jpg\n",
      "Warning: Failed to save image /run/user/1000/jupyter/kernel-13865298-2072-4dbc-9200-3fc1fa1c957b.json/10089.jpg\n"
     ]
    },
    {
     "name": "stderr",
     "output_type": "stream",
     "text": [
      "/home/paperspace/anaconda3/envs/fastai/lib/python3.6/site-packages/urllib3/connectionpool.py:858: InsecureRequestWarning: Unverified HTTPS request is being made. Adding certificate verification is strongly advised. See: https://urllib3.readthedocs.io/en/latest/advanced-usage.html#ssl-warnings\n",
      "  InsecureRequestWarning)\n",
      "/home/paperspace/anaconda3/envs/fastai/lib/python3.6/site-packages/urllib3/connectionpool.py:858: InsecureRequestWarning: Unverified HTTPS request is being made. Adding certificate verification is strongly advised. See: https://urllib3.readthedocs.io/en/latest/advanced-usage.html#ssl-warnings\n",
      "  InsecureRequestWarning)\n"
     ]
    },
    {
     "name": "stdout",
     "output_type": "stream",
     "text": [
      "Warning: Failed to save image /run/user/1000/jupyter/kernel-13865298-2072-4dbc-9200-3fc1fa1c957b.json/10107.jpg\n",
      "Warning: Failed to save image /run/user/1000/jupyter/kernel-13865298-2072-4dbc-9200-3fc1fa1c957b.json/10158.jpg\n"
     ]
    },
    {
     "name": "stderr",
     "output_type": "stream",
     "text": [
      "/home/paperspace/anaconda3/envs/fastai/lib/python3.6/site-packages/urllib3/connectionpool.py:858: InsecureRequestWarning: Unverified HTTPS request is being made. Adding certificate verification is strongly advised. See: https://urllib3.readthedocs.io/en/latest/advanced-usage.html#ssl-warnings\n",
      "  InsecureRequestWarning)\n"
     ]
    },
    {
     "name": "stdout",
     "output_type": "stream",
     "text": [
      "Warning: Failed to save image /run/user/1000/jupyter/kernel-13865298-2072-4dbc-9200-3fc1fa1c957b.json/10168.jpg\n"
     ]
    },
    {
     "name": "stderr",
     "output_type": "stream",
     "text": [
      "/home/paperspace/anaconda3/envs/fastai/lib/python3.6/site-packages/urllib3/connectionpool.py:858: InsecureRequestWarning: Unverified HTTPS request is being made. Adding certificate verification is strongly advised. See: https://urllib3.readthedocs.io/en/latest/advanced-usage.html#ssl-warnings\n",
      "  InsecureRequestWarning)\n"
     ]
    },
    {
     "name": "stdout",
     "output_type": "stream",
     "text": [
      "Warning: Failed to save image /run/user/1000/jupyter/kernel-13865298-2072-4dbc-9200-3fc1fa1c957b.json/10233.jpg\n"
     ]
    },
    {
     "name": "stderr",
     "output_type": "stream",
     "text": [
      "/home/paperspace/anaconda3/envs/fastai/lib/python3.6/site-packages/urllib3/connectionpool.py:858: InsecureRequestWarning: Unverified HTTPS request is being made. Adding certificate verification is strongly advised. See: https://urllib3.readthedocs.io/en/latest/advanced-usage.html#ssl-warnings\n",
      "  InsecureRequestWarning)\n"
     ]
    },
    {
     "name": "stdout",
     "output_type": "stream",
     "text": [
      "Warning: Failed to save image /run/user/1000/jupyter/kernel-13865298-2072-4dbc-9200-3fc1fa1c957b.json/10509.jpg\n",
      "Warning: Failed to save image /run/user/1000/jupyter/kernel-13865298-2072-4dbc-9200-3fc1fa1c957b.json/10535.jpg\n"
     ]
    },
    {
     "name": "stderr",
     "output_type": "stream",
     "text": [
      "/home/paperspace/anaconda3/envs/fastai/lib/python3.6/site-packages/urllib3/connectionpool.py:858: InsecureRequestWarning: Unverified HTTPS request is being made. Adding certificate verification is strongly advised. See: https://urllib3.readthedocs.io/en/latest/advanced-usage.html#ssl-warnings\n",
      "  InsecureRequestWarning)\n"
     ]
    },
    {
     "name": "stdout",
     "output_type": "stream",
     "text": [
      "Warning: Failed to save image /run/user/1000/jupyter/kernel-13865298-2072-4dbc-9200-3fc1fa1c957b.json/10597.jpg\n"
     ]
    },
    {
     "name": "stderr",
     "output_type": "stream",
     "text": [
      "/home/paperspace/anaconda3/envs/fastai/lib/python3.6/site-packages/urllib3/connectionpool.py:858: InsecureRequestWarning: Unverified HTTPS request is being made. Adding certificate verification is strongly advised. See: https://urllib3.readthedocs.io/en/latest/advanced-usage.html#ssl-warnings\n",
      "  InsecureRequestWarning)\n"
     ]
    },
    {
     "name": "stdout",
     "output_type": "stream",
     "text": [
      "Warning: Failed to save image /run/user/1000/jupyter/kernel-13865298-2072-4dbc-9200-3fc1fa1c957b.json/10628.jpg\n"
     ]
    },
    {
     "name": "stderr",
     "output_type": "stream",
     "text": [
      "/home/paperspace/anaconda3/envs/fastai/lib/python3.6/site-packages/urllib3/connectionpool.py:858: InsecureRequestWarning: Unverified HTTPS request is being made. Adding certificate verification is strongly advised. See: https://urllib3.readthedocs.io/en/latest/advanced-usage.html#ssl-warnings\n",
      "  InsecureRequestWarning)\n"
     ]
    },
    {
     "name": "stdout",
     "output_type": "stream",
     "text": [
      "Warning: Failed to save image /run/user/1000/jupyter/kernel-13865298-2072-4dbc-9200-3fc1fa1c957b.json/10688.jpg\n"
     ]
    },
    {
     "name": "stderr",
     "output_type": "stream",
     "text": [
      "/home/paperspace/anaconda3/envs/fastai/lib/python3.6/site-packages/urllib3/connectionpool.py:858: InsecureRequestWarning: Unverified HTTPS request is being made. Adding certificate verification is strongly advised. See: https://urllib3.readthedocs.io/en/latest/advanced-usage.html#ssl-warnings\n",
      "  InsecureRequestWarning)\n",
      "/home/paperspace/anaconda3/envs/fastai/lib/python3.6/site-packages/urllib3/connectionpool.py:858: InsecureRequestWarning: Unverified HTTPS request is being made. Adding certificate verification is strongly advised. See: https://urllib3.readthedocs.io/en/latest/advanced-usage.html#ssl-warnings\n",
      "  InsecureRequestWarning)\n"
     ]
    },
    {
     "name": "stdout",
     "output_type": "stream",
     "text": [
      "Warning: Failed to save image /run/user/1000/jupyter/kernel-13865298-2072-4dbc-9200-3fc1fa1c957b.json/10756.jpg\n",
      "Warning: Failed to save image /run/user/1000/jupyter/kernel-13865298-2072-4dbc-9200-3fc1fa1c957b.json/10782.jpg\n",
      "Warning: Failed to save image /run/user/1000/jupyter/kernel-13865298-2072-4dbc-9200-3fc1fa1c957b.json/10851.jpg\n",
      "Warning: Failed to save image /run/user/1000/jupyter/kernel-13865298-2072-4dbc-9200-3fc1fa1c957b.json/10970.jpg\n"
     ]
    },
    {
     "name": "stderr",
     "output_type": "stream",
     "text": [
      "/home/paperspace/anaconda3/envs/fastai/lib/python3.6/site-packages/urllib3/connectionpool.py:858: InsecureRequestWarning: Unverified HTTPS request is being made. Adding certificate verification is strongly advised. See: https://urllib3.readthedocs.io/en/latest/advanced-usage.html#ssl-warnings\n",
      "  InsecureRequestWarning)\n"
     ]
    },
    {
     "name": "stdout",
     "output_type": "stream",
     "text": [
      "Warning: Failed to save image /run/user/1000/jupyter/kernel-13865298-2072-4dbc-9200-3fc1fa1c957b.json/11089.jpg\n"
     ]
    },
    {
     "name": "stderr",
     "output_type": "stream",
     "text": [
      "/home/paperspace/anaconda3/envs/fastai/lib/python3.6/site-packages/urllib3/connectionpool.py:858: InsecureRequestWarning: Unverified HTTPS request is being made. Adding certificate verification is strongly advised. See: https://urllib3.readthedocs.io/en/latest/advanced-usage.html#ssl-warnings\n",
      "  InsecureRequestWarning)\n"
     ]
    },
    {
     "name": "stdout",
     "output_type": "stream",
     "text": [
      "Warning: Failed to save image /run/user/1000/jupyter/kernel-13865298-2072-4dbc-9200-3fc1fa1c957b.json/11199.jpg\n",
      "Warning: Failed to save image /run/user/1000/jupyter/kernel-13865298-2072-4dbc-9200-3fc1fa1c957b.json/11289.jpg\n",
      "Warning: Failed to save image /run/user/1000/jupyter/kernel-13865298-2072-4dbc-9200-3fc1fa1c957b.json/11544.jpg\n",
      "Warning: Failed to save image /run/user/1000/jupyter/kernel-13865298-2072-4dbc-9200-3fc1fa1c957b.json/11602.jpg\n",
      "Warning: Failed to save image /run/user/1000/jupyter/kernel-13865298-2072-4dbc-9200-3fc1fa1c957b.json/11625.jpg\n"
     ]
    },
    {
     "name": "stderr",
     "output_type": "stream",
     "text": [
      "/home/paperspace/anaconda3/envs/fastai/lib/python3.6/site-packages/urllib3/connectionpool.py:858: InsecureRequestWarning: Unverified HTTPS request is being made. Adding certificate verification is strongly advised. See: https://urllib3.readthedocs.io/en/latest/advanced-usage.html#ssl-warnings\n",
      "  InsecureRequestWarning)\n"
     ]
    },
    {
     "name": "stdout",
     "output_type": "stream",
     "text": [
      "Warning: Failed to save image /run/user/1000/jupyter/kernel-13865298-2072-4dbc-9200-3fc1fa1c957b.json/11634.jpg\n"
     ]
    },
    {
     "name": "stderr",
     "output_type": "stream",
     "text": [
      "/home/paperspace/anaconda3/envs/fastai/lib/python3.6/site-packages/urllib3/connectionpool.py:858: InsecureRequestWarning: Unverified HTTPS request is being made. Adding certificate verification is strongly advised. See: https://urllib3.readthedocs.io/en/latest/advanced-usage.html#ssl-warnings\n",
      "  InsecureRequestWarning)\n"
     ]
    },
    {
     "name": "stdout",
     "output_type": "stream",
     "text": [
      "Warning: Failed to save image /run/user/1000/jupyter/kernel-13865298-2072-4dbc-9200-3fc1fa1c957b.json/11659.jpg\n",
      "Warning: Failed to save image /run/user/1000/jupyter/kernel-13865298-2072-4dbc-9200-3fc1fa1c957b.json/11702.jpg\n",
      "Warning: Failed to save image /run/user/1000/jupyter/kernel-13865298-2072-4dbc-9200-3fc1fa1c957b.json/11704.jpg\n"
     ]
    },
    {
     "name": "stderr",
     "output_type": "stream",
     "text": [
      "/home/paperspace/anaconda3/envs/fastai/lib/python3.6/site-packages/urllib3/connectionpool.py:858: InsecureRequestWarning: Unverified HTTPS request is being made. Adding certificate verification is strongly advised. See: https://urllib3.readthedocs.io/en/latest/advanced-usage.html#ssl-warnings\n",
      "  InsecureRequestWarning)\n"
     ]
    },
    {
     "name": "stdout",
     "output_type": "stream",
     "text": [
      "Warning: Failed to save image /run/user/1000/jupyter/kernel-13865298-2072-4dbc-9200-3fc1fa1c957b.json/11800.jpg\n"
     ]
    },
    {
     "name": "stderr",
     "output_type": "stream",
     "text": [
      "/home/paperspace/anaconda3/envs/fastai/lib/python3.6/site-packages/urllib3/connectionpool.py:858: InsecureRequestWarning: Unverified HTTPS request is being made. Adding certificate verification is strongly advised. See: https://urllib3.readthedocs.io/en/latest/advanced-usage.html#ssl-warnings\n",
      "  InsecureRequestWarning)\n"
     ]
    },
    {
     "name": "stdout",
     "output_type": "stream",
     "text": [
      "Warning: Failed to save image /run/user/1000/jupyter/kernel-13865298-2072-4dbc-9200-3fc1fa1c957b.json/11876.jpg\n",
      "Warning: Failed to save image /run/user/1000/jupyter/kernel-13865298-2072-4dbc-9200-3fc1fa1c957b.json/11980.jpg\n",
      "Warning: Failed to save image /run/user/1000/jupyter/kernel-13865298-2072-4dbc-9200-3fc1fa1c957b.json/12016.jpg\n",
      "Warning: Failed to save image /run/user/1000/jupyter/kernel-13865298-2072-4dbc-9200-3fc1fa1c957b.json/12024.jpg\n"
     ]
    },
    {
     "name": "stderr",
     "output_type": "stream",
     "text": [
      "/home/paperspace/anaconda3/envs/fastai/lib/python3.6/site-packages/urllib3/connectionpool.py:858: InsecureRequestWarning: Unverified HTTPS request is being made. Adding certificate verification is strongly advised. See: https://urllib3.readthedocs.io/en/latest/advanced-usage.html#ssl-warnings\n",
      "  InsecureRequestWarning)\n",
      "/home/paperspace/anaconda3/envs/fastai/lib/python3.6/site-packages/urllib3/connectionpool.py:858: InsecureRequestWarning: Unverified HTTPS request is being made. Adding certificate verification is strongly advised. See: https://urllib3.readthedocs.io/en/latest/advanced-usage.html#ssl-warnings\n",
      "  InsecureRequestWarning)\n"
     ]
    },
    {
     "name": "stdout",
     "output_type": "stream",
     "text": [
      "Warning: Failed to save image /run/user/1000/jupyter/kernel-13865298-2072-4dbc-9200-3fc1fa1c957b.json/12039.jpg\n"
     ]
    }
   ],
   "source": [
    "key_url_list = ParseData(f'{PATH}test.json', missingno)\n",
    "pool = multiprocessing.Pool(processes=12)\n",
    "\n",
    "for kurl in key_url_list:\n",
    "    DownloadImage(kurl)"
   ]
  },
  {
   "cell_type": "code",
   "execution_count": null,
   "metadata": {},
   "outputs": [],
   "source": []
  }
 ],
 "metadata": {
  "kernelspec": {
   "display_name": "Python 3",
   "language": "python",
   "name": "python3"
  },
  "language_info": {
   "codemirror_mode": {
    "name": "ipython",
    "version": 3
   },
   "file_extension": ".py",
   "mimetype": "text/x-python",
   "name": "python",
   "nbconvert_exporter": "python",
   "pygments_lexer": "ipython3",
   "version": "3.6.4"
  }
 },
 "nbformat": 4,
 "nbformat_minor": 2
}
